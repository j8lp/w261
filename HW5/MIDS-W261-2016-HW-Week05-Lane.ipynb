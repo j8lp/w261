{
 "cells": [
  {
   "cell_type": "markdown",
   "metadata": {},
   "source": [
    "# DATASCI W261: Machine Learning at Scale\n",
    "## Assignment Week 5\n",
    "Jackson Lane (jelane@berkeley.edu) <br>\n",
    "W261-3 <br>\n",
    "\n",
    "\n",
    "# === Week 5 ASSIGNMENTS ===\n",
    "\n",
    "## HW 5.0\n",
    "#### What is a data warehouse? \n",
    "A data warehouse is repository storing structured data used for reporting and analytics.  It's kind of like a database that is used for analytics instead of transactions (OLAP vs OLTP).  Often a data warehouse pulls data or is built on top of one or more other databases or data warehouses.  However, data warehouses are structured, so they have to extract and transform data prior to storing it.  The benefit of this is that users do not need to deal with the different naming conventions and data models of the backend systems and instead can write queries against one universal semantic view.  "
   ]
  },
  {
   "cell_type": "markdown",
   "metadata": {},
   "source": [
    "#### What is a Star schema? When is it used?"
   ]
  },
  {
   "cell_type": "markdown",
   "metadata": {},
   "source": [
    "## HW 5.1\n",
    "#### In the database world What is 3NF? \n",
    "\n",
    "Does machine learning use data in 3NF? If so why? \n",
    "\n",
    "#### In what form does ML consume data?\n",
    "Why would one use log files that are denormalized?\n"
   ]
  },
  {
   "cell_type": "markdown",
   "metadata": {},
   "source": [
    "## HW 5.2\n",
    "Using MRJob, implement a hashside join (memory-backed map-side) for left, \n",
    "right and inner joins. Run your code on the  data used in HW 4.4: (Recall HW 4.4: Find the most frequent visitor of each page using mrjob and the output of 4.2  (i.e., transfromed log file). In this output please include the webpage URL, webpageID and Visitor ID.)\n",
    ":\n",
    "\n",
    "#### Justify which table you chose as the Left table in this hashside join.\n",
    "\n",
    "I chose the URLs table as the left table, as it's smaller than the Visits table.  Although, not byy much, as wh"
   ]
  },
  {
   "cell_type": "markdown",
   "metadata": {},
   "source": [
    "Please report the number of rows resulting from:\n",
    "\n",
    "(1) Left joining Table Left with Table Right\n",
    "\n",
    "(2) Right joining Table Left with Table Right\n",
    "\n",
    "(3) Inner joining Table Left with Table Right\n",
    "\n",
    "--"
   ]
  },
  {
   "cell_type": "code",
   "execution_count": 301,
   "metadata": {
    "collapsed": false
   },
   "outputs": [
    {
     "name": "stdout",
     "output_type": "stream",
     "text": [
      "Overwriting MRJob5_2.py\n"
     ]
    }
   ],
   "source": [
    "%%writefile MRJob5_2.py\n",
    "#!/usr/bin/python\n",
    "from mrjob.job import MRJob, MRStep\n",
    "import re\n",
    "\n",
    "class MRJob5_2(MRJob):\n",
    "    \n",
    "\n",
    "    def steps(self):\n",
    "        return [MRStep(\n",
    "                mapper_init = self.mapper_init,\n",
    "                mapper = self.mapper, \n",
    "                mapper_final = self.mapper_final, jobconf={\n",
    "                 'mapreduce.job.maps': '1'\n",
    "                          })]\n",
    "        \n",
    "    def mapper_init(self):\n",
    "        self.urls = {}\n",
    "        self.pages = []\n",
    "        self.all = 0\n",
    "        self.rightonly = 0\n",
    "        self.leftonly = 0\n",
    "        with open(\"urls.data\") as urls:\n",
    "            for line in urls.readlines():\n",
    "                fields = line.strip().split(\",\")\n",
    "                self.urls[fields[1]] = \"www.microsoft.com\" + fields[4].strip().strip('\"') \n",
    "\n",
    "    \n",
    "    def mapper(self, _, line):\n",
    "        line = line.strip()\n",
    "        line = line.split(\",\")\n",
    "        webpageID = line[1]\n",
    "        visitorID = line[4]\n",
    "        self.pages.append(webpageID)\n",
    "        if webpageID in self.urls.keys():\n",
    "            self.all += 1\n",
    "            yield \"inner\",self.urls[webpageID]+\",\"+webpageID+\",\"+visitorID\n",
    "            yield \"left\",self.urls[webpageID]+\",\"+webpageID+\",\"+visitorID\n",
    "            yield \"right\",self.urls[webpageID]+\",\"+webpageID+\",\"+visitorID\n",
    "        else:\n",
    "            self.rightonly += 1\n",
    "            yield \"right\",\"None,\"+webpageID+\",\"+visitorID\n",
    "            \n",
    "    def mapper_final(self):\n",
    "        #Let's now check if there are any pages that never got any visitors, meaning that only a left join is possible\n",
    "        for webpageID in self.urls.keys():\n",
    "            if webpageID not in self.pages:\n",
    "                self.leftonly += 1\n",
    "                yield \"left\", self.urls[webpageID]+\",\"+webpageID+\",None\"\n",
    "        yield \"Number of Possible Left Joins\",str(self.all + self.leftonly)\n",
    "        yield \"Number of Possible Inner Joins\", str(self.all)\n",
    "        yield \"Number of Possible Right Joins\",str(self.all + self.rightonly)\n",
    "\n",
    "if __name__ == '__main__':\n",
    "    MRJob5_2.run()"
   ]
  },
  {
   "cell_type": "markdown",
   "metadata": {},
   "source": [
    "Driver Class"
   ]
  },
  {
   "cell_type": "code",
   "execution_count": 55,
   "metadata": {
    "collapsed": false
   },
   "outputs": [
    {
     "name": "stdout",
     "output_type": "stream",
     "text": [
      "\"left\"\t\"www.microsoft.com/devmovies,1290,None\"\r\n",
      "\"left\"\t\"www.microsoft.com/news,1291,None\"\r\n",
      "\"left\"\t\"www.microsoft.com/centroam,1297,None\"\r\n",
      "\"left\"\t\"www.microsoft.com/bookshelf,1294,None\"\r\n",
      "\"left\"\t\"www.microsoft.com/autoroute,1287,None\"\r\n",
      "\"left\"\t\"www.microsoft.com/masterchef,1289,None\"\r\n",
      "\"left\"\t\"www.microsoft.com/library,1288,None\"\r\n",
      "\"Number of Left Joins\"\t\"98663\"\r\n",
      "\"Number of Inner Joins\"\t\"98654\"\r\n",
      "\"Number of Right Joins\"\t\"98654\"\r\n"
     ]
    }
   ],
   "source": [
    "%reload_ext autoreload\n",
    "%autoreload 2\n",
    "\n",
    "from MRJob5_2 import MRJob5_2\n",
    "mr_job = MRJob5_2(args=['Processed-anonymous-msweb.data','-r','hadoop','--file',\"urls.data\",'--cleanup'])\n",
    "with mr_job.make_runner() as runner:\n",
    "    runner.run()\n",
    "    output = open(\"output.txt\",\"w\")\n",
    "    for line in runner.stream_output():\n",
    "        output.write(line)\n",
    "    output.close()\n",
    "!tail -10 output.txt"
   ]
  },
  {
   "cell_type": "markdown",
   "metadata": {},
   "source": [
    "## HW 5.3  EDA of Google n-grams dataset\n",
    "A large subset of the Google n-grams dataset\n",
    "\n",
    "https://aws.amazon.com/datasets/google-books-ngrams/\n",
    "\n",
    "which we have placed in a bucket/folder on Dropbox on s3:\n",
    "\n",
    "   https://www.dropbox.com/sh/tmqpc4o0xswhkvz/AACUifrl6wrMrlK6a3X3lZ9Ea?dl=0 \n",
    "\n",
    "   s3://filtered-5grams/\n",
    "\n",
    "In particular, this bucket contains (~200) files (10Meg each) in the format:\n",
    "\n",
    "\t(ngram) \\t (count) \\t (pages_count) \\t (books_count)\n",
    "\n",
    "For HW 5.3-5.5, for the Google n-grams dataset unit test and regression test your code using the \n",
    "first 10 lines of the following file:\n",
    "\n",
    "googlebooks-eng-all-5gram-20090715-0-filtered.txt\n",
    "\n",
    "Once you are happy with your test results proceed to generating  your results on the Google n-grams dataset. \n",
    "\n",
    "Do some EDA on this dataset using mrjob, e.g., \n",
    "\n",
    "- Longest 5-gram (number of characters)\n",
    "- Top 10 most frequent words (please use the count information), i.e., unigrams\n",
    "- 20 Most/Least densely appearing words (count/pages_count) sorted in decreasing order of relative frequency \n",
    "- Distribution of 5-gram sizes (character length).  E.g., count (using the count field) up how many times a 5-gram of 50 characters shows up. Plot the data graphically using a histogram."
   ]
  },
  {
   "cell_type": "code",
   "execution_count": 333,
   "metadata": {
    "collapsed": false
   },
   "outputs": [
    {
     "name": "stdout",
     "output_type": "stream",
     "text": [
      "Overwriting MRJob5_3.py\n"
     ]
    }
   ],
   "source": [
    "%%writefile MRJob5_3.py\n",
    "#!/usr/bin/python\n",
    "#\n",
    "# This job will read a a series of NGrams and produce the following summmary statistics\n",
    "# Longest NGram\n",
    "# Top 10 most frequent words\n",
    "# 20 most densley appearing words\n",
    "# 20 least densley appearing words\n",
    "# Distribution of NGram sizes (character count)\n",
    "# This job computes these summary statistics across 5 different partitions one for each summary statistic\n",
    "# The reducer code is set to behave differently depending on which partition it is in\n",
    "# Overall running time for me was several hours ,\n",
    "# most likely due to the fact that the first step in this job emits each line of text \n",
    "# 5 times (once for each word in the 5 gram)/\n",
    "\n",
    "import sys\n",
    "from mrjob.job import MRJob, MRStep\n",
    "from mrjob.protocol import RawProtocol\n",
    "\n",
    "class MRJob5_3(MRJob):\n",
    "    \n",
    "    MRJob.SORT_VALUES = True \n",
    "    INTERNAL_PROTOCOL = RawProtocol\n",
    "\n",
    "    def steps(self):\n",
    "        return [MRStep(mapper = self.mapper_wordcount, combiner = self.combiner_wordcount, reducer = self.reducer_wordcount),\n",
    "               MRStep(mapper = self.mapper_process, reducer = self.reducer_process, jobconf={\n",
    "                                        'mapreduce.job.maps': '8',\n",
    "                    'mapreduce.job.reduces': '4',\n",
    "                            }),\n",
    "                MRStep(reducer_init = self.reducer_sortreport_init, reducer = self.reducer_sortreport, \n",
    "                jobconf={\n",
    "                    'mapreduce.job.output.key.comparator.class': 'org.apache.hadoop.mapred.lib.KeyFieldBasedComparator',\n",
    "                    'stream.num.map.output.key.field': 3,\n",
    "                    'stream.map.output.field.separator':'\\t',\n",
    "                    'mapreduce.partition.keycomparator.options': '-k1,1 -k2,2n',\n",
    "                          })]         \n",
    "                      \n",
    "    def mapper_wordcount(self, _, line):\n",
    "            line = line.strip()\n",
    "            [ngram,count,pages_count,books_count] = line.split(\"\\t\")\n",
    "            count = int(count)\n",
    "            pages_count = int(pages_count)\n",
    "            books_count = int(books_count)\n",
    "            words = ngram.split()\n",
    "            for word in words:\n",
    "                yield ngram+\",\"+word, str([count,pages_count,books_count])\n",
    "\n",
    "    def combiner_wordcount(self, key, counts):\n",
    "        newcount =0\n",
    "        for line in counts: \n",
    "            [count,pages_count,books_count] =eval(line)\n",
    "            newcount += count\n",
    "        yield key,str([newcount,pages_count,books_count])\n",
    "\n",
    "    def reducer_wordcount(self, key, counts):\n",
    "        newcount =0\n",
    "        for line in counts:\n",
    "            [count,pages_count,books_count] =eval(line)\n",
    "            newcount += count\n",
    "        yield key,str([newcount,pages_count,books_count] )\n",
    "            \n",
    "    def mapper_process  (self,key,counts):\n",
    "        ngram, word = key.split(\",\")\n",
    "        words_in_ngram = len(ngram.split())\n",
    "        [count,pages_count,books_count] = eval(counts)\n",
    "        yield \"A: Longest 5-gram\\t1\", ngram\n",
    "        yield \"B: Top 10 most frequent words,\" + word+\"\\t1\",str(count)\n",
    "        yield \"C: 20 Most/Least densely appearing words,\" + word+\"\\t1\",str([count,pages_count])\n",
    "        yield \"D: Distribution of 5-gram sizes,\" + str( len(ngram))+\"\\t1\",str(float(count) / words_in_ngram)\n",
    "    \n",
    "    def reducer_process(self,key,values):\n",
    "        keyfields = key.split(\",\")\n",
    "        goal = keyfields[0]\n",
    "        values = map(lambda v: v.split(\"\\t\")[1], values)\n",
    "\n",
    "        if goal == \"A: Longest 5-gram\":\n",
    "            ngrams = values\n",
    "            for ngram in ngrams:\n",
    "                yield goal, str(-1*len(ngram))+\"\\t\"+ngram\n",
    "        elif goal == \"B: Top 10 most frequent words\":\n",
    "            word = keyfields[1]\n",
    "            yield goal,str(-1*sum(map(int,values)))+\"\\t\"+word\n",
    "        elif goal == \"C: 20 Most/Least densely appearing words\" :\n",
    "            word = keyfields[1]\n",
    "            count =0\n",
    "            pages_count = 0\n",
    "            for line in values:\n",
    "                [c,p] = eval(line)\n",
    "                count+= c\n",
    "                pages_count+=p\n",
    "            yield \"C: 20 least densely appearing words\",str(sum([(float(1)*count)/ pages_count]))+\"\\t\"+word\n",
    "            yield \"C: 20 most densely appearing words\",str(sum([(float(-1)*count)/ pages_count]))+\"\\t\"+word\n",
    "        else:\n",
    "            gram_length = keyfields[1]\n",
    "            yield \"D: Distribution of 5-gram sizes\",str(sum(map(float,values)))+\"\\t\"+gram_length\n",
    "            \n",
    "    def reducer_sortreport_init(self):\n",
    "        self.goal_report_limits = {\n",
    "            \"A: Longest 5-gram\": 1,\n",
    "            \"B: Top 10 most frequent words\": 10,\n",
    "            \"C: 20 least densely appearing words\": 20,\n",
    "            \"C: 20 most densely appearing words\": 20,\n",
    "            \"D: Distribution of 5-gram sizes\": -1\n",
    "        }\n",
    "    \n",
    "    def reducer_sortreport(self,goal,lines):\n",
    "        yield \"--------\",\"--------\"\n",
    "        yield goal, \":\"\n",
    "        for line in lines:\n",
    "            if self.goal_report_limits[goal] == 0: break\n",
    "            self.goal_report_limits[goal] = self.goal_report_limits[goal] -1\n",
    "            line = line.strip()\n",
    "            number_field,category_field = line.split(\"\\t\")\n",
    "            number_field = float(number_field)\n",
    "            if number_field < 0: number_field *= -1\n",
    "            yield category_field, str(number_field)\n",
    "\n",
    "if __name__ == '__main__':\n",
    "    MRJob5_3.run()"
   ]
  },
  {
   "cell_type": "markdown",
   "metadata": {},
   "source": [
    "Unit Test"
   ]
  },
  {
   "cell_type": "code",
   "execution_count": 334,
   "metadata": {
    "collapsed": false
   },
   "outputs": [],
   "source": [
    "!head -n 10 filtered-5Grams/googlebooks-eng-all-5gram-20090715-0-filtered.txt > unitTestData"
   ]
  },
  {
   "cell_type": "code",
   "execution_count": 339,
   "metadata": {
    "collapsed": false
   },
   "outputs": [
    {
     "name": "stdout",
     "output_type": "stream",
     "text": [
      "16/06/19 15:11:59 WARN util.NativeCodeLoader: Unable to load native-hadoop library for your platform... using builtin-java classes where applicable\n",
      "16/06/19 15:12:00 INFO fs.TrashPolicyDefault: Namenode trash configuration: Deletion interval = 0 minutes, Emptier interval = 0 minutes.\n",
      "Deleted results/5.3/UnitTest\n"
     ]
    }
   ],
   "source": [
    "!hdfs dfs -rm -r results/5.3/UnitTest\n",
    "!python MRJob5_3.py unitTestData -r hadoop --output-dir ./results/5.3/UnitTest \\\n",
    "--cleanup=ALL 2>/dev/null >NGramsEDAUnitTest"
   ]
  },
  {
   "cell_type": "code",
   "execution_count": 343,
   "metadata": {
    "collapsed": false,
    "scrolled": true
   },
   "outputs": [
    {
     "name": "stdout",
     "output_type": "stream",
     "text": [
      "--------\t--------\n",
      "A: Longest 5-gram\t:\n",
      "A Circumstantial Narrative of the\t33.0\n",
      "--------\t--------\n",
      "B: Top 10 most frequent words\t:\n",
      "A\t2217.0\n",
      "in\t1201.0\n",
      "Christmas\t1099.0\n",
      "Wales\t1099.0\n",
      "Child's\t1099.0\n",
      "of\t1011.0\n",
      "Study\t604.0\n",
      "Case\t604.0\n",
      "Female\t447.0\n",
      "Collection\t239.0\n",
      "--------\t--------\n",
      "C: 20 least densely appearing words\t:\n",
      "Female\t1.0\n",
      "Case\t1.0\n",
      "Limited\t1.0\n",
      "Narrative\t1.0\n",
      "ESTABLISHING\t1.0\n",
      "RELIGIOUS\t1.0\n",
      "Government\t1.0\n",
      "Circumstantial\t1.0\n",
      "FOR\t1.0\n",
      "Study\t1.0\n",
      "BILL\t1.0\n",
      "the\t1.01639344262\n",
      "George\t1.02222222222\n",
      "General\t1.02222222222\n",
      "Biography\t1.02222222222\n",
      "A\t1.02829313544\n",
      "in\t1.03267411866\n",
      "Sea\t1.03333333333\n",
      "City\t1.03333333333\n",
      "by\t1.03333333333\n",
      "--------\t--------\n",
      "C: 20 most densely appearing words\t:\n",
      "of\t1.15675057208\n",
      "Forms\t1.12621359223\n",
      "Collection\t1.08636363636\n",
      "Fairy\t1.05128205128\n",
      "Tales\t1.05128205128\n",
      "Child's\t1.03581526861\n",
      "Wales\t1.03581526861\n",
      "Christmas\t1.03581526861\n",
      "by\t1.03333333333\n",
      "City\t1.03333333333\n",
      "Sea\t1.03333333333\n",
      "in\t1.03267411866\n",
      "A\t1.02829313544\n",
      "George\t1.02222222222\n",
      "Biography\t1.02222222222\n",
      "General\t1.02222222222\n",
      "the\t1.01639344262\n",
      "Study\t1.0\n",
      "BILL\t1.0\n",
      "FOR\t1.0\n",
      "--------\t--------\n"
     ]
    },
    {
     "data": {
      "image/png": "[encoded data removed]",
      "text/plain": [
       "<matplotlib.figure.Figure at 0x7ff66f0c8450>"
      ]
     },
     "metadata": {},
     "output_type": "display_data"
    }
   ],
   "source": [
    "%matplotlib inline\n",
    "%reload_ext autoreload\n",
    "%autoreload 2\n",
    "distribution = {}\n",
    "with open(\"NGramsEDAUnitTest\") as myfile:\n",
    "    partD = False\n",
    "    for line in myfile.readlines():\n",
    "        line = line.strip().replace('\"','')\n",
    "        line =  line.split(\"\\t\")\n",
    "        if (line[0] == \"D: Distribution of 5-gram sizes\"):\n",
    "            partD = True\n",
    "            continue\n",
    "        if partD:\n",
    "            distribution[int(line[0])] = float(line[1])\n",
    "        else: print '\\t'.join(map(str,line))\n",
    "\n",
    "plt.hist(distribution.keys(), weights=distribution.values(), bins=50)\n",
    "plt.title(\"Histogram of 5-gram sizes\")\n",
    "plt.show()"
   ]
  },
  {
   "cell_type": "markdown",
   "metadata": {},
   "source": [
    "Run the job on the full dataset:"
   ]
  },
  {
   "cell_type": "code",
   "execution_count": 345,
   "metadata": {
    "collapsed": false
   },
   "outputs": [
    {
     "name": "stdout",
     "output_type": "stream",
     "text": [
      "16/06/19 15:29:45 WARN util.NativeCodeLoader: Unable to load native-hadoop library for your platform... using builtin-java classes where applicable\n",
      "16/06/19 15:29:46 INFO fs.TrashPolicyDefault: Namenode trash configuration: Deletion interval = 0 minutes, Emptier interval = 0 minutes.\n",
      "Deleted results/5.3\n"
     ]
    }
   ],
   "source": [
    "!hdfs dfs -rm -r results/5.3\n",
    "!python MRJob5_3.py filtered-5Grams -r hadoop --output-dir ./results/5.3 \\\n",
    "--cleanup=ALL 2>/dev/null >NGramsEDA"
   ]
  },
  {
   "cell_type": "code",
   "execution_count": 346,
   "metadata": {
    "collapsed": false
   },
   "outputs": [
    {
     "name": "stdout",
     "output_type": "stream",
     "text": [
      "--------\t--------\n",
      "A: Longest 5-gram\t:\n",
      "AIOPJUMRXUYVASLYHYPSIBEMAPODIKR UFRYDIUUOLBIGASUAURUSREXLISNAYE RNOONDQSRUNSUBUNOUGRABBERYAIRTC UTAHRAPTOREDILEIPMILBDUMMYUVERI SYEVRAHVELOCYALLOSAURUSLINROTSR\t160.0\n",
      "--------\t--------\n",
      "B: Top 10 most frequent words\t:\n",
      "the\t5375699242.0\n",
      "of\t3691308874.0\n",
      "to\t2221164346.0\n",
      "in\t1387638591.0\n",
      "a\t1342195425.0\n",
      "and\t1135779433.0\n",
      "that\t798553959.0\n",
      "is\t756296656.0\n",
      "be\t688053106.0\n",
      "as\t481373389.0\n",
      "--------\t--------\n",
      "C: 20 least densely appearing words\t:\n",
      "Leshchetitsky\t1.0\n",
      "Leshkowich\t1.0\n",
      "Nescit\t1.0\n",
      "Leskov\t1.0\n",
      "Nescio\t1.0\n",
      "Leslea\t1.0\n",
      "Nescience\t1.0\n",
      "Nescia\t1.0\n",
      "Lesley's\t1.0\n",
      "Nescafe\t1.0\n",
      "Leslies\t1.0\n",
      "Nesbitt\t1.0\n",
      "Lesly\t1.0\n",
      "Nesbit's\t1.0\n",
      "Lesly's\t1.0\n",
      "Nesace\t1.0\n",
      "Lesmahago\t1.0\n",
      "Lespinasse\t1.0\n",
      "Lespenard\t1.0\n",
      "AAAA\t1.0\n",
      "--------\t--------\n",
      "C: 20 most densely appearing words\t:\n",
      "xxxx\t11.557291666666666\n",
      "NA\t10.161726044782885\n",
      "blah\t8.0741599073001158\n",
      "nnn\t7.5333333333333332\n",
      "nd\t6.5611436445056839\n",
      "ND\t5.4073642846747196\n",
      "oooooooooooooooo\t4.921875\n",
      "PIC\t4.7272727272727275\n",
      "llll\t4.5116279069767442\n",
      "LUTHER\t4.3494983277591972\n",
      "oooooo\t4.2072378595731514\n",
      "NN\t4.0908402725208175\n",
      "ooooo\t3.9492846924177396\n",
      "OOOOOO\t3.9313725490196076\n",
      "IIII\t3.7877030162412995\n",
      "lillelu\t3.7624521072796937\n",
      "OOOOO\t3.6570701447431206\n",
      "Sc\t3.6065624999999999\n",
      "Pfeffermann\t3.5769230769230771\n",
      "Madarassy\t3.5769230769230771\n",
      "--------\t--------\n"
     ]
    },
    {
     "data": {
      "image/png": "[encoded data removed]",
      "text/plain": [
       "<matplotlib.figure.Figure at 0x7ff66e37c390>"
      ]
     },
     "metadata": {},
     "output_type": "display_data"
    }
   ],
   "source": [
    "%matplotlib inline\n",
    "%reload_ext autoreload\n",
    "%autoreload 2\n",
    "distribution = {}\n",
    "with open(\"NGramsEDA\") as myfile:\n",
    "    partD = False\n",
    "    for line in myfile.readlines():\n",
    "        line = line.strip().replace('\"','')\n",
    "        line =  line.split(\"\\t\")\n",
    "        if (line[0] == \"D: Distribution of 5-gram sizes\"):\n",
    "            partD = True\n",
    "            continue\n",
    "        if partD:\n",
    "            distribution[int(line[0])] = float(line[1])\n",
    "        else: print '\\t'.join(map(str,line))\n",
    "\n",
    "plt.hist(distribution.keys(), weights=distribution.values(), bins=50)\n",
    "plt.title(\"Histogram of 5-gram sizes\")\n",
    "plt.show()"
   ]
  },
  {
   "cell_type": "markdown",
   "metadata": {},
   "source": [
    "HW 5.3.1 OPTIONAL Question:\n",
    "- Plot the log-log plot of the frequency distributuion of unigrams. Does it follow power law distribution?\n",
    "\n",
    "For more background see:\n",
    "https://en.wikipedia.org/wiki/Log%E2%80%93log_plot\n",
    "https://en.wikipedia.org/wiki/Power_law\n",
    "--"
   ]
  },
  {
   "cell_type": "markdown",
   "metadata": {},
   "source": [
    "## HW 5.4  Synonym detection over 2Gig of Data\n",
    "\n",
    "For the remainder of this assignment you will work with two datasets:\n",
    "\n",
    "### 1: unit/systems test data set: SYSTEMS TEST DATASET\n",
    "Three terms, A,B,C and their corresponding strip-docs of co-occurring terms\n",
    "\n",
    "DocA {X:20, Y:30, Z:5}\n",
    "DocB {X:100, Y:20}\n",
    "DocC {M:5, N:20, Z:5}\n",
    "\n",
    "\n",
    "### 2: A large subset of the Google n-grams dataset as was described above\n",
    "\n",
    "For each HW 5.4 -5.5.1 Please unit test and system test your code with respect \n",
    "to SYSTEMS TEST DATASET and show the results. \n",
    "Please compute the expected answer by hand and show your hand calculations for the \n",
    "SYSTEMS TEST DATASET. Then show the results you get with you system.\n",
    "\n",
    "In this part of the assignment we will focus on developing methods\n",
    "for detecting synonyms, using the Google 5-grams dataset. To accomplish\n",
    "this you must script two main tasks using MRJob:\n",
    "\n",
    "(1) Build stripes for the most frequent 10,000 words using cooccurence informationa based on\n",
    "the words ranked from 9001,-10,000 as a basis/vocabulary (drop stopword-like terms),\n",
    "and output to a file in your bucket on s3 (bigram analysis, though the words are non-contiguous)."
   ]
  },
  {
   "cell_type": "code",
   "execution_count": 388,
   "metadata": {
    "collapsed": false
   },
   "outputs": [
    {
     "name": "stdout",
     "output_type": "stream",
     "text": [
      "[nltk_data] Downloading package stopwords to /home/hadoop/nltk_data...\n",
      "[nltk_data]   Package stopwords is already up-to-date!\n",
      "[nltk_data] Downloading package wordnet to /home/hadoop/nltk_data...\n",
      "[nltk_data]   Unzipping corpora/wordnet.zip.\n"
     ]
    }
   ],
   "source": [
    "import nltk\n",
    "from nltk.corpus import stopwords\n",
    "nltk.download(\"stopwords\")\n",
    "nltk.download(\"wordnet\")\n",
    "\n",
    "with open(\"stopwords\",\"w\") as myfile:\n",
    "    myfile.write(str(stopwords.words('english')))"
   ]
  },
  {
   "cell_type": "markdown",
   "metadata": {},
   "source": [
    "Since the stopwords from seem to all be in lowercase, I'll the ngram words to lowercase as well before checking whether they exist in the stopwords list.  "
   ]
  },
  {
   "cell_type": "code",
   "execution_count": 392,
   "metadata": {
    "collapsed": false
   },
   "outputs": [
    {
     "name": "stdout",
     "output_type": "stream",
     "text": [
      "Overwriting MRJob5_4_wordcount.py\n"
     ]
    }
   ],
   "source": [
    "%%writefile MRJob5_4_wordcount.py\n",
    "from mrjob.job import MRJob, MRStep\n",
    "from mrjob.protocol import RawProtocol\n",
    "\n",
    "class MRJob5_4_wordcount(MRJob):\n",
    "    \n",
    "    MRJob.SORT_VALUES = True \n",
    "    INTERNAL_PROTOCOL = RawProtocol\n",
    "    SORT_VALUES = True\n",
    "\n",
    "    def steps(self):\n",
    "        return [MRStep(mapper_init=self.mapper_wordcount_init,mapper = self.mapper_wordcount, \n",
    "                       combiner = self.reducer_wordcount, reducer = self.reducer_wordcount),\n",
    "                MRStep(reducer = self.reducer_sortreport,\n",
    "                jobconf={\n",
    "               'mapreduce.job.output.key.comparator.class': 'org.apache.hadoop.mapred.lib.KeyFieldBasedComparator',\n",
    "            'stream.num.map.output.key.field': 2,\n",
    "            'stream.map.output.field.separator':'\\t',\n",
    "            'mapreduce.partition.keycomparator.options': '-k2,2nr -k1,1',\n",
    "\n",
    "                          })]         \n",
    "                      \n",
    "    def mapper_wordcount_init(self):\n",
    "            with open('stopwords') as myfile:\n",
    "                self.stopwords = eval(myfile.readline())\n",
    "                \n",
    "    def mapper_wordcount(self, _, line):\n",
    "            line = line.strip()\n",
    "            [ngram,count,pages_count,books_count] = line.split(\"\\t\")\n",
    "            words = ngram.split()\n",
    "            for word in words:\n",
    "                #Filter out the stop words\n",
    "                if word.lower() not in self.stopwords:\n",
    "                    yield word, count\n",
    "\n",
    "    def reducer_wordcount(self, key, counts):\n",
    "        yield key,str(sum(map(int,counts)))\n",
    "        \n",
    "    def reducer_sortreport(self,key,counts):\n",
    "              yield key, counts.next()\n",
    "\n",
    "\n",
    "if __name__ == '__main__':\n",
    "    MRJob5_4_wordcount.run()"
   ]
  },
  {
   "cell_type": "code",
   "execution_count": 408,
   "metadata": {
    "collapsed": false
   },
   "outputs": [
    {
     "name": "stdout",
     "output_type": "stream",
     "text": [
      "16/06/19 18:05:41 WARN util.NativeCodeLoader: Unable to load native-hadoop library for your platform... using builtin-java classes where applicable\n",
      "rm: `results/5.4/wordcount': No such file or directory\n"
     ]
    }
   ],
   "source": [
    "%reload_ext autoreload\n",
    "%autoreload 2\n",
    "!hdfs dfs -rm -r results/5.4/wordcount\n",
    "\n",
    "from MRJob5_4_wordcount import MRJob5_4_wordcount\n",
    "mr_job = MRJob5_4_wordcount(args=['filtered-5Grams','-r','hadoop',\n",
    "                                  '--file','stopwords','--output-dir','./results/5.4/wordcount','--cleanup','ALL'])\n",
    "with mr_job.make_runner() as runner:\n",
    "    runner.run()\n",
    "    output = open(\"topwords.txt\",\"w\")\n",
    "    for line in runner.stream_output():\n",
    "        output.write(line)\n",
    "    output.close()"
   ]
  },
  {
   "cell_type": "code",
   "execution_count": 842,
   "metadata": {
    "collapsed": false,
    "scrolled": true
   },
   "outputs": [
    {
     "name": "stdout",
     "output_type": "stream",
     "text": [
      "Overwriting MRJob5_4_cooccurence.py\n"
     ]
    }
   ],
   "source": [
    "%%writefile MRJob5_4_cooccurence.py\n",
    "\n",
    "from mrjob.job import MRJob, MRStep\n",
    "import sys\n",
    "\n",
    "class MRJob5_4_cooccurence(MRJob):\n",
    "    \n",
    "    MRJob.SORT_VALUES = True \n",
    "    def steps(self):\n",
    "           return [  MRStep(mapper_init=self.mapper_coocurrence_init, mapper=self.mapper_coocurrence\n",
    "                        , combiner=self.combiner_coocurrence, reducer_init=self.reducer_coocurrence_init\n",
    "                        , reducer=self.reducer_coocurrence, reducer_final=self.reducer_coocurrence_final\n",
    "                        , jobconf={\n",
    "                        'mapreduce.job.reduces': '4', \n",
    "                    } \n",
    "                      ),\n",
    "                       MRStep(reducer = self.reducer_merge)\n",
    "                  ]\n",
    "    \n",
    "\n",
    "    def mapper_coocurrence_init(self):\n",
    "        with open(\"topwords.txt\") as myfile:\n",
    "            vocab = []\n",
    "            for i in range(10000):\n",
    "                line = myfile.readline().strip()\n",
    "                word, count = line.split(\"\\t\")\n",
    "                vocab.append(word.strip())\n",
    "            self.top10k = set(vocab[:10001])\n",
    "            self.basis =  set(vocab[9001:10001])\n",
    "        \n",
    "      \n",
    "    def mapper_coocurrence(self, _, line):\n",
    "        # parse line, get words and counts\n",
    "        ngram, count, _, _ = line.strip().split('\\t')\n",
    "        words = ngram.split()\n",
    "        words = sorted(list(set(filter(lambda w: w in self.top10k,words))))\n",
    "        # emit each pair of words\n",
    "        for word1 in words:\n",
    "            for word2 in words:\n",
    "                if word2 in self.basis and word2 <> word1:\n",
    "                    yield [word1,word2],int(count)\n",
    "\n",
    "    def combiner_coocurrence(self, words, counts):\n",
    "        yield words, sum(map(int,counts))\n",
    "    \n",
    "    def reducer_coocurrence_init(self):\n",
    "        self.word = '*'\n",
    "        self.stripe = {}\n",
    "                        \n",
    "    def reducer_coocurrence(self, words, counts):    \n",
    "        newword1, newword2 = words    \n",
    "        sys.stderr.write(str(words) + \"\\n\")\n",
    "        if self.word == newword1:\n",
    "            self.stripe[newword2] =  self.stripe.setdefault(newword2,0)+ sum(counts)\n",
    "        else:\n",
    "            if len(self.stripe) > 0:\n",
    "                yield self.word, self.stripe\n",
    "            self.word = newword1\n",
    "            self.stripe = {newword2:sum(counts)}\n",
    "            \n",
    "\n",
    "    def reducer_coocurrence_final(self):\n",
    "        if len(self.stripe) > 0:\n",
    "            yield self.word, self.stripe\n",
    "    \n",
    "        \n",
    "    def reducer_merge(self,word,dicts):\n",
    "        result = {}\n",
    "        for d in dicts:\n",
    "                for key,value in d.items():\n",
    "                    result[key] = result.setdefault(key,0) + int(value)\n",
    "\n",
    "        yield word, result\n",
    "\n",
    "if __name__ == '__main__':\n",
    "    MRJob5_4_cooccurence.run()"
   ]
  },
  {
   "cell_type": "code",
   "execution_count": 856,
   "metadata": {
    "collapsed": false
   },
   "outputs": [
    {
     "name": "stdout",
     "output_type": "stream",
     "text": [
      "Overwriting MRJob5_4_invert.py\n"
     ]
    }
   ],
   "source": [
    "%%writefile MRJob5_4_invert.py\n",
    "from DebuggerProtocol import DebuggerProtocol\n",
    "\n",
    "from mrjob.job import MRJob, MRStep\n",
    "from mrjob.protocol import JSONProtocol\n",
    "\n",
    "class MRJob5_4_invert(MRJob):\n",
    "    \n",
    "    MRJob.SORT_VALUES = True\n",
    "    INTERNAL_PROTOCOL = DebuggerProtocol(JSONProtocol)\n",
    "    def steps(self):\n",
    "           return [  \n",
    "                   MRStep( mapper=self.mapper_invert,reducer_init=self.reducer_invert_init\n",
    "                    , reducer=self.reducer_invert\n",
    "                    , jobconf={\n",
    "                    'mapreduce.job.reduces': 4,\n",
    "                    } \n",
    "                      )\n",
    "                  ]\n",
    "    \n",
    "\n",
    "    def mapper_invert(self, _, line):\n",
    "        word1, stripe = line.split(\"\\t\")\n",
    "        stripe = eval(stripe)\n",
    "        yield word1,('*',len(stripe))\n",
    "        for word2,count in stripe.items():\n",
    "                    yield word2, (word1+'.'+str(len(stripe)),count)\n",
    "                        \n",
    "    def reducer_invert_init(self):\n",
    "        self.length = 0\n",
    "        self.stripe={}\n",
    "        \n",
    "    def reducer_invert(self,word1, word_counts):\n",
    "        for (word2,count) in word_counts:\n",
    "            word2 = str(word2)\n",
    "            count = int(count)\n",
    "            if(word2 == '*'):\n",
    "                self.length = count\n",
    "            else:\n",
    "                self.stripe[word2] =  self.stripe.setdefault(word2,0)+ count\n",
    "        if len(self.stripe) > 0:\n",
    "            yield word1 +'.'+str(self.length), self.stripe\n",
    "        \n",
    "if __name__ == '__main__':\n",
    "    MRJob5_4_invert.run()"
   ]
  },
  {
   "cell_type": "markdown",
   "metadata": {},
   "source": [
    "(2) Using two (symmetric) comparison methods of your choice \n",
    "(e.g., correlations, distances, similarities), pairwise compare \n",
    "all stripes (vectors), and output to a file in your bucket on s3."
   ]
  },
  {
   "cell_type": "markdown",
   "metadata": {},
   "source": [
    "Jaccard similiarity "
   ]
  },
  {
   "cell_type": "code",
   "execution_count": 843,
   "metadata": {
    "collapsed": false
   },
   "outputs": [
    {
     "name": "stdout",
     "output_type": "stream",
     "text": [
      "Overwriting MRJob5_4_jaccard.py\n"
     ]
    }
   ],
   "source": [
    "%%writefile MRJob5_4_jaccard.py\n",
    "from mrjob.job import MRJob\n",
    "from mrjob.step import MRStep\n",
    "\n",
    "import sys\n",
    "class MRJob5_4_jaccard(MRJob):\n",
    "    MRJob.SORT_VALUES = True \n",
    "    def steps(self):\n",
    "        return [MRStep(mapper=self.mapper_jaccard , reducer=self.reducer_jaccard, jobconf= \n",
    "                        {           \n",
    "            'mapreduce.job.reduces': '4',\n",
    "                })\n",
    "   \n",
    "    def mapper_jaccard(self, _, line):\n",
    "        word0, stripe = line.split(\"\\t\")\n",
    "        stripe = eval(stripe).keys()\n",
    "        for i,word1 in enumerate(stripe):\n",
    "            for word2 in stripe[i+1:]:\n",
    "                yield (word1,word2), 1\n",
    "        \n",
    "    def reducer_jaccard(self,words,counts):\n",
    "        word1,word2 = map(str,words)\n",
    "        word1, length1 = word1.split(\".\")\n",
    "        word2,length2 = word2.split(\".\")\n",
    "        intersection = sum(map(float,counts))\n",
    "        jaccard = intersection / (int(length1) + int(length2) - intersection)\n",
    "        yield (word1,word2), jaccard\n",
    "            \n",
    "if __name__ == '__main__':\n",
    "    MRJob5_4_jaccard.run()\n",
    "\n"
   ]
  },
  {
   "cell_type": "code",
   "execution_count": 862,
   "metadata": {
    "collapsed": false
   },
   "outputs": [
    {
     "name": "stdout",
     "output_type": "stream",
     "text": [
      "Overwriting MRJob5_4_cosine.py\n"
     ]
    }
   ],
   "source": [
    "%%writefile MRJob5_4_cosine.py\n",
    "\n",
    "from mrjob.job import MRJob, MRStep\n",
    "import sys\n",
    "\n",
    "class MRJob5_4_cosine(MRJob):\n",
    "    MRJob.SORT_VALUES = True \n",
    "\n",
    "    def steps(self):\n",
    "        return [\n",
    "            #The first step calculates the inverted index and normalizes\n",
    "            MRStep(\n",
    "                mapper=self.mapper_inverted\n",
    "                ,combiner=self.combiner_inverted\n",
    "                ,reducer=self.reducer_inverted,\n",
    "                jobconf= \n",
    "                        {           \n",
    "            'mapreduce.job.reduces': '4',\n",
    "                }) ,\n",
    "            MRStep(\n",
    "                mapper=self.mapper_cosine\n",
    "                ,reducer=self.reducer_cosine,\n",
    "                jobconf= \n",
    "                        {           \n",
    "            'mapreduce.partition.keycomparator.options': '-k2',            \n",
    "            'mapreduce.job.reduces': '4',\n",
    "                })\n",
    "                  \n",
    "        ]\n",
    "    \n",
    "    def mapper_inverted(self, _, line):\n",
    "        line = line.strip()\n",
    "        word1, stripe=line.split('\\t')\n",
    "        stripe=eval(stripe)\n",
    "        length = len(stripe)\n",
    "        for (word2, count) in stripe.items():\n",
    "            #Normalize length so that sum of squares is 1\n",
    "            yield word2, {word1: 1/(float(length) ** .5)}\n",
    "\n",
    "    def combiner_inverted(self, word, dicts):\n",
    "        result = {}\n",
    "        for d in dicts:\n",
    "            result.update(d)\n",
    "        yield word, result\n",
    "        \n",
    "\n",
    "    def reducer_inverted(self,word2,dicts):\n",
    "        result={}\n",
    "        for d in dicts:\n",
    "            for (word1,count) in d.items():\n",
    "                result[word1] = result.setdefault(word1,0)+int(count)\n",
    "        yield word2, result\n",
    "\n",
    "    def mapper_cosine(self,word,stripe):\n",
    "        words=stripe.keys()     \n",
    "        sys.stderr.write(str(words)+\"\\n\")\n",
    "        for i,word1 in enumerate(words[:-1]):\n",
    "            for word2 in words[i+1:]:\n",
    "                #Compute dot product\n",
    "                yield (word1,word2),stripe.setdefault(word1,0)*stripe.setdefault(word2,0)\n",
    "        \n",
    "    def reducer_cosine(self,words,counts):\n",
    "        yield words,sum(counts)\n",
    "        \n",
    "if __name__ == '__main__':\n",
    "    MRJob5_4_cosine.run()"
   ]
  },
  {
   "cell_type": "markdown",
   "metadata": {},
   "source": [
    "First let's run the System Test:"
   ]
  },
  {
   "cell_type": "code",
   "execution_count": 854,
   "metadata": {
    "collapsed": false
   },
   "outputs": [
    {
     "name": "stdout",
     "output_type": "stream",
     "text": [
      "Overwriting SystemTestData\n"
     ]
    }
   ],
   "source": [
    "%%writefile SystemTestData\n",
    "DocA\t{'X':20, 'Y':30, 'Z':5}\n",
    "DocB\t{'X':100, 'Y':20}\n",
    "DocC\t{'M':5, 'N':20, 'Z':5}"
   ]
  },
  {
   "cell_type": "markdown",
   "metadata": {},
   "source": [
    "Since this data already appears to be indexed, we don't need to run the cooccurenceUnitTest job.  Instead, let's just get straight to the invertedindex job:  "
   ]
  },
  {
   "cell_type": "code",
   "execution_count": 857,
   "metadata": {
    "collapsed": false
   },
   "outputs": [
    {
     "name": "stdout",
     "output_type": "stream",
     "text": [
      "16/06/22 01:44:58 WARN util.NativeCodeLoader: Unable to load native-hadoop library for your platform... using builtin-java classes where applicable\n",
      "16/06/22 01:44:59 INFO fs.TrashPolicyDefault: Namenode trash configuration: Deletion interval = 0 minutes, Emptier interval = 0 minutes.\n",
      "Deleted results/5.4/UnitTest/invertedIndex\n",
      "\"M.3\"\t{\"DocC.3\": 5}\n",
      "\"N.3\"\t{\"DocC.3\": 25}\n",
      "\"X.3\"\t{\"DocA.3\": 20, \"DocC.3\": 25}\n",
      "\"Y.0\"\t{\"DocB.2\": 20}\n",
      "\"Z.0\"\t{\"DocB.2\": 20, \"DocA.3\": 5}\n",
      "\"Y.3\"\t{\"DocA.3\": 30}\n",
      "\"X.0\"\t{\"DocB.2\": 100}\n",
      "\"Z.0\"\t{\"DocB.2\": 100, \"DocC.3\": 5}\n"
     ]
    }
   ],
   "source": [
    "!hdfs dfs -rm -r results/5.4/UnitTest/invertedIndex\n",
    "!python MRJob5_4_invert.py SystemTestData -r hadoop --file DebuggerProtocol.py --output-dir ./results/5.4/UnitTest/invertedIndex \\\n",
    "--cleanup=ALL  2>/dev/null >invertedIndex\n",
    "!head -25 invertedIndex"
   ]
  },
  {
   "cell_type": "markdown",
   "metadata": {},
   "source": [
    "Next run a unit test on the data from the Google Group:"
   ]
  },
  {
   "cell_type": "code",
   "execution_count": 858,
   "metadata": {
    "collapsed": false
   },
   "outputs": [
    {
     "name": "stdout",
     "output_type": "stream",
     "text": [
      "Overwriting UnitTestData\n"
     ]
    }
   ],
   "source": [
    "%%writefile UnitTestData\n",
    "advisory bedside\t50\t50\t50\n",
    "bedside Cathedral disciplines\t10\t10\t10\n",
    "advisory disciplines America\t15\t15\t15\n",
    "irrespective disciplines America\t15\t15\t15\n",
    "America AB\t15\t15\t15"
   ]
  },
  {
   "cell_type": "code",
   "execution_count": 859,
   "metadata": {
    "collapsed": false,
    "scrolled": true
   },
   "outputs": [
    {
     "name": "stdout",
     "output_type": "stream",
     "text": [
      "16/06/22 01:45:46 WARN util.NativeCodeLoader: Unable to load native-hadoop library for your platform... using builtin-java classes where applicable\n",
      "rm: `results/5.4/UnitTest/co-occurence': No such file or directory\n",
      "\"America\"\t{\"advisory\": 15, \"AB\": 15, \"disciplines\": 30, \"irrespective\": 15}\n",
      "\"Cathedral\"\t{\"bedside\": 10, \"disciplines\": 10}\n",
      "\"advisory\"\t{\"bedside\": 50, \"disciplines\": 15}\n",
      "\"bedside\"\t{\"Cathedral\": 10, \"disciplines\": 10, \"advisory\": 50}\n",
      "\"disciplines\"\t{\"Cathedral\": 10, \"bedside\": 10, \"advisory\": 15, \"irrespective\": 15}\n",
      "\"irrespective\"\t{\"disciplines\": 15}\n"
     ]
    }
   ],
   "source": [
    "!hdfs dfs -rm -r results/5.4/UnitTest/co-occurence\n",
    "!python MRJob5_4_cooccurence.py UnitTestData -r hadoop --file topwords.txt --output-dir ./results/5.4/UnitTest/co-occurence \\\n",
    "--cleanup=ALL  2>/dev/null >cooccurenceUnitTest\n",
    "!head -25 cooccurenceUnitTest"
   ]
  },
  {
   "cell_type": "code",
   "execution_count": 867,
   "metadata": {
    "collapsed": false
   },
   "outputs": [
    {
     "name": "stdout",
     "output_type": "stream",
     "text": [
      "16/06/22 01:56:54 WARN util.NativeCodeLoader: Unable to load native-hadoop library for your platform... using builtin-java classes where applicable\n",
      "rm: `results/5.4/UnitTest/invertedIndex': No such file or directory\n",
      "\"Cathedral.0\"\t{\"\\\"disciplines\\\".4\": 10, \"\\\"bedside\\\".3\": 10}\n",
      "\"\\\"America\\\".4\"\t{\"\\\"disciplines\\\".4\": 10, \"\\\"bedside\\\".3\": 10}\n",
      "\"\\\"Cathedral\\\".2\"\t{\"\\\"disciplines\\\".4\": 10, \"\\\"bedside\\\".3\": 10}\n",
      "\"advisory.2\"\t{\"\\\"disciplines\\\".4\": 25, \"\\\"bedside\\\".3\": 10}\n",
      "\"bedside.2\"\t{\"\\\"disciplines\\\".4\": 35, \"\\\"bedside\\\".3\": 10}\n",
      "\"disciplines.2\"\t{\"\\\"advisory\\\".2\": 15, \"\\\"disciplines\\\".4\": 35, \"\\\"bedside\\\".3\": 10, \"\\\"Cathedral\\\".2\": 10}\n",
      "\"advisory.4\"\t{\"\\\"bedside\\\".3\": 50}\n",
      "\"disciplines.4\"\t{\"\\\"irrespective\\\".1\": 15, \"\\\"bedside\\\".3\": 60}\n",
      "\"irrespective.4\"\t{\"\\\"America\\\".4\": 15, \"\\\"irrespective\\\".1\": 15, \"\\\"bedside\\\".3\": 60}\n",
      "\"bedside.1\"\t{\"\\\"advisory\\\".2\": 50}\n",
      "\"disciplines.1\"\t{\"\\\"America\\\".4\": 30, \"\\\"advisory\\\".2\": 50}\n",
      "\"irrespective.1\"\t{\"\\\"America\\\".4\": 30, \"\\\"advisory\\\".2\": 50, \"\\\"disciplines\\\".4\": 15}\n",
      "\"AB.0\"\t{\"\\\"America\\\".4\": 15}\n",
      "\"\\\"advisory\\\".2\"\t{\"\\\"America\\\".4\": 15}\n",
      "\"\\\"bedside\\\".3\"\t{\"\\\"America\\\".4\": 15}\n",
      "\"advisory.3\"\t{\"\\\"America\\\".4\": 30}\n",
      "\"bedside.3\"\t{\"\\\"America\\\".4\": 30, \"\\\"Cathedral\\\".2\": 10}\n"
     ]
    }
   ],
   "source": [
    "!hdfs dfs -rm -r results/5.4/UnitTest/invertedIndex\n",
    "!python MRJob5_4_invert.py cooccurenceUnitTest -r hadoop --file DebuggerProtocol.py --output-dir ./results/5.4/UnitTest/invertedIndex \\\n",
    "--cleanup=ALL  2>/dev/null >invertedIndex\n",
    "!head -25 invertedIndex"
   ]
  },
  {
   "cell_type": "code",
   "execution_count": 851,
   "metadata": {
    "collapsed": false
   },
   "outputs": [
    {
     "name": "stdout",
     "output_type": "stream",
     "text": [
      "16/06/22 01:41:30 WARN util.NativeCodeLoader: Unable to load native-hadoop library for your platform... using builtin-java classes where applicable\n",
      "16/06/22 01:41:31 INFO fs.TrashPolicyDefault: Namenode trash configuration: Deletion interval = 0 minutes, Emptier interval = 0 minutes.\n",
      "Deleted results/5.4/UnitTest/jaccard\n"
     ]
    }
   ],
   "source": [
    "!hdfs dfs -rm -r results/5.4/UnitTest/jaccard\n",
    "!python MRJob5_4_jaccard.py in -r hadoop  --output-dir ./results/5.4/UnitTest/jaccard \\\n",
    "--cleanup=ALL 2>/dev/null | head -25"
   ]
  },
  {
   "cell_type": "code",
   "execution_count": 861,
   "metadata": {
    "collapsed": false
   },
   "outputs": [
    {
     "name": "stdout",
     "output_type": "stream",
     "text": [
      "16/06/22 01:51:13 WARN util.NativeCodeLoader: Unable to load native-hadoop library for your platform... using builtin-java classes where applicable\n",
      "16/06/22 01:51:14 INFO fs.TrashPolicyDefault: Namenode trash configuration: Deletion interval = 0 minutes, Emptier interval = 0 minutes.\n",
      "Deleted results/5.4/UnitTest/cosine\n"
     ]
    }
   ],
   "source": [
    "!hdfs dfs -rm -r results/5.4/UnitTest/cosine\n",
    "!python MRJob5_4_cosine.py cooccurenceUnitTest -r hadoop  --output-dir ./results/5.4/UnitTest/cosine \\\n",
    "--cleanup=ALL 2>/dev/null | head -25"
   ]
  },
  {
   "cell_type": "markdown",
   "metadata": {},
   "source": [
    "Now run on NGram dataset"
   ]
  },
  {
   "cell_type": "code",
   "execution_count": 741,
   "metadata": {
    "collapsed": false
   },
   "outputs": [
    {
     "name": "stdout",
     "output_type": "stream",
     "text": [
      "16/06/21 20:29:49 WARN util.NativeCodeLoader: Unable to load native-hadoop library for your platform... using builtin-java classes where applicable\n",
      "rm: `results/5.4/co-occurence': No such file or directory\n",
      "\"AB\"\t{\"wires\": 51, \"carriers\": 53, \"Nuclear\": 53, \"Price\": 92, \"diagonal\": 58, \"CD\": 15062, \"Oriental\": 133, \"segregation\": 77, \"lever\": 77, \"Fleet\": 50, \"Type\": 48, \"honors\": 43}\n",
      "\"AD\"\t{\"AB\": 309, \"Geography\": 140, \"Seventh\": 166, \"diagonal\": 64, \"CD\": 53, \"Peninsula\": 343, \"Buddhism\": 70, \"Towards\": 78, \"Documents\": 95, \"embassy\": 42, \"Trent\": 52, \"Throughout\": 57, \"HISTORY\": 51}\n",
      "\"AIDS\"\t{\"alveolar\": 52, \"Memorial\": 50, \"Task\": 1152, \"carriers\": 245, \"Nervous\": 457, \"Seventh\": 620, \"epidemic\": 14055, \"Practical\": 92, \"immunodeficiency\": 257, \"Swiss\": 59, \"abnormalities\": 54, \"degeneration\": 73, \"Changes\": 55, \"Geography\": 118}\n"
     ]
    }
   ],
   "source": [
    "!hdfs dfs -rm -r results/5.4/co-occurence\n",
    "!python MRJob5_4_cooccurence.py filtered-5Grams -r hadoop --file topwords.txt --output-dir ./results/5.4/co-occurence \\\n",
    "--cleanup=ALL 2> /dev/null > cooccurence\n",
    "!head -3 cooccurence"
   ]
  },
  {
   "cell_type": "code",
   "execution_count": 868,
   "metadata": {
    "collapsed": false
   },
   "outputs": [
    {
     "name": "stdout",
     "output_type": "stream",
     "text": [
      "16/06/22 01:57:43 WARN util.NativeCodeLoader: Unable to load native-hadoop library for your platform... using builtin-java classes where applicable\n",
      "16/06/22 01:57:44 INFO fs.TrashPolicyDefault: Namenode trash configuration: Deletion interval = 0 minutes, Emptier interval = 0 minutes.\n",
      "Deleted results/5.4/jaccard\n",
      "/bin/sh: /d: Permission denied\n"
     ]
    }
   ],
   "source": [
    "!hdfs dfs -rm -r results/5.4/jaccard\n",
    "!python MRJob5_4_jaccard.py 'cooccurence'  -r hadoop --output-dir ./results/5.4/jaccard \\\n",
    "--cleanup=ALL 2>/null/dev > 'jaccard' \n",
    "!head -25 jaccard"
   ]
  },
  {
   "cell_type": "code",
   "execution_count": null,
   "metadata": {
    "collapsed": true
   },
   "outputs": [],
   "source": [
    "!hdfs dfs -rm -r results/5.4/cosine\n",
    "!python MRJob5_4_jaccard.py 'cooccurence'  -r hadoop --output-dir ./results/5.4/jaccard \\\n",
    "--cleanup=ALL 2>/dev/null > 'cosine' \n",
    "!head -25 cosine"
   ]
  },
  {
   "cell_type": "markdown",
   "metadata": {},
   "source": [
    "==Design notes for (1)==\n",
    "For this task you will be able to modify the pattern we used in HW 3.2\n",
    "(feel free to use the solution as reference). To total the word counts \n",
    "across the 5-grams, output the support from the mappers using the total \n",
    "order inversion pattern:\n",
    "\n",
    "<*word,count>\n",
    "\n",
    "to ensure that the support arrives before the cooccurrences.\n",
    "\n",
    "In addition to ensuring the determination of the total word counts,\n",
    "the mapper must also output co-occurrence counts for the pairs of\n",
    "words inside of each 5-gram. Treat these words as a basket,\n",
    "as we have in HW 3, but count all stripes or pairs in both orders,\n",
    "i.e., count both orderings: (word1,word2), and (word2,word1), to preserve\n",
    "symmetry in our output for (2).\n",
    "\n",
    "==Design notes for (2)==\n",
    "For this task you will have to determine a method of comparison.\n",
    "Here are a few that you might consider:\n",
    "\n",
    "- Jaccard\n",
    "- Cosine similarity\n",
    "- Spearman correlation\n",
    "- Euclidean distance\n",
    "- Taxicab (Manhattan) distance\n",
    "- Shortest path graph distance (a graph, because our data is symmetric!)\n",
    "- Pearson correlation\n",
    "- Kendall correlation\n",
    "...\n",
    "\n",
    "However, be cautioned that some comparison methods are more difficult to\n",
    "parallelize than others, and do not perform more associations than is necessary, \n",
    "since your choice of association will be symmetric.\n",
    "\n",
    "Please use the inverted index (discussed in live session #5) based pattern to compute the pairwise (term-by-term) similarity matrix. \n",
    "\n",
    "Please report the size of the cluster used and the amount of time it takes to run for the index construction task and for the synonym calculation task. How many pairs need to be processed (HINT: use the posting list length to calculate directly)? Report your  Cluster configuration!"
   ]
  },
  {
   "cell_type": "code",
   "execution_count": null,
   "metadata": {
    "collapsed": true
   },
   "outputs": [],
   "source": []
  },
  {
   "cell_type": "markdown",
   "metadata": {},
   "source": [
    "### HW 5.5 \n",
    "Evaluation of synonyms that your discovered\n",
    "In this part of the assignment you will evaluate the success of you synonym detector (developed in response to HW5.4).\n",
    "Take the top 1,000 closest/most similar/correlative pairs of words as determined\n",
    "by your measure in HW5.4, and use the synonyms function in the accompanying\n",
    "python code:\n",
    "\n",
    "nltk_synonyms.py\n",
    "\n",
    "Note: This will require installing the python nltk package:\n",
    "\n",
    "http://www.nltk.org/install.html\n",
    "\n",
    "and downloading its data with nltk.download().\n",
    "\n",
    "For each (word1,word2) pair, check to see if word1 is in the list, \n",
    "synonyms(word2), and vice-versa. If one of the two is a synonym of the other, \n",
    "then consider this pair a 'hit', and then report the precision, recall, and F1 measure  of \n",
    "your detector across your 1,000 best guesses. Report the macro averages of these measures."
   ]
  },
  {
   "cell_type": "code",
   "execution_count": 385,
   "metadata": {
    "collapsed": true
   },
   "outputs": [],
   "source": [
    "#!/usr/bin/python2.7\n",
    "''' pass a string to this funciton ( eg 'car') and it will give you a list of\n",
    "words which is related to cat, called lemma of CAT. '''\n",
    "import nltk\n",
    "from nltk.corpus import wordnet as wn\n",
    "import sys\n",
    "import numpy as np\n",
    "#print all the synset element of an element\n",
    "def synonyms(string):\n",
    "    syndict = {}\n",
    "    for i,j in enumerate(wn.synsets(string)):\n",
    "        syns = j.lemma_names()\n",
    "        for syn in syns:\n",
    "            syndict.setdefault(syn,1)\n",
    "    return syndict.keys()"
   ]
  },
  {
   "cell_type": "code",
   "execution_count": 389,
   "metadata": {
    "collapsed": false
   },
   "outputs": [
    {
     "data": {
      "text/plain": [
       "[u'Bachelor_of_Arts',\n",
       " u'abdominal',\n",
       " u'BA',\n",
       " u'type_AB',\n",
       " u'AB',\n",
       " u'Artium_Baccalaurens',\n",
       " u'group_AB',\n",
       " u'Av',\n",
       " u'abdominal_muscle',\n",
       " u'ab',\n",
       " u'Ab']"
      ]
     },
     "execution_count": 389,
     "metadata": {},
     "output_type": "execute_result"
    }
   ],
   "source": [
    "synonyms(\"AB\")"
   ]
  },
  {
   "cell_type": "markdown",
   "metadata": {},
   "source": [
    "HW5.6 Optional\n",
    "\n",
    "Repeat HW5 using vocabulary words ranked from 8001,-10,000;  7001,-10,000; 6001,-10,000; 5001,-10,000; 3001,-10,000; and 1001,-10,000;\n",
    "Dont forget to report you Cluster configuration.\n",
    "\n",
    "Generate the following graphs:\n",
    "-- vocabulary size (X-Axis) versus CPU time for indexing\n",
    "-- vocabulary size (X-Axis) versus number of pairs processed\n",
    "-- vocabulary size (X-Axis) versus F1 measure, Precision, Recall\n",
    "\n",
    "\n",
    "\n",
    "--\n",
    "\n",
    "HW 5.7 (optional)\n",
    "There is also a corpus of stopwords, that is, high-frequency words like \"the\", \"to\" and \"also\" that we sometimes want to filter out of a document before further processing. Stopwords usually have little lexical content, and their presence in a text fails to distinguish it from other texts. Python's nltk comes with a prebuilt list of stopwords (see below). Using this stopword list filter out these tokens from your analysis and rerun the experiments in 5.5 and disucuss the results of using a stopword list and without using a stopword list.\n",
    "\n",
    ">> from nltk.corpus import stopwords\n",
    ">>> stopwords.words('english')\n",
    "['i', 'me', 'my', 'myself', 'we', 'our', 'ours', 'ourselves', 'you', 'your', 'yours',\n",
    "'yourself', 'yourselves', 'he', 'him', 'his', 'himself', 'she', 'her', 'hers',\n",
    "'herself', 'it', 'its', 'itself', 'they', 'them', 'their', 'theirs', 'themselves',\n",
    "'what', 'which', 'who', 'whom', 'this', 'that', 'these', 'those', 'am', 'is', 'are',\n",
    "'was', 'were', 'be', 'been', 'being', 'have', 'has', 'had', 'having', 'do', 'does',\n",
    "'did', 'doing', 'a', 'an', 'the', 'and', 'but', 'if', 'or', 'because', 'as', 'until',\n",
    "'while', 'of', 'at', 'by', 'for', 'with', 'about', 'against', 'between', 'into',\n",
    "'through', 'during', 'before', 'after', 'above', 'below', 'to', 'from', 'up', 'down',\n",
    "'in', 'out', 'on', 'off', 'over', 'under', 'again', 'further', 'then', 'once', 'here',\n",
    "'there', 'when', 'where', 'why', 'how', 'all', 'any', 'both', 'each', 'few', 'more',\n",
    "'most', 'other', 'some', 'such', 'no', 'nor', 'not', 'only', 'own', 'same', 'so',\n",
    "'than', 'too', 'very', 's', 't', 'can', 'will', 'just', 'don', 'should', 'now']\n",
    "\n",
    "HW 5.6 (optional)\n",
    "There are many good ways to build our synonym detectors, so for optional homework, \n",
    "measure co-occurrence by (left/right/all) consecutive words only, \n",
    "or make stripes according to word co-occurrences with the accompanying \n",
    "2-, 3-, or 4-grams (note here that your output will no longer \n",
    "be interpretable as a network) inside of the 5-grams.\n",
    "--\n",
    "\n",
    "Hw 5.7 (optional)\n",
    "Once again, benchmark your top 10,000 associations (as in 5.5), this time for your\n",
    "results from 5.6. Has your detector improved?\n",
    "\n",
    "--\n",
    "\n",
    "=====================\n",
    "END OF ASSIGNMENT #5\n",
    "====================="
   ]
  }
 ],
 "metadata": {
  "kernelspec": {
   "display_name": "Python 2",
   "language": "python",
   "name": "python2"
  },
  "language_info": {
   "codemirror_mode": {
    "name": "ipython",
    "version": 2
   },
   "file_extension": ".py",
   "mimetype": "text/x-python",
   "name": "python",
   "nbconvert_exporter": "python",
   "pygments_lexer": "ipython2",
   "version": "2.7.11"
  }
 },
 "nbformat": 4,
 "nbformat_minor": 0
}
