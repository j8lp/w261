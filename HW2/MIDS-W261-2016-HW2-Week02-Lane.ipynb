{
 "cells": [
  {
   "cell_type": "markdown",
   "metadata": {},
   "source": [
    "# DATASCI W261: Machine Learning at Scale\n",
    "## Assignment Week 2\n",
    "Jackson Lane (jelane@berkeley.edu) <br>\n",
    "W261-3 <br>"
   ]
  },
  {
   "cell_type": "markdown",
   "metadata": {},
   "source": [
    "## HW2.0.  \n",
    "##### What is a race condition in the context of parallel computation? Give an example."
   ]
  },
  {
   "cell_type": "markdown",
   "metadata": {},
   "source": [
    "A race condition is when the outcome of a certain program is determined by the order in which two or more parallel processess complete.  For example, consider the following pseudo code for a bank transaction:"
   ]
  },
  {
   "cell_type": "markdown",
   "metadata": {},
   "source": [
    "    function withdraw(amount):\n",
    "        if self.currentBalance > amount:\n",
    "            self.currentBalance -= amount\n",
    "            return amount\n",
    "        else:\n",
    "            raise \"Not enough money error\""
   ]
  },
  {
   "cell_type": "markdown",
   "metadata": {},
   "source": [
    "If a husband and wife both simultaneously try to withdraw $1000 from a shared checking account with a $1500 balance, then the outcome is uncertain.  If the husband's transaction completes before the wife's transaction starts, then the wife will get an error message for not haivng enough funds.  However, if the both transactins get past the \"if statement\" before one of the transactions deducts the amount, then both transactions will succeed and the account will end up with a negative balance.   "
   ]
  },
  {
   "cell_type": "markdown",
   "metadata": {},
   "source": [
    "##### What is MapReduce? How does it differ from Hadoop?"
   ]
  },
  {
   "cell_type": "markdown",
   "metadata": {},
   "source": [
    "MapReduce is a programming model developed by Google.  It frames data transformation and processing in terms of Maps and Reduces.  The Map steps in the model can always be done in parallel.  In between the Map and Reduce steps, there is a Shuffle step where the outputs of the Map steps are sorted and passed in order to the Reduce steps.\n",
    "\n",
    "Apache Hadoop is a Java implementation of the MapReduce programming model.  It is not affiliated with Google and is just one of several implementations of the MapReduce programming model.  Hadoop also offers a file storage system called HDFS, which is separate from the MapReduce functionality and based on the Google File System model."
   ]
  },
  {
   "cell_type": "markdown",
   "metadata": {},
   "source": [
    "##### Which programming paradigm is Hadoop based on? Explain and give a simple example in code and show the code running."
   ]
  },
  {
   "cell_type": "markdown",
   "metadata": {},
   "source": [
    "Hadoop MapReduce is based on the MapReduce programming paradigm, which is in turn based off the \"Map\" and \"Reduce\" functions from functional programming, which is based on the idea of lambda calculus.  An example of functional programming is below  "
   ]
  },
  {
   "cell_type": "code",
   "execution_count": 136,
   "metadata": {
    "collapsed": false
   },
   "outputs": [
    {
     "data": {
      "text/plain": [
       "True"
      ]
     },
     "execution_count": 136,
     "metadata": {},
     "output_type": "execute_result"
    }
   ],
   "source": [
    "def f(lamb):\n",
    "    return lamb(1)\n",
    "\n",
    "f(bool) # Applies the function bool to 1"
   ]
  },
  {
   "cell_type": "markdown",
   "metadata": {},
   "source": [
    " HDFS is based on the Google File System paradigm, which is in turn based off the distributed file system paradigm "
   ]
  },
  {
   "cell_type": "markdown",
   "metadata": {},
   "source": [
    "## HW2.1. Sort in Hadoop MapReduce\n",
    "##### what happens if you have multiple reducers? Do you need additional steps? Explain."
   ]
  },
  {
   "cell_type": "markdown",
   "metadata": {},
   "source": [
    "Answer: If you have multiple reducers, then you will end up with multiple sorted lists at the end.  Each list will be sorted, but will only contain some of the elements of the input list.  To get back the entire input list sorted, you need a final reducer type job at the end to combine the outputs of all the other reducers with merge sort."
   ]
  },
  {
   "cell_type": "markdown",
   "metadata": {},
   "source": [
    "Write code to generate N  random records of the form < integer, “NA” >."
   ]
  },
  {
   "cell_type": "code",
   "execution_count": 137,
   "metadata": {
    "collapsed": false
   },
   "outputs": [
    {
     "name": "stdout",
     "output_type": "stream",
     "text": [
      "16/06/17 02:08:41 WARN util.NativeCodeLoader: Unable to load native-hadoop library for your platform... using builtin-java classes where applicable\n",
      "16/06/17 02:08:43 WARN util.NativeCodeLoader: Unable to load native-hadoop library for your platform... using builtin-java classes where applicable\n"
     ]
    }
   ],
   "source": [
    "import numpy as np\n",
    "\n",
    "#Utility function to generate N random records of the form < integer, \"NA\" >\n",
    "\n",
    "def make_input(N=10000, name=\"random\"):\n",
    "    file = open(name,\"w\")\n",
    "    #We want to generate numbers between a small range to test that the code handles duplicates \n",
    "    file.writelines(map(lambda i: \"<\" + str(i) + \",NA>\\n\", np.random.randint(1, 16,size=N)))\n",
    "    file.close()\n",
    "    return name\n",
    "make_input()\n",
    "!hadoop fs -mkdir -p .\n",
    "!hdfs dfs -put -f random"
   ]
  },
  {
   "cell_type": "code",
   "execution_count": 138,
   "metadata": {
    "collapsed": false
   },
   "outputs": [
    {
     "name": "stdout",
     "output_type": "stream",
     "text": [
      "Overwriting mappertop.py\n"
     ]
    }
   ],
   "source": [
    "%%writefile mappertop.py\n",
    "#!/usr/bin/python\n",
    "# mapper.py\n",
    "# Author:Jackson Lane\n",
    "# Description: mapper code for HW2.1\n",
    "\n",
    "import sys\n",
    "\n",
    "# Our input comes from STDIN (standard input)\n",
    "for line in sys.stdin:\n",
    "    print line[1:].strip()"
   ]
  },
  {
   "cell_type": "markdown",
   "metadata": {},
   "source": [
    "Let N = 10,000. Write the python Hadoop streaming map-reduce job to perform this sort. Display the top 10 biggest numbers. Display the 10 smallest numbers"
   ]
  },
  {
   "cell_type": "code",
   "execution_count": 139,
   "metadata": {
    "collapsed": false
   },
   "outputs": [
    {
     "name": "stdout",
     "output_type": "stream",
     "text": [
      "Overwriting reducertop.py\n"
     ]
    }
   ],
   "source": [
    "%%writefile reducertop.py\n",
    "#!/usr/bin/python \n",
    "# reducer.py\n",
    "# Author:Jackson Lane\n",
    "# Description: reducer code for HW2.1\n",
    "import sys,Queue\n",
    "from collections import deque\n",
    "min_elements= []\n",
    "max_elements = deque([])\n",
    "\n",
    "\n",
    "for line in sys.stdin:\n",
    "    value,_ = line.split(\",\")\n",
    "    if len(min_elements) < 10 and value not in min_elements:\n",
    "        min_elements.append(value)\n",
    "    #Removed the duplicate check here\n",
    "    #if value not in max_elements:\n",
    "    if(len(max_elements) >= 10):\n",
    "        max_elements.popleft()\n",
    "    max_elements.append(value)\n",
    "\n",
    "print \"10 smallest numbers:\", min_elements\n",
    "print\n",
    "print \"10 biggest numbers:\", list(max_elements)\n",
    "\n"
   ]
  },
  {
   "cell_type": "markdown",
   "metadata": {},
   "source": [
    "Run the mapreduce job"
   ]
  },
  {
   "cell_type": "code",
   "execution_count": 140,
   "metadata": {
    "collapsed": false
   },
   "outputs": [
    {
     "name": "stdout",
     "output_type": "stream",
     "text": [
      "16/06/17 02:08:45 WARN util.NativeCodeLoader: Unable to load native-hadoop library for your platform... using builtin-java classes where applicable\n",
      "16/06/17 02:08:45 INFO fs.TrashPolicyDefault: Namenode trash configuration: Deletion interval = 0 minutes, Emptier interval = 0 minutes.\n",
      "Deleted results/2.1\n",
      "16/06/17 02:08:46 WARN streaming.StreamJob: -file option is deprecated, please use generic option -files instead.\n",
      "16/06/17 02:08:46 WARN util.NativeCodeLoader: Unable to load native-hadoop library for your platform... using builtin-java classes where applicable\n",
      "packageJobJar: [mappertop.py, reducertop.py, /tmp/hadoop-unjar4130080841929025230/] [] /tmp/streamjob3824020512043058011.jar tmpDir=null\n",
      "16/06/17 02:08:47 INFO client.RMProxy: Connecting to ResourceManager at /119.81.225.34:8032\n",
      "16/06/17 02:08:47 INFO client.RMProxy: Connecting to ResourceManager at /119.81.225.34:8032\n",
      "16/06/17 02:08:48 INFO mapred.FileInputFormat: Total input paths to process : 1\n",
      "16/06/17 02:08:48 INFO mapreduce.JobSubmitter: number of splits:2\n",
      "16/06/17 02:08:48 INFO mapreduce.JobSubmitter: Submitting tokens for job: job_1466055390565_0082\n",
      "16/06/17 02:08:49 INFO impl.YarnClientImpl: Submitted application application_1466055390565_0082\n",
      "16/06/17 02:08:49 INFO mapreduce.Job: The url to track the job: http://119.81.225.34:8088/proxy/application_1466055390565_0082/\n",
      "16/06/17 02:08:49 INFO mapreduce.Job: Running job: job_1466055390565_0082\n",
      "16/06/17 02:08:54 INFO mapreduce.Job: Job job_1466055390565_0082 running in uber mode : false\n",
      "16/06/17 02:08:54 INFO mapreduce.Job:  map 0% reduce 0%\n",
      "16/06/17 02:08:59 INFO mapreduce.Job:  map 100% reduce 0%\n",
      "16/06/17 02:09:03 INFO mapreduce.Job:  map 100% reduce 100%\n",
      "16/06/17 02:09:04 INFO mapreduce.Job: Job job_1466055390565_0082 completed successfully\n",
      "16/06/17 02:09:04 INFO mapreduce.Job: Counters: 49\n",
      "\tFile System Counters\n",
      "\t\tFILE: Number of bytes read=93943\n",
      "\t\tFILE: Number of bytes written=545992\n",
      "\t\tFILE: Number of read operations=0\n",
      "\t\tFILE: Number of large read operations=0\n",
      "\t\tFILE: Number of write operations=0\n",
      "\t\tHDFS: Number of bytes read=78099\n",
      "\t\tHDFS: Number of bytes written=158\n",
      "\t\tHDFS: Number of read operations=9\n",
      "\t\tHDFS: Number of large read operations=0\n",
      "\t\tHDFS: Number of write operations=2\n",
      "\tJob Counters \n",
      "\t\tLaunched map tasks=2\n",
      "\t\tLaunched reduce tasks=1\n",
      "\t\tRack-local map tasks=2\n",
      "\t\tTotal time spent by all maps in occupied slots (ms)=159776\n",
      "\t\tTotal time spent by all reduces in occupied slots (ms)=77056\n",
      "\t\tTotal time spent by all map tasks (ms)=4993\n",
      "\t\tTotal time spent by all reduce tasks (ms)=2408\n",
      "\t\tTotal vcore-seconds taken by all map tasks=4993\n",
      "\t\tTotal vcore-seconds taken by all reduce tasks=2408\n",
      "\t\tTotal megabyte-seconds taken by all map tasks=163610624\n",
      "\t\tTotal megabyte-seconds taken by all reduce tasks=78905344\n",
      "\tMap-Reduce Framework\n",
      "\t\tMap input records=10000\n",
      "\t\tMap output records=10000\n",
      "\t\tMap output bytes=73937\n",
      "\t\tMap output materialized bytes=93949\n",
      "\t\tInput split bytes=170\n",
      "\t\tCombine input records=0\n",
      "\t\tCombine output records=0\n",
      "\t\tReduce input groups=15\n",
      "\t\tReduce shuffle bytes=93949\n",
      "\t\tReduce input records=10000\n",
      "\t\tReduce output records=3\n",
      "\t\tSpilled Records=20000\n",
      "\t\tShuffled Maps =2\n",
      "\t\tFailed Shuffles=0\n",
      "\t\tMerged Map outputs=2\n",
      "\t\tGC time elapsed (ms)=198\n",
      "\t\tCPU time spent (ms)=2670\n",
      "\t\tPhysical memory (bytes) snapshot=826781696\n",
      "\t\tVirtual memory (bytes) snapshot=32382095360\n",
      "\t\tTotal committed heap usage (bytes)=1356333056\n",
      "\tShuffle Errors\n",
      "\t\tBAD_ID=0\n",
      "\t\tCONNECTION=0\n",
      "\t\tIO_ERROR=0\n",
      "\t\tWRONG_LENGTH=0\n",
      "\t\tWRONG_MAP=0\n",
      "\t\tWRONG_REDUCE=0\n",
      "\tFile Input Format Counters \n",
      "\t\tBytes Read=77929\n",
      "\tFile Output Format Counters \n",
      "\t\tBytes Written=158\n",
      "16/06/17 02:09:04 INFO streaming.StreamJob: Output directory: results/2.1\n"
     ]
    }
   ],
   "source": [
    "!hdfs dfs -rm -r results/2.1\n",
    "!hadoop jar $HADOOP_HOME/share/hadoop/tools/lib/hadoop-streaming-2*.jar \\\n",
    "-D mapreduce.job.output.key.comparator.class=org.apache.hadoop.mapred.lib.KeyFieldBasedComparator \\\n",
    "-D mapreduce.partition.keycomparator.options=-n \\\n",
    "-D mapreduce.output.key.field.separator=\",\" \\\n",
    "-file mappertop.py \\\n",
    "-file reducertop.py \\\n",
    "-mapper \"mappertop.py\" \\\n",
    "-reducer \"reducertop.py\" \\\n",
    "-input random \\\n",
    "-output results/2.1"
   ]
  },
  {
   "cell_type": "code",
   "execution_count": 141,
   "metadata": {
    "collapsed": false
   },
   "outputs": [
    {
     "name": "stdout",
     "output_type": "stream",
     "text": [
      "16/06/17 02:09:05 WARN util.NativeCodeLoader: Unable to load native-hadoop library for your platform... using builtin-java classes where applicable\n",
      "10 smallest numbers: ['1', '2', '3', '4', '5', '6', '7', '8', '9', '10']\t\n",
      "\t\n",
      "10 biggest numbers: ['15', '15', '15', '15', '15', '15', '15', '15', '15', '15']\t\n"
     ]
    }
   ],
   "source": [
    "!hdfs dfs -cat results/2.1/part-00000"
   ]
  },
  {
   "cell_type": "markdown",
   "metadata": {},
   "source": [
    "## HW2.2.  WORDCOUNT\n",
    "Using the Enron data from HW1 and Hadoop MapReduce streaming, write the mapper/reducer job that  will determine the word count (number of occurrences) of each white-space delimitted token (assume spaces, fullstops, comma as delimiters). Examine the word “assistance” and report its word count results."
   ]
  },
  {
   "cell_type": "code",
   "execution_count": 142,
   "metadata": {
    "collapsed": false
   },
   "outputs": [
    {
     "name": "stdout",
     "output_type": "stream",
     "text": [
      "Overwriting mapperwordcount.py\n"
     ]
    }
   ],
   "source": [
    "%%writefile mapperwordcount.py\n",
    "#!/usr/bin/python \n",
    "# mapper.py\n",
    "# Author: Jackson Lane\n",
    "\n",
    "import sys\n",
    "import re\n",
    "findword = \"\"\n",
    "if len(sys.argv) > 1:\n",
    "    findword = sys.argv[1].lower()\n",
    "for line in sys.stdin:\n",
    "    line = line.strip()\n",
    "    line = re.sub('\\n','',line)\n",
    "    words = re.split('\\W+',line)\n",
    "    for word in words:\n",
    "        if len(word) > 0 and (len(findword) < 1 or findword == word.strip()):\n",
    "            print word,1\n"
   ]
  },
  {
   "cell_type": "code",
   "execution_count": 143,
   "metadata": {
    "collapsed": false
   },
   "outputs": [
    {
     "name": "stdout",
     "output_type": "stream",
     "text": [
      "Overwriting reducerwordcount.py\n"
     ]
    }
   ],
   "source": [
    "%%writefile reducerwordcount.py\n",
    "#!/usr/bin/python \n",
    "# reducer.py\n",
    "# Author: Jackson Lane\n",
    "from __future__ import print_function\n",
    "from operator import itemgetter\n",
    "import sys\n",
    "\n",
    "word = \"\"\n",
    "count = 0\n",
    "\n",
    "for line in sys.stdin:\n",
    "    # remove leading and trailing whitespace\n",
    "    line = line.strip()\n",
    "    newword, newcount = line.split()\n",
    "    newcount = 1\n",
    "    if (newword == word): count += newcount\n",
    "    else:\n",
    "        # We have finished with all instances of the current word.  \n",
    "        # Print total count and move on to next word\n",
    "        if (count > 0): print (\"<\",count,\",\", word ,\">\",sep='')\n",
    "        word = newword\n",
    "        count = newcount\n",
    "if (count > 0): print (\"<\",count,\",\", word ,\">\", sep='')\n"
   ]
  },
  {
   "cell_type": "markdown",
   "metadata": {},
   "source": [
    "Run the mapreduce job"
   ]
  },
  {
   "cell_type": "code",
   "execution_count": 144,
   "metadata": {
    "collapsed": false
   },
   "outputs": [
    {
     "name": "stdout",
     "output_type": "stream",
     "text": [
      "16/06/17 02:09:07 WARN util.NativeCodeLoader: Unable to load native-hadoop library for your platform... using builtin-java classes where applicable\n",
      "16/06/17 02:09:07 INFO fs.TrashPolicyDefault: Namenode trash configuration: Deletion interval = 0 minutes, Emptier interval = 0 minutes.\n",
      "Deleted results/2.2\n",
      "16/06/17 02:09:09 WARN util.NativeCodeLoader: Unable to load native-hadoop library for your platform... using builtin-java classes where applicable\n",
      "16/06/17 02:09:10 WARN streaming.StreamJob: -file option is deprecated, please use generic option -files instead.\n",
      "16/06/17 02:09:11 WARN util.NativeCodeLoader: Unable to load native-hadoop library for your platform... using builtin-java classes where applicable\n",
      "packageJobJar: [mapperwordcount.py, reducerwordcount.py, /tmp/hadoop-unjar8973235795763730311/] [] /tmp/streamjob4723042300583998361.jar tmpDir=null\n",
      "16/06/17 02:09:11 INFO client.RMProxy: Connecting to ResourceManager at /119.81.225.34:8032\n",
      "16/06/17 02:09:12 INFO client.RMProxy: Connecting to ResourceManager at /119.81.225.34:8032\n",
      "16/06/17 02:09:12 INFO mapred.FileInputFormat: Total input paths to process : 1\n",
      "16/06/17 02:09:12 INFO mapreduce.JobSubmitter: number of splits:2\n",
      "16/06/17 02:09:12 INFO mapreduce.JobSubmitter: Submitting tokens for job: job_1466055390565_0083\n",
      "16/06/17 02:09:12 INFO impl.YarnClientImpl: Submitted application application_1466055390565_0083\n",
      "16/06/17 02:09:12 INFO mapreduce.Job: The url to track the job: http://119.81.225.34:8088/proxy/application_1466055390565_0083/\n",
      "16/06/17 02:09:12 INFO mapreduce.Job: Running job: job_1466055390565_0083\n",
      "16/06/17 02:09:17 INFO mapreduce.Job: Job job_1466055390565_0083 running in uber mode : false\n",
      "16/06/17 02:09:17 INFO mapreduce.Job:  map 0% reduce 0%\n",
      "16/06/17 02:09:23 INFO mapreduce.Job:  map 100% reduce 0%\n",
      "16/06/17 02:09:27 INFO mapreduce.Job:  map 100% reduce 100%\n",
      "16/06/17 02:09:28 INFO mapreduce.Job: Job job_1466055390565_0083 completed successfully\n",
      "16/06/17 02:09:28 INFO mapreduce.Job: Counters: 50\n",
      "\tFile System Counters\n",
      "\t\tFILE: Number of bytes read=166\n",
      "\t\tFILE: Number of bytes written=357181\n",
      "\t\tFILE: Number of read operations=0\n",
      "\t\tFILE: Number of large read operations=0\n",
      "\t\tFILE: Number of write operations=0\n",
      "\t\tHDFS: Number of bytes read=217219\n",
      "\t\tHDFS: Number of bytes written=17\n",
      "\t\tHDFS: Number of read operations=9\n",
      "\t\tHDFS: Number of large read operations=0\n",
      "\t\tHDFS: Number of write operations=2\n",
      "\tJob Counters \n",
      "\t\tLaunched map tasks=2\n",
      "\t\tLaunched reduce tasks=1\n",
      "\t\tData-local map tasks=1\n",
      "\t\tRack-local map tasks=1\n",
      "\t\tTotal time spent by all maps in occupied slots (ms)=157408\n",
      "\t\tTotal time spent by all reduces in occupied slots (ms)=75424\n",
      "\t\tTotal time spent by all map tasks (ms)=4919\n",
      "\t\tTotal time spent by all reduce tasks (ms)=2357\n",
      "\t\tTotal vcore-seconds taken by all map tasks=4919\n",
      "\t\tTotal vcore-seconds taken by all reduce tasks=2357\n",
      "\t\tTotal megabyte-seconds taken by all map tasks=161185792\n",
      "\t\tTotal megabyte-seconds taken by all reduce tasks=77234176\n",
      "\tMap-Reduce Framework\n",
      "\t\tMap input records=100\n",
      "\t\tMap output records=10\n",
      "\t\tMap output bytes=140\n",
      "\t\tMap output materialized bytes=172\n",
      "\t\tInput split bytes=192\n",
      "\t\tCombine input records=0\n",
      "\t\tCombine output records=0\n",
      "\t\tReduce input groups=1\n",
      "\t\tReduce shuffle bytes=172\n",
      "\t\tReduce input records=10\n",
      "\t\tReduce output records=1\n",
      "\t\tSpilled Records=20\n",
      "\t\tShuffled Maps =2\n",
      "\t\tFailed Shuffles=0\n",
      "\t\tMerged Map outputs=2\n",
      "\t\tGC time elapsed (ms)=200\n",
      "\t\tCPU time spent (ms)=1790\n",
      "\t\tPhysical memory (bytes) snapshot=816472064\n",
      "\t\tVirtual memory (bytes) snapshot=32380530688\n",
      "\t\tTotal committed heap usage (bytes)=1360003072\n",
      "\tShuffle Errors\n",
      "\t\tBAD_ID=0\n",
      "\t\tCONNECTION=0\n",
      "\t\tIO_ERROR=0\n",
      "\t\tWRONG_LENGTH=0\n",
      "\t\tWRONG_MAP=0\n",
      "\t\tWRONG_REDUCE=0\n",
      "\tFile Input Format Counters \n",
      "\t\tBytes Read=217027\n",
      "\tFile Output Format Counters \n",
      "\t\tBytes Written=17\n",
      "16/06/17 02:09:28 INFO streaming.StreamJob: Output directory: results/2.2\n"
     ]
    }
   ],
   "source": [
    "!hdfs dfs -rm -r results/2.2\n",
    "!hdfs dfs -put -p -f enronemail_1h.txt\n",
    "!hadoop jar $HADOOP_HOME/share/hadoop/tools/lib/hadoop-streaming-2*.jar \\\n",
    "-file mapperwordcount.py \\\n",
    "-file reducerwordcount.py \\\n",
    "-mapper \"mapperwordcount.py assistance\" \\\n",
    "-reducer \"reducerwordcount.py\" \\\n",
    "-input enronemail_1h.txt \\\n",
    "-output results/2.2"
   ]
  },
  {
   "cell_type": "code",
   "execution_count": 145,
   "metadata": {
    "collapsed": false
   },
   "outputs": [
    {
     "name": "stdout",
     "output_type": "stream",
     "text": [
      "16/06/17 02:09:29 WARN util.NativeCodeLoader: Unable to load native-hadoop library for your platform... using builtin-java classes where applicable\n",
      "<10,assistance>\t\n"
     ]
    }
   ],
   "source": [
    "!hdfs dfs -cat results/2.2/part-00000"
   ]
  },
  {
   "cell_type": "markdown",
   "metadata": {},
   "source": [
    " \n",
    "CROSSCHECK: >grep assistance enronemail_1h.txt|cut -d$'\\t' -f4| grep assistance|wc -l    \n",
    "           \n",
    "       #NOTE  \"assistance\" occurs on 8 lines but how many times does the token occur? 10 times! This is the number we are looking for!"
   ]
  },
  {
   "cell_type": "markdown",
   "metadata": {},
   "source": [
    "### HW2.2.1  Using Hadoop MapReduce and your wordcount job (from HW2.2) determine the top-10 occurring tokens (most frequent tokens)\n"
   ]
  },
  {
   "cell_type": "markdown",
   "metadata": {},
   "source": [
    "<i>Here I am going to use the word count mapper and reducer to first produce the word counts for the enron e-mails in a temporay directory as a list of pairs.  Then I'm going feed this output into the the mapper from 2.1 and a slightly modified reducer from 2.1 to get the top occuring tokens from this list of pairs.  I need to modify the 2.1 reducer so it outputs only the top 10 elements instead of the top 10 and bottom 10 numbers. </i>"
   ]
  },
  {
   "cell_type": "code",
   "execution_count": 146,
   "metadata": {
    "collapsed": false
   },
   "outputs": [
    {
     "name": "stdout",
     "output_type": "stream",
     "text": [
      "Overwriting reducertop.py\n"
     ]
    }
   ],
   "source": [
    "%%writefile reducertop.py\n",
    "#!/usr/bin/python\n",
    "# reducer.py\n",
    "# Author:Jackson Lane\n",
    "# Description: reducer code for HW2.2.1\n",
    "import sys,Queue\n",
    "from collections import deque\n",
    "min_elements= []\n",
    "max_elements = deque([])\n",
    "\n",
    "\n",
    "for line in sys.stdin:\n",
    "        value,word = line.split(\",\")\n",
    "        #For some reason, hadoop puts a tab and a newline at the end of each word\n",
    "        word = word[:-3]\n",
    "        if len(min_elements) < 10:\n",
    "            min_elements.append((value,word))\n",
    "        if(len(max_elements) >= 10):\n",
    "            max_elements.popleft()\n",
    "        max_elements.append((value,word))\n",
    "\n",
    "print \"10 most common tokens:\"\n",
    "for i in range(len(max_elements)):\n",
    "    print i+1,\":\", max_elements[-(i+1)]\n",
    "\n"
   ]
  },
  {
   "cell_type": "markdown",
   "metadata": {},
   "source": [
    "Run the mapreduce job"
   ]
  },
  {
   "cell_type": "code",
   "execution_count": 147,
   "metadata": {
    "collapsed": false
   },
   "outputs": [
    {
     "name": "stdout",
     "output_type": "stream",
     "text": [
      "16/06/17 02:09:31 WARN util.NativeCodeLoader: Unable to load native-hadoop library for your platform... using builtin-java classes where applicable\n",
      "16/06/17 02:09:31 INFO fs.TrashPolicyDefault: Namenode trash configuration: Deletion interval = 0 minutes, Emptier interval = 0 minutes.\n",
      "Deleted results/2.2\n",
      "16/06/17 02:09:32 WARN util.NativeCodeLoader: Unable to load native-hadoop library for your platform... using builtin-java classes where applicable\n",
      "16/06/17 02:09:33 INFO fs.TrashPolicyDefault: Namenode trash configuration: Deletion interval = 0 minutes, Emptier interval = 0 minutes.\n",
      "Deleted temp\n",
      "16/06/17 02:09:34 WARN util.NativeCodeLoader: Unable to load native-hadoop library for your platform... using builtin-java classes where applicable\n",
      "16/06/17 02:09:36 WARN streaming.StreamJob: -file option is deprecated, please use generic option -files instead.\n",
      "16/06/17 02:09:36 WARN util.NativeCodeLoader: Unable to load native-hadoop library for your platform... using builtin-java classes where applicable\n",
      "packageJobJar: [mapperwordcount.py, reducerwordcount.py, /tmp/hadoop-unjar2135833777363314826/] [] /tmp/streamjob4148647556328262259.jar tmpDir=null\n",
      "16/06/17 02:09:37 INFO client.RMProxy: Connecting to ResourceManager at /119.81.225.34:8032\n",
      "16/06/17 02:09:37 INFO client.RMProxy: Connecting to ResourceManager at /119.81.225.34:8032\n",
      "16/06/17 02:09:37 INFO mapred.FileInputFormat: Total input paths to process : 1\n",
      "16/06/17 02:09:38 INFO mapreduce.JobSubmitter: number of splits:2\n",
      "16/06/17 02:09:38 INFO mapreduce.JobSubmitter: Submitting tokens for job: job_1466055390565_0084\n",
      "16/06/17 02:09:38 INFO impl.YarnClientImpl: Submitted application application_1466055390565_0084\n",
      "16/06/17 02:09:38 INFO mapreduce.Job: The url to track the job: http://119.81.225.34:8088/proxy/application_1466055390565_0084/\n",
      "16/06/17 02:09:38 INFO mapreduce.Job: Running job: job_1466055390565_0084\n",
      "16/06/17 02:09:43 INFO mapreduce.Job: Job job_1466055390565_0084 running in uber mode : false\n",
      "16/06/17 02:09:43 INFO mapreduce.Job:  map 0% reduce 0%\n",
      "16/06/17 02:09:48 INFO mapreduce.Job:  map 100% reduce 0%\n",
      "16/06/17 02:09:53 INFO mapreduce.Job:  map 100% reduce 100%\n",
      "16/06/17 02:09:53 INFO mapreduce.Job: Job job_1466055390565_0084 completed successfully\n",
      "16/06/17 02:09:53 INFO mapreduce.Job: Counters: 49\n",
      "\tFile System Counters\n",
      "\t\tFILE: Number of bytes read=357524\n",
      "\t\tFILE: Number of bytes written=1071843\n",
      "\t\tFILE: Number of read operations=0\n",
      "\t\tFILE: Number of large read operations=0\n",
      "\t\tFILE: Number of write operations=0\n",
      "\t\tHDFS: Number of bytes read=217219\n",
      "\t\tHDFS: Number of bytes written=69040\n",
      "\t\tHDFS: Number of read operations=9\n",
      "\t\tHDFS: Number of large read operations=0\n",
      "\t\tHDFS: Number of write operations=2\n",
      "\tJob Counters \n",
      "\t\tLaunched map tasks=2\n",
      "\t\tLaunched reduce tasks=1\n",
      "\t\tRack-local map tasks=2\n",
      "\t\tTotal time spent by all maps in occupied slots (ms)=161440\n",
      "\t\tTotal time spent by all reduces in occupied slots (ms)=84832\n",
      "\t\tTotal time spent by all map tasks (ms)=5045\n",
      "\t\tTotal time spent by all reduce tasks (ms)=2651\n",
      "\t\tTotal vcore-seconds taken by all map tasks=5045\n",
      "\t\tTotal vcore-seconds taken by all reduce tasks=2651\n",
      "\t\tTotal megabyte-seconds taken by all map tasks=165314560\n",
      "\t\tTotal megabyte-seconds taken by all reduce tasks=86867968\n",
      "\tMap-Reduce Framework\n",
      "\t\tMap input records=100\n",
      "\t\tMap output records=33764\n",
      "\t\tMap output bytes=289990\n",
      "\t\tMap output materialized bytes=357530\n",
      "\t\tInput split bytes=192\n",
      "\t\tCombine input records=0\n",
      "\t\tCombine output records=0\n",
      "\t\tReduce input groups=5432\n",
      "\t\tReduce shuffle bytes=357530\n",
      "\t\tReduce input records=33764\n",
      "\t\tReduce output records=5432\n",
      "\t\tSpilled Records=67528\n",
      "\t\tShuffled Maps =2\n",
      "\t\tFailed Shuffles=0\n",
      "\t\tMerged Map outputs=2\n",
      "\t\tGC time elapsed (ms)=201\n",
      "\t\tCPU time spent (ms)=3190\n",
      "\t\tPhysical memory (bytes) snapshot=821764096\n",
      "\t\tVirtual memory (bytes) snapshot=32383008768\n",
      "\t\tTotal committed heap usage (bytes)=1350565888\n",
      "\tShuffle Errors\n",
      "\t\tBAD_ID=0\n",
      "\t\tCONNECTION=0\n",
      "\t\tIO_ERROR=0\n",
      "\t\tWRONG_LENGTH=0\n",
      "\t\tWRONG_MAP=0\n",
      "\t\tWRONG_REDUCE=0\n",
      "\tFile Input Format Counters \n",
      "\t\tBytes Read=217027\n",
      "\tFile Output Format Counters \n",
      "\t\tBytes Written=69040\n",
      "16/06/17 02:09:53 INFO streaming.StreamJob: Output directory: temp\n",
      "16/06/17 02:09:54 WARN streaming.StreamJob: -file option is deprecated, please use generic option -files instead.\n",
      "16/06/17 02:09:54 WARN util.NativeCodeLoader: Unable to load native-hadoop library for your platform... using builtin-java classes where applicable\n",
      "packageJobJar: [mappertop.py, reducertop.py, /tmp/hadoop-unjar7088661306070393140/] [] /tmp/streamjob516687545541049927.jar tmpDir=null\n",
      "16/06/17 02:09:55 INFO client.RMProxy: Connecting to ResourceManager at /119.81.225.34:8032\n",
      "16/06/17 02:09:55 INFO client.RMProxy: Connecting to ResourceManager at /119.81.225.34:8032\n",
      "16/06/17 02:09:55 INFO mapred.FileInputFormat: Total input paths to process : 1\n",
      "16/06/17 02:09:55 INFO mapreduce.JobSubmitter: number of splits:2\n",
      "16/06/17 02:09:56 INFO mapreduce.JobSubmitter: Submitting tokens for job: job_1466055390565_0085\n",
      "16/06/17 02:09:56 INFO impl.YarnClientImpl: Submitted application application_1466055390565_0085\n",
      "16/06/17 02:09:56 INFO mapreduce.Job: The url to track the job: http://119.81.225.34:8088/proxy/application_1466055390565_0085/\n",
      "16/06/17 02:09:56 INFO mapreduce.Job: Running job: job_1466055390565_0085\n",
      "16/06/17 02:10:01 INFO mapreduce.Job: Job job_1466055390565_0085 running in uber mode : false\n",
      "16/06/17 02:10:01 INFO mapreduce.Job:  map 0% reduce 0%\n",
      "16/06/17 02:10:06 INFO mapreduce.Job:  map 100% reduce 0%\n",
      "16/06/17 02:10:10 INFO mapreduce.Job:  map 100% reduce 100%\n",
      "16/06/17 02:10:11 INFO mapreduce.Job: Job job_1466055390565_0085 completed successfully\n",
      "16/06/17 02:10:11 INFO mapreduce.Job: Counters: 49\n",
      "\tFile System Counters\n",
      "\t\tFILE: Number of bytes read=74478\n",
      "\t\tFILE: Number of bytes written=507053\n",
      "\t\tFILE: Number of read operations=0\n",
      "\t\tFILE: Number of large read operations=0\n",
      "\t\tFILE: Number of write operations=0\n",
      "\t\tHDFS: Number of bytes read=71572\n",
      "\t\tHDFS: Number of bytes written=222\n",
      "\t\tHDFS: Number of read operations=9\n",
      "\t\tHDFS: Number of large read operations=0\n",
      "\t\tHDFS: Number of write operations=2\n",
      "\tJob Counters \n",
      "\t\tLaunched map tasks=2\n",
      "\t\tLaunched reduce tasks=1\n",
      "\t\tRack-local map tasks=2\n",
      "\t\tTotal time spent by all maps in occupied slots (ms)=158720\n",
      "\t\tTotal time spent by all reduces in occupied slots (ms)=77696\n",
      "\t\tTotal time spent by all map tasks (ms)=4960\n",
      "\t\tTotal time spent by all reduce tasks (ms)=2428\n",
      "\t\tTotal vcore-seconds taken by all map tasks=4960\n",
      "\t\tTotal vcore-seconds taken by all reduce tasks=2428\n",
      "\t\tTotal megabyte-seconds taken by all map tasks=162529280\n",
      "\t\tTotal megabyte-seconds taken by all reduce tasks=79560704\n",
      "\tMap-Reduce Framework\n",
      "\t\tMap input records=5432\n",
      "\t\tMap output records=5432\n",
      "\t\tMap output bytes=63608\n",
      "\t\tMap output materialized bytes=74484\n",
      "\t\tInput split bytes=188\n",
      "\t\tCombine input records=0\n",
      "\t\tCombine output records=0\n",
      "\t\tReduce input groups=5432\n",
      "\t\tReduce shuffle bytes=74484\n",
      "\t\tReduce input records=5432\n",
      "\t\tReduce output records=11\n",
      "\t\tSpilled Records=10864\n",
      "\t\tShuffled Maps =2\n",
      "\t\tFailed Shuffles=0\n",
      "\t\tMerged Map outputs=2\n",
      "\t\tGC time elapsed (ms)=225\n",
      "\t\tCPU time spent (ms)=2480\n",
      "\t\tPhysical memory (bytes) snapshot=824160256\n",
      "\t\tVirtual memory (bytes) snapshot=32381730816\n",
      "\t\tTotal committed heap usage (bytes)=1355808768\n",
      "\tShuffle Errors\n",
      "\t\tBAD_ID=0\n",
      "\t\tCONNECTION=0\n",
      "\t\tIO_ERROR=0\n",
      "\t\tWRONG_LENGTH=0\n",
      "\t\tWRONG_MAP=0\n",
      "\t\tWRONG_REDUCE=0\n",
      "\tFile Input Format Counters \n",
      "\t\tBytes Read=71384\n",
      "\tFile Output Format Counters \n",
      "\t\tBytes Written=222\n",
      "16/06/17 02:10:11 INFO streaming.StreamJob: Output directory: results/2.2\n"
     ]
    }
   ],
   "source": [
    "!hdfs dfs -rm -r results/2.2\n",
    "!hdfs dfs -rm -r temp\n",
    "\n",
    "!hdfs dfs -put -p -f enronemail_1h.txt\n",
    "!hadoop jar $HADOOP_HOME/share/hadoop/tools/lib/hadoop-streaming-2*.jar \\\n",
    "-file mapperwordcount.py \\\n",
    "-file reducerwordcount.py \\\n",
    "-mapper \"mapperwordcount.py\" \\\n",
    "-reducer \"reducerwordcount.py\" \\\n",
    "-input enronemail_1h.txt \\\n",
    "-output temp\n",
    "\n",
    "!hadoop jar $HADOOP_HOME/share/hadoop/tools/lib/hadoop-streaming-2*.jar \\\n",
    "-D mapreduce.job.output.key.comparator.class=org.apache.hadoop.mapred.lib.KeyFieldBasedComparator \\\n",
    "-D mapreduce.partition.keycomparator.options=-n \\\n",
    "-D mapreduce.output.key.field.separator=\",\" \\\n",
    "-file mappertop.py \\\n",
    "-file reducertop.py \\\n",
    "-mapper \"mappertop.py\" \\\n",
    "-reducer \"reducertop.py\" \\\n",
    "-input temp \\\n",
    "-output results/2.2\n"
   ]
  },
  {
   "cell_type": "code",
   "execution_count": 148,
   "metadata": {
    "collapsed": false
   },
   "outputs": [
    {
     "name": "stdout",
     "output_type": "stream",
     "text": [
      "16/06/17 02:10:12 WARN util.NativeCodeLoader: Unable to load native-hadoop library for your platform... using builtin-java classes where applicable\n",
      "10 most common tokens:\t\n",
      "1 : ('1247', 'the')\t\n",
      "2 : ('964', 'to')\t\n",
      "3 : ('670', 'and')\t\n",
      "4 : ('566', 'of')\t\n",
      "5 : ('543', 'a')\t\n",
      "6 : ('444', 'you')\t\n",
      "7 : ('418', 'in')\t\n",
      "8 : ('394', 'your')\t\n",
      "9 : ('382', 'ect')\t\n",
      "10 : ('374', 'for')\t\n"
     ]
    }
   ],
   "source": [
    "!hdfs dfs -cat results/2.2/part-00000"
   ]
  },
  {
   "cell_type": "markdown",
   "metadata": {},
   "source": [
    "## HW2.3. Multinomial NAIVE BAYES with NO Smoothing\n",
    "Using the Enron data from HW1 and Hadoop MapReduce, write  a mapper/reducer job(s) that will both learn  Naive Bayes classifier and classify the Enron email messages using the learnt Naive Bayes classifier. "
   ]
  },
  {
   "cell_type": "markdown",
   "metadata": {},
   "source": [
    "++Answer: As per the assignment, I'm going to have two pairs of mappers and reducers.  The first map and reduce pair will take the enron e-mail data and output a naive bayes classification model.  This model will consist of the priors for spam and ham followed by the spam and ham conditional probabilities for each word in the e-mails.  \n",
    "\n",
    "Each conditional probability will be computed as:\n",
    "\n",
    "$$\n",
    "P(c\\mid w)=\\frac{N_{cw}\n",
    "}{N_c}\n",
    "$$\n",
    "\n",
    "Where $N_{cw}$ is the count of word w in all e-mails of class c and $N_c$ is the count of all words in all e-mails of class c.\n",
    "\n",
    "The second map and reduce pair will read in the model produced earlier and use it to classify a list of e-mails.  For this assignment, we are using the enron e-mails for both training and classification.  The posterior probability for each e-mail is computed as follows:\n",
    "\n",
    "$$\n",
    "\\hat{P}(c\\mid e) = log(prior_c) + \\sum_{w^\\prime \\in e}{log(P(c\\mid w))}\n",
    "$$\n",
    "\n",
    "Where $prior_c$ is the prior probability for class c and $\\sum_{w^\\prime \\in e}{log(P(c\\mid w))}$ is the sum of the logs of the conditional probabilities of class c given each word in the e-mail e.  As we are not using smoothing, some of these conditional probabilities are going to be 0, which means that taking their log will result in an undefined number.  I will ignore these errors in this problem with a try except statement."
   ]
  },
  {
   "cell_type": "markdown",
   "metadata": {},
   "source": [
    "Ths mapper will output each word and it's corresponding e-mail ID and class.  If a list of words is given to the mapper, it will only emit words that appear in that list."
   ]
  },
  {
   "cell_type": "code",
   "execution_count": 149,
   "metadata": {
    "collapsed": false
   },
   "outputs": [
    {
     "name": "stdout",
     "output_type": "stream",
     "text": [
      "Overwriting mapper_train.py\n"
     ]
    }
   ],
   "source": [
    "%%writefile mapper_train.py\n",
    "#!/usr/bin/python\n",
    "# mapper_train.py\n",
    "# Author: Jackson Lane\n",
    "# Description: mapper code to train e-mail classification model\n",
    "# Used for 2.3, 2.4, 2.5\n",
    "import sys\n",
    "import re\n",
    "\n",
    "# get list of user specified words\n",
    "findwords = []\n",
    "if len(sys.argv) > 1:\n",
    "    findwords = re.split(\" \",sys.argv[1].lower())\n",
    "for line in sys.stdin:  \n",
    "    fields=line.split('\\t') #parse line into separate fields\n",
    "    #There is some malformed data here.  Going to ignore\n",
    "    if len(fields) == 4:\n",
    "        line = re.sub('\\n','',line)\n",
    "        [email,spam,subject,content] = fields           \n",
    "        data = content.lower() + subject.lower()\n",
    "        words = re.split('\\W+',data)\n",
    "        for word in words:\n",
    "            #This flag indicates to the reducer that a given word is in the user specified word list\n",
    "            #This field is not used for this problem\n",
    "            if word in findwords or len(findwords) == 0:\n",
    "                flag=1\n",
    "            else: flag =0\n",
    "            print [email,spam,word,flag]"
   ]
  },
  {
   "cell_type": "markdown",
   "metadata": {},
   "source": [
    "This reducer will calculate the prior and conditional probabilities for each word for the two classes of e-mail.  First it will total how many times each word appears in each class and how many times e-mails are of each class.  Then it will use this information to compute the prior probabilities for the classes and the conditional probabilities for each word.  It will print this information to a file for later usage."
   ]
  },
  {
   "cell_type": "code",
   "execution_count": 150,
   "metadata": {
    "collapsed": false
   },
   "outputs": [
    {
     "name": "stdout",
     "output_type": "stream",
     "text": [
      "Overwriting reducer_train.py\n"
     ]
    }
   ],
   "source": [
    "%%writefile reducer_train.py\n",
    "#!/usr/bin/python\n",
    "# reducer_train.py\n",
    "# Author: Jackson Lane\n",
    "# Description: reducer code to train e-mail classification model\n",
    "# Slightly modified to also record error rate and posterior probabilities\n",
    "\n",
    "from __future__ import division #Python 3-style division syntax is much cleaner\n",
    "import sys\n",
    "from math import log\n",
    "\n",
    "words={}\n",
    "emails={}\n",
    "spam_email_count=0 #number of spam emails\n",
    "ham_email_count=0 #number of ham emails\n",
    "spam_word_count=0 #number of words in spam emails\n",
    "ham_word_count=0 #number of words in ham emails\n",
    "for line in sys.stdin:\n",
    "\n",
    "            #parse the incoming line\n",
    "            line=eval(line)\n",
    "            email=line[0]\n",
    "            spam=int(line[1])\n",
    "            word=line[2]\n",
    "            flag=int(line[3])\n",
    "            if spam==1:\n",
    "                words.setdefault(word,{'ham_count':0,'spam_count':0})[\"spam_count\"]+=1\n",
    "\n",
    "                spam_word_count+=1\n",
    "            else: \n",
    "                words.setdefault(word,{'ham_count':0,'spam_count':0})[\"ham_count\"]+=1\n",
    "\n",
    "                ham_word_count+=1\n",
    "            #store email data \n",
    "            if(email not in emails.keys()):\n",
    "                if spam==1:\n",
    "                    spam_email_count+=1\n",
    "                else: \n",
    "                    ham_email_count+=1\n",
    "                emails[email] = {'spam':spam,'word_count':0,'words':[]}\n",
    "            emails[email]['words'].append(word)\n",
    "            emails[email]['word_count']+=1\n",
    "#Calculate priors\n",
    "prior_spam=spam_email_count/len(emails)\n",
    "prior_ham=ham_email_count / len(emails)\n",
    "print prior_spam\n",
    "print prior_ham\n",
    "for word,freq in words.iteritems():\n",
    "    #emit word, conditional prob spam, conditional prob ham\n",
    "    print(word,(freq['spam_count'])/spam_word_count,(freq['ham_count'])/ham_word_count)\n",
    "\n"
   ]
  },
  {
   "cell_type": "markdown",
   "metadata": {},
   "source": [
    "<i>This mapper reads the probability information generated by the training mapper and reducer and uses that information to find the posterior probabilities and perform Naive Bayes classification on a corpus of e-mails.  This mapper actually performs the functions of both a mapper and a reducer.  Like the training mapper, this classification mapper first breaks up the input e-mails into words.  But this classification mappper also then sums up the logs of the prior and conditional probabilities for each word to get the log posterior probabilities for each e-mail, sort of like how the training reducer summed up the counts of each word to get the priors and conditionals.  This mapper then classifies each e-mail based on whether the log of the spam posterior is higher than the log of the ham posterior and then emits its guesses to the reducer. \n",
    "\n",
    "Ideally, this mapper should multiply the conditionals and priors rather than take the sum the logs of the conditionals and priors.  But multiplying probabilities together quickly leads to memory underflow, so most implementations of Naive Bayes find the logs of the posteriors to avoid underflow.  Unfortunately, this leads to another issue because because the mathematical log of 0 is undefined.  So to accomodate instances where a posterior probabiltiy is 0, I've added in a modified version of the log function called \"logSafe\" that returns negative infinity for log(0).  </i>\n"
   ]
  },
  {
   "cell_type": "code",
   "execution_count": 151,
   "metadata": {
    "collapsed": false
   },
   "outputs": [
    {
     "name": "stdout",
     "output_type": "stream",
     "text": [
      "Overwriting mapper_class.py\n"
     ]
    }
   ],
   "source": [
    "%%writefile mapper_class.py\n",
    "#!/usr/bin/python\n",
    "# mapper_class.py\n",
    "# Author: Jackson Lane\n",
    "# Description: mapper code to classify e-mails\n",
    "# Used for 2.3, 2.4, 2.5\n",
    "\n",
    "from __future__ import division #Python 3-style division syntax is much cleaner\n",
    "import sys,re, string, subprocess\n",
    "from math import log\n",
    "\n",
    "posts={}\n",
    "spam_ignored_probabilities = 0 #number of spam posterior probabilities that will be ignored because they are 0\n",
    "ham_ignored_probabilities = 0 #number of ham posterior probabilities that will be ignored because they are 0\n",
    "def logSafe(n):\n",
    "    if (n==0): return float(\"-inf\")\n",
    "    return log(n)\n",
    "\n",
    "with open (\"localmodel\", \"r\") as model:\n",
    "\n",
    "    prior_spam = float((model.readline())[:-2])\n",
    "    prior_ham =float((model.readline())[:-2])\n",
    "    for line in model.readlines():  \n",
    "        line = line[:-2]\n",
    "        word, p0, p1 = line.split()\n",
    "        #Why does Hadoop keep on appending weird tabs and apostrophes to my words?  Cleaning them up here\n",
    "        word=word[2:-2]\n",
    "        posts[str(word)] = [float(p0[:-1]), float(p1[:-1])]\n",
    "\n",
    "\n",
    "\n",
    "accuracy =0\n",
    "\n",
    "for line in sys.stdin:\n",
    "    line = re.sub('\\n','',line)\n",
    "    fields=line.split('\\t') #parse line into separate fields\n",
    "    #There is some malformed data here.  Going to ignore\n",
    "    if len(fields) != 4: continue\n",
    "    #Read off fields from model\n",
    "    [email,spam,subject,content] = fields           \n",
    "    data = content.lower() + subject.lower()\n",
    "    p_spam=log(prior_spam)\n",
    "    p_ham=log(prior_ham)\n",
    "    words = re.split('\\W+',data)\n",
    "    for word in words:\n",
    "\n",
    "        if word in posts:\n",
    "#Since there are so many words, the posteriors are going to be really low.  \n",
    "# So we need to use log to compute the posteriors.  Otherwise, we'll get underflow errors\n",
    "            log_spam = 0\n",
    "            log_ham = 0\n",
    "            try:\n",
    "                log_spam=logSafe((posts[word][0]))\n",
    "                log_ham=logSafe((posts[word][1]))\n",
    "                spam_ignored_probabilities += int(posts[word][0] ==0)\n",
    "                ham_ignored_probabilities += int(posts[word][1] ==0)\n",
    "            except ValueError:\n",
    "                #A value error means one of the conditional probabilities was zero\n",
    "                #Update zero counts for each class\n",
    "                sys.stderr.write(\"Zero word: \" + word + \" , Email: \" + email)\n",
    "                spam_ignored_probabilities += int(posts[word][0] ==0)\n",
    "                ham_ignored_probabilities += int(posts[word][1] ==0)\n",
    "                #And ignore the probabilities for that word\n",
    "                continue \n",
    "            p_spam+= log_spam\n",
    "            p_ham+= log_ham\n",
    "    if p_spam>p_ham:\n",
    "        spam_pred=1\n",
    "    else:\n",
    "        spam_pred=0\n",
    "    #I'd convert the posterior probabilities from the logs, but doing so would result in underflow\n",
    "    print [email,spam,spam_pred,p_spam,p_ham,spam_ignored_probabilities,ham_ignored_probabilities]"
   ]
  },
  {
   "cell_type": "markdown",
   "metadata": {},
   "source": [
    "<i>This reducer computes the summary statistics for the Naive Bayes classifier implemented in the mapper.  It collects the  e-mails and the mapper's predcitions and then computes the mapper's accuracy and error rates. The reducer also emits the number of zero valued conditionals for e-mail so that they can be subsequently plotted on a histogram.  \n",
    "\n",
    "In general, this reducer gets a relatively trivial task while the mapper actually performs the more significant reduction task of computing the posteriors.  I could have written it so that the reducer computes both reduction tasks instead of just one, but it's actually less network bandwidth for the mapper to computer the posteriors in memory.  \n",
    "</i>"
   ]
  },
  {
   "cell_type": "code",
   "execution_count": 152,
   "metadata": {
    "collapsed": false
   },
   "outputs": [
    {
     "name": "stdout",
     "output_type": "stream",
     "text": [
      "Overwriting reducer_class.py\n"
     ]
    }
   ],
   "source": [
    "%%writefile reducer_class.py\n",
    "#!/usr/bin/python\n",
    "# reducer_class.py\n",
    "# Author: Jackson Lane\n",
    "# Description: reducer code to classify input e-mails\n",
    "# Used for 2.3, 2.4, 2.5\n",
    "import sys\n",
    "import re\n",
    "\n",
    "# get list of user specified words\n",
    "\n",
    "spam_log_posterior_probabilities = [] #list of spam probabilities\n",
    "ham_log_posterior_probabilities = [] #list of ham probabilities\n",
    "accuracy = float(0)\n",
    "N=float(0)\n",
    "inf = float(\"inf\")\n",
    "for line in sys.stdin:  \n",
    "    N+=1\n",
    "    [email,spam,spam_pred,p_spam,p_ham, spam_ignored_probabilities, ham_ignored_probabilities]=eval(line[:-2])\n",
    "    # We only want to report the real number posterior probabiltiies.  \n",
    "    if (p_spam) <> float('-inf'):\n",
    "        spam_log_posterior_probabilities.append(p_spam)\n",
    "    if (p_ham) <> float('-inf'):\n",
    "        ham_log_posterior_probabilities.append(p_ham)\n",
    "    if (spam_pred == int(spam)): accuracy += 1\n",
    "\n",
    "print \"Accuracy:\", accuracy / N\n",
    "print \"Error Rate:\", 1- accuracy / N\n",
    "print \"Spam Zero Probabilities:\", spam_ignored_probabilities\n",
    "print \"Ham Zero Probabilities:\", ham_ignored_probabilities\n",
    "\n",
    "#Just getting these in the output file so I can use them in the next question\n",
    "print spam_log_posterior_probabilities\n",
    "print ham_log_posterior_probabilities\n",
    "  "
   ]
  },
  {
   "cell_type": "markdown",
   "metadata": {},
   "source": [
    "Run the mapreduce job"
   ]
  },
  {
   "cell_type": "code",
   "execution_count": 153,
   "metadata": {
    "collapsed": false
   },
   "outputs": [
    {
     "name": "stdout",
     "output_type": "stream",
     "text": [
      "16/06/17 02:10:14 WARN util.NativeCodeLoader: Unable to load native-hadoop library for your platform... using builtin-java classes where applicable\n",
      "16/06/17 02:10:15 INFO fs.TrashPolicyDefault: Namenode trash configuration: Deletion interval = 0 minutes, Emptier interval = 0 minutes.\n",
      "Deleted model\n",
      "16/06/17 02:10:16 WARN util.NativeCodeLoader: Unable to load native-hadoop library for your platform... using builtin-java classes where applicable\n",
      "16/06/17 02:10:16 INFO fs.TrashPolicyDefault: Namenode trash configuration: Deletion interval = 0 minutes, Emptier interval = 0 minutes.\n",
      "Deleted results/2.3\n",
      "16/06/17 02:10:17 WARN streaming.StreamJob: -file option is deprecated, please use generic option -files instead.\n",
      "16/06/17 02:10:17 WARN util.NativeCodeLoader: Unable to load native-hadoop library for your platform... using builtin-java classes where applicable\n",
      "packageJobJar: [mapper_train.py, reducer_train.py, /tmp/hadoop-unjar3938437252633526423/] [] /tmp/streamjob2376815843470769843.jar tmpDir=null\n",
      "16/06/17 02:10:18 INFO client.RMProxy: Connecting to ResourceManager at /119.81.225.34:8032\n",
      "16/06/17 02:10:18 INFO client.RMProxy: Connecting to ResourceManager at /119.81.225.34:8032\n",
      "16/06/17 02:10:19 INFO mapred.FileInputFormat: Total input paths to process : 1\n",
      "16/06/17 02:10:19 INFO mapreduce.JobSubmitter: number of splits:2\n",
      "16/06/17 02:10:19 INFO mapreduce.JobSubmitter: Submitting tokens for job: job_1466055390565_0086\n",
      "16/06/17 02:10:19 INFO impl.YarnClientImpl: Submitted application application_1466055390565_0086\n",
      "16/06/17 02:10:19 INFO mapreduce.Job: The url to track the job: http://119.81.225.34:8088/proxy/application_1466055390565_0086/\n",
      "16/06/17 02:10:19 INFO mapreduce.Job: Running job: job_1466055390565_0086\n",
      "16/06/17 02:10:24 INFO mapreduce.Job: Job job_1466055390565_0086 running in uber mode : false\n",
      "16/06/17 02:10:24 INFO mapreduce.Job:  map 0% reduce 0%\n",
      "16/06/17 02:10:29 INFO mapreduce.Job:  map 100% reduce 0%\n",
      "16/06/17 02:10:34 INFO mapreduce.Job:  map 100% reduce 100%\n",
      "16/06/17 02:10:34 INFO mapreduce.Job: Job job_1466055390565_0086 completed successfully\n",
      "16/06/17 02:10:35 INFO mapreduce.Job: Counters: 50\n",
      "\tFile System Counters\n",
      "\t\tFILE: Number of bytes read=1574294\n",
      "\t\tFILE: Number of bytes written=3505299\n",
      "\t\tFILE: Number of read operations=0\n",
      "\t\tFILE: Number of large read operations=0\n",
      "\t\tFILE: Number of write operations=0\n",
      "\t\tHDFS: Number of bytes read=217219\n",
      "\t\tHDFS: Number of bytes written=240465\n",
      "\t\tHDFS: Number of read operations=9\n",
      "\t\tHDFS: Number of large read operations=0\n",
      "\t\tHDFS: Number of write operations=2\n",
      "\tJob Counters \n",
      "\t\tLaunched map tasks=2\n",
      "\t\tLaunched reduce tasks=1\n",
      "\t\tData-local map tasks=1\n",
      "\t\tRack-local map tasks=1\n",
      "\t\tTotal time spent by all maps in occupied slots (ms)=166400\n",
      "\t\tTotal time spent by all reduces in occupied slots (ms)=106688\n",
      "\t\tTotal time spent by all map tasks (ms)=5200\n",
      "\t\tTotal time spent by all reduce tasks (ms)=3334\n",
      "\t\tTotal vcore-seconds taken by all map tasks=5200\n",
      "\t\tTotal vcore-seconds taken by all reduce tasks=3334\n",
      "\t\tTotal megabyte-seconds taken by all map tasks=170393600\n",
      "\t\tTotal megabyte-seconds taken by all reduce tasks=109248512\n",
      "\tMap-Reduce Framework\n",
      "\t\tMap input records=100\n",
      "\t\tMap output records=33284\n",
      "\t\tMap output bytes=1507718\n",
      "\t\tMap output materialized bytes=1574300\n",
      "\t\tInput split bytes=192\n",
      "\t\tCombine input records=0\n",
      "\t\tCombine output records=0\n",
      "\t\tReduce input groups=15663\n",
      "\t\tReduce shuffle bytes=1574300\n",
      "\t\tReduce input records=33284\n",
      "\t\tReduce output records=5413\n",
      "\t\tSpilled Records=66568\n",
      "\t\tShuffled Maps =2\n",
      "\t\tFailed Shuffles=0\n",
      "\t\tMerged Map outputs=2\n",
      "\t\tGC time elapsed (ms)=186\n",
      "\t\tCPU time spent (ms)=3600\n",
      "\t\tPhysical memory (bytes) snapshot=823693312\n",
      "\t\tVirtual memory (bytes) snapshot=32384819200\n",
      "\t\tTotal committed heap usage (bytes)=1353187328\n",
      "\tShuffle Errors\n",
      "\t\tBAD_ID=0\n",
      "\t\tCONNECTION=0\n",
      "\t\tIO_ERROR=0\n",
      "\t\tWRONG_LENGTH=0\n",
      "\t\tWRONG_MAP=0\n",
      "\t\tWRONG_REDUCE=0\n",
      "\tFile Input Format Counters \n",
      "\t\tBytes Read=217027\n",
      "\tFile Output Format Counters \n",
      "\t\tBytes Written=240465\n",
      "16/06/17 02:10:35 INFO streaming.StreamJob: Output directory: model\n",
      "16/06/17 02:10:36 WARN util.NativeCodeLoader: Unable to load native-hadoop library for your platform... using builtin-java classes where applicable\n",
      "16/06/17 02:10:37 WARN streaming.StreamJob: -file option is deprecated, please use generic option -files instead.\n",
      "16/06/17 02:10:37 WARN util.NativeCodeLoader: Unable to load native-hadoop library for your platform... using builtin-java classes where applicable\n",
      "packageJobJar: [mapper_class.py, reducer_class.py, localmodel, /tmp/hadoop-unjar5981240392944403441/] [] /tmp/streamjob1379380631884398914.jar tmpDir=null\n",
      "16/06/17 02:10:38 INFO client.RMProxy: Connecting to ResourceManager at /119.81.225.34:8032\n",
      "16/06/17 02:10:38 INFO client.RMProxy: Connecting to ResourceManager at /119.81.225.34:8032\n",
      "16/06/17 02:10:40 INFO mapred.FileInputFormat: Total input paths to process : 1\n",
      "16/06/17 02:10:40 INFO mapreduce.JobSubmitter: number of splits:2\n",
      "16/06/17 02:10:40 INFO mapreduce.JobSubmitter: Submitting tokens for job: job_1466055390565_0087\n",
      "16/06/17 02:10:40 INFO impl.YarnClientImpl: Submitted application application_1466055390565_0087\n",
      "16/06/17 02:10:40 INFO mapreduce.Job: The url to track the job: http://119.81.225.34:8088/proxy/application_1466055390565_0087/\n",
      "16/06/17 02:10:40 INFO mapreduce.Job: Running job: job_1466055390565_0087\n",
      "16/06/17 02:10:45 INFO mapreduce.Job: Job job_1466055390565_0087 running in uber mode : false\n",
      "16/06/17 02:10:45 INFO mapreduce.Job:  map 0% reduce 0%\n",
      "16/06/17 02:10:50 INFO mapreduce.Job:  map 100% reduce 0%\n",
      "16/06/17 02:10:54 INFO mapreduce.Job:  map 100% reduce 100%\n",
      "16/06/17 02:10:55 INFO mapreduce.Job: Job job_1466055390565_0087 completed successfully\n",
      "16/06/17 02:10:55 INFO mapreduce.Job: Counters: 50\n",
      "\tFile System Counters\n",
      "\t\tFILE: Number of bytes read=7476\n",
      "\t\tFILE: Number of bytes written=372634\n",
      "\t\tFILE: Number of read operations=0\n",
      "\t\tFILE: Number of large read operations=0\n",
      "\t\tFILE: Number of write operations=0\n",
      "\t\tHDFS: Number of bytes read=217219\n",
      "\t\tHDFS: Number of bytes written=2126\n",
      "\t\tHDFS: Number of read operations=9\n",
      "\t\tHDFS: Number of large read operations=0\n",
      "\t\tHDFS: Number of write operations=2\n",
      "\tJob Counters \n",
      "\t\tLaunched map tasks=2\n",
      "\t\tLaunched reduce tasks=1\n",
      "\t\tData-local map tasks=1\n",
      "\t\tRack-local map tasks=1\n",
      "\t\tTotal time spent by all maps in occupied slots (ms)=165792\n",
      "\t\tTotal time spent by all reduces in occupied slots (ms)=74880\n",
      "\t\tTotal time spent by all map tasks (ms)=5181\n",
      "\t\tTotal time spent by all reduce tasks (ms)=2340\n",
      "\t\tTotal vcore-seconds taken by all map tasks=5181\n",
      "\t\tTotal vcore-seconds taken by all reduce tasks=2340\n",
      "\t\tTotal megabyte-seconds taken by all map tasks=169771008\n",
      "\t\tTotal megabyte-seconds taken by all reduce tasks=76677120\n",
      "\tMap-Reduce Framework\n",
      "\t\tMap input records=100\n",
      "\t\tMap output records=100\n",
      "\t\tMap output bytes=7270\n",
      "\t\tMap output materialized bytes=7482\n",
      "\t\tInput split bytes=192\n",
      "\t\tCombine input records=0\n",
      "\t\tCombine output records=0\n",
      "\t\tReduce input groups=100\n",
      "\t\tReduce shuffle bytes=7482\n",
      "\t\tReduce input records=100\n",
      "\t\tReduce output records=6\n",
      "\t\tSpilled Records=200\n",
      "\t\tShuffled Maps =2\n",
      "\t\tFailed Shuffles=0\n",
      "\t\tMerged Map outputs=2\n",
      "\t\tGC time elapsed (ms)=196\n",
      "\t\tCPU time spent (ms)=1940\n",
      "\t\tPhysical memory (bytes) snapshot=814514176\n",
      "\t\tVirtual memory (bytes) snapshot=32379609088\n",
      "\t\tTotal committed heap usage (bytes)=1357381632\n",
      "\tShuffle Errors\n",
      "\t\tBAD_ID=0\n",
      "\t\tCONNECTION=0\n",
      "\t\tIO_ERROR=0\n",
      "\t\tWRONG_LENGTH=0\n",
      "\t\tWRONG_MAP=0\n",
      "\t\tWRONG_REDUCE=0\n",
      "\tFile Input Format Counters \n",
      "\t\tBytes Read=217027\n",
      "\tFile Output Format Counters \n",
      "\t\tBytes Written=2126\n",
      "16/06/17 02:10:55 INFO streaming.StreamJob: Output directory: results/2.3\n"
     ]
    }
   ],
   "source": [
    "# clean up HDFS\n",
    "!hdfs dfs -rm -r model\n",
    "!hdfs dfs -rm -r results/2.3\n",
    "# Run training job\n",
    "!hadoop jar $HADOOP_HOME/share/hadoop/tools/lib/hadoop-streaming-2*.jar \\\n",
    "-file mapper_train.py \\\n",
    "-file reducer_train.py \\\n",
    "-mapper mapper_train.py \\\n",
    "-reducer reducer_train.py \\\n",
    "-input enronemail_1h.txt \\\n",
    "-output model\n",
    "# Write model to disk (I know it's inefficient)\n",
    "!hdfs dfs -cat model/part-00000 > localmodel\n",
    "# Run classifying job\n",
    "!hadoop jar $HADOOP_HOME/share/hadoop/tools/lib/hadoop-streaming-2*.jar \\\n",
    "-file mapper_class.py \\\n",
    "-file reducer_class.py \\\n",
    "-file localmodel \\\n",
    "-mapper mapper_class.py \\\n",
    "-reducer reducer_class.py \\\n",
    "-input enronemail_1h.txt \\\n",
    "-output results/2.3"
   ]
  },
  {
   "cell_type": "code",
   "execution_count": 154,
   "metadata": {
    "collapsed": false
   },
   "outputs": [
    {
     "name": "stdout",
     "output_type": "stream",
     "text": [
      "16/06/17 02:10:56 WARN util.NativeCodeLoader: Unable to load native-hadoop library for your platform... using builtin-java classes where applicable\n",
      "Accuracy: 1.0\t\n",
      "Error Rate: 0.0\t\n",
      "Spam Zero Probabilities: 1382\t\n",
      "Ham Zero Probabilities: 2729\t\n",
      "[-612.8559937094012, -1307.4416639009723, -848.5784852317115, -860.8950534266429, -791.0906075866317, -906.9722351683938, -806.8957586451087, -195.68554954833047, -7708.387907566293, -393.5759242603781, -1156.883946423883, -1071.6055219925113, -1279.7202461937625, -1494.2515676827882, -906.9722351683938, -4468.470788641613, -1031.6222720904884, -5967.455368113394, -1300.5819138200618, -786.0601653145035, -3415.7200554466444, -55.124508274508, -2394.0703124567785, -3413.9795892718034, -16082.688918585636, -530.3293012765532, -692.2692988858073, -163.20675671971395, -28798.8069023851, -1528.479986603461, -3623.671865609137, -178.41360325388993, -829.6369878878875, -945.2189947549223, -1338.9805398407195, -945.2189947549223, -17008.53559289951, -807.0180648974887, -673.7074898209262, -217.64999641823331, -934.9993393502297, -2657.569110838685, -3356.3253259654907, -3491.7661693867517]\t\n",
      "[-44.749858681089094, -34.945501094460155, -3641.3605394761294, -3665.8055354489074, -342.3472964722308, -1400.182409540419, -2926.9380863533715, -456.99525583624586, -417.52513238873547, -83.79165466407765, -1271.9806260945554, -1355.8470875947512, -1096.4233535178366, -1109.7665147858904, -684.6077878486858, -782.8971818750771, -1092.847637049506, -436.14277285432576, -907.97870551787, -497.7747283764627, -9763.636548133616, -307.2728826723537, -1525.2297579067274, -695.6224637972726, -2760.038946381788, -1660.7558472165, -4177.436438835109, -6348.331238902045, -595.7422892458096, -2695.8570711866932, -5759.182004356992, -1391.6910616137145, -206.69994746776675, -3066.4253573733554, -1915.7097120144, -3229.932355390586, -988.1506246354215, -2746.22411225437, -921.8035386790311, -495.2811294161095, -1798.62255179114, -1249.9868506946655, -671.1924417725501, -1781.022371006062, -1184.0860589299111, -1452.9162675674204, -686.8196456006336, -825.2679803315553, -152.54218976252932, -5050.949392321493, -746.1691377911699, -1192.5580956360238, -386.1486546063709, -2756.9915701838713, -450.51870509323436, -997.619509818111]\t\n"
     ]
    }
   ],
   "source": [
    "!hdfs dfs -cat results/2.3/part-00000"
   ]
  },
  {
   "cell_type": "markdown",
   "metadata": {},
   "source": [
    "Report the performance of your learnt classifier in terms of misclassifcation error rate of your multinomial Naive Bayes Classifier. Plot a histogram of the  posterior probabilities (i.e., Pr(Class|Doc)) for each class over the training set. Summarize what you see. "
   ]
  },
  {
   "cell_type": "code",
   "execution_count": 155,
   "metadata": {
    "collapsed": false
   },
   "outputs": [
    {
     "name": "stdout",
     "output_type": "stream",
     "text": [
      "Error Rate:  0.0\t\n",
      "\n",
      "Number of Spam Zero Probabilities:  1382\t\n",
      "\n",
      "Number of Ham Zero Probabilities:  2729\t\n",
      "\n"
     ]
    },
    {
     "data": {
      "image/png": "[encoded data removed]",
      "text/plain": [
       "<matplotlib.figure.Figure at 0x7fd4f76292d0>"
      ]
     },
     "metadata": {},
     "output_type": "display_data"
    },
    {
     "data": {
      "image/png": "[encoded data removed]",
      "text/plain": [
       "<matplotlib.figure.Figure at 0x7fd4f8000390>"
      ]
     },
     "metadata": {},
     "output_type": "display_data"
    }
   ],
   "source": [
    "%matplotlib inline \n",
    "import numpy as np\n",
    "import subprocess\n",
    "import matplotlib\n",
    "from matplotlib import pyplot as plt\n",
    "\n",
    "#Code to print histogram of posterior probabilities\n",
    "\n",
    "#read results of mapreduce job\n",
    "cat = subprocess.Popen([\"hadoop\", \"fs\", \"-cat\", \"results/2.3/part-00000\"], stdout=subprocess.PIPE).stdout\n",
    "spam_log_posterior_probabilities = []\n",
    "ham_log_posterior_probabilities = []\n",
    "\n",
    "#Function to parse a single line from the hdfs output file\n",
    "def getandsplit():\n",
    "    s = cat.readline()\n",
    "    return s.split(\":\")\n",
    "\n",
    "#Skip lines until we get to the line that reports Accuracy score\n",
    "while getandsplit()[0] != \"Accuracy\":\n",
    "    continue\n",
    "    \n",
    "#Save the error rate for the next problem\n",
    "ErrorRateNoSmooth=getandsplit()[1]\n",
    "print \"Error Rate:\", ErrorRateNoSmooth\n",
    "print \"Number of Spam Zero Probabilities:\", getandsplit()[1]\n",
    "print \"Number of Ham Zero Probabilities:\", getandsplit()[1]\n",
    "\n",
    "#Parse the posterior probabilities from strings to lists of numbers.\n",
    "#I wish there was an easier way to do this\n",
    "\n",
    "spam_log_posterior_probabilities = [float(x) for x in cat.readline().strip().strip('[').strip(']').split(',')]\n",
    "ham_log_posterior_probabilities = [float(x) for x in cat.readline().strip().strip('[').strip(']').split(',')]\n",
    "\n",
    "plt.hist(spam_log_posterior_probabilities,bins=50)\n",
    "plt.title(\"Spam Posterior Probabilities Histogram\")\n",
    "plt.show()\n",
    "\n",
    "plt.hist(ham_log_posterior_probabilities, bins=50)\n",
    "plt.title(\"Ham Posterior Probabilities Histogram\")\n",
    "plt.show()"
   ]
  },
  {
   "cell_type": "markdown",
   "metadata": {},
   "source": [
    "Each zero probability is an instance of a word that appears in only one type of e-mail (either Spam e-mails or Ham e-mails but not both).  Hence the conditional probability of that word belonging to an e-mail of the other type is 0.  This leads to perfect accuracy, but probably hurts generalizability.  Even if it never happens in the training set, there are going to be instances in the real world where a ham e-mail contains the word \"viagra.\""
   ]
  },
  {
   "cell_type": "markdown",
   "metadata": {},
   "source": [
    "## HW2.4 Repeat HW2.3 with the following modification: use Laplace plus-one smoothing. "
   ]
  },
  {
   "cell_type": "markdown",
   "metadata": {},
   "source": [
    "We will use the same training mapper and classifer mapper and reducer as before, but we will modify the training reducer to compute conditional probabilities using +1 smoothing instead:\n",
    "\n",
    "$$\n",
    "P(c\\mid w)=\\frac{N_{cw}+1\n",
    "}{N_c + N}\n",
    "$$\n",
    "\n",
    "Where $N_{cw}$ is the number of times the word w appears in class c, $N_c$ is the number of e-mails in the training set of class c, and N is the number of words "
   ]
  },
  {
   "cell_type": "code",
   "execution_count": 156,
   "metadata": {
    "collapsed": false
   },
   "outputs": [],
   "source": [
    "#Keep same mappers and reducer_class as before"
   ]
  },
  {
   "cell_type": "code",
   "execution_count": 157,
   "metadata": {
    "collapsed": false
   },
   "outputs": [
    {
     "name": "stdout",
     "output_type": "stream",
     "text": [
      "Overwriting reducer_train.py\n"
     ]
    }
   ],
   "source": [
    "%%writefile reducer_train.py\n",
    "#!/usr/bin/python\n",
    "# reducer_train.py\n",
    "# Author: Jackson Lane\n",
    "# Description: reducer training code for HW2.4\n",
    "# Slightly modified to also record error rate and posterior probabilities\n",
    "# As in HW1.3, I'm going to ignore instances where a word does not appear in a class of e-mail\n",
    "from __future__ import division #Python 3-style division syntax is much cleaner\n",
    "import sys\n",
    "from math import log\n",
    "\n",
    "words={}\n",
    "emails={}\n",
    "spam_email_count=0 #number of spam emails\n",
    "ham_email_count=0 #number of ham emails\n",
    "spam_word_count=0 #number of words in spam emails\n",
    "ham_word_count=0 #number of words in ham emails\n",
    "for line in sys.stdin:\n",
    "\n",
    "            #parse the incoming line\n",
    "            line=eval(line)\n",
    "            email=line[0]\n",
    "            spam=int(line[1])\n",
    "            word=line[2]\n",
    "            flag=int(line[3])\n",
    "            if spam==1:\n",
    "                #+1 smoothing \n",
    "                words.setdefault(word,{'ham_count':1,'spam_count':1})[\"spam_count\"]+=1\n",
    "\n",
    "                spam_word_count+=1\n",
    "            else: \n",
    "                #+1 smoothing \n",
    "                words.setdefault(word,{'ham_count':1,'spam_count':1})[\"ham_count\"]+=1\n",
    "\n",
    "                ham_word_count+=1\n",
    "            #store email data \n",
    "            if(email not in emails.keys()):\n",
    "                if spam==1:\n",
    "                    spam_email_count+=1\n",
    "                else: \n",
    "                    ham_email_count+=1\n",
    "                emails[email] = {'spam':spam,'word_count':0,'words':[]}\n",
    "            emails[email]['words'].append(word)\n",
    "            emails[email]['word_count']+=1\n",
    "# Compute total number of words in e-mail, subtract 2 for smoothing\n",
    "vocabcount= sum(map(lambda v: v['ham_count'] + v['spam_count']-2,words.values()), 0)\n",
    "#Calculate priors\n",
    "prior_spam=spam_email_count/len(emails)\n",
    "prior_ham=ham_email_count / len(emails)\n",
    "print prior_spam\n",
    "print prior_ham\n",
    "for word,freq in words.iteritems():\n",
    "    print(word,(freq['spam_count'])/(vocabcount+spam_word_count),(freq['ham_count'])/(vocabcount+ham_word_count))\n",
    "\n"
   ]
  },
  {
   "cell_type": "markdown",
   "metadata": {},
   "source": [
    "Run the mapreduce job"
   ]
  },
  {
   "cell_type": "code",
   "execution_count": 158,
   "metadata": {
    "collapsed": false
   },
   "outputs": [
    {
     "name": "stdout",
     "output_type": "stream",
     "text": [
      "16/06/17 02:11:01 WARN util.NativeCodeLoader: Unable to load native-hadoop library for your platform... using builtin-java classes where applicable\n",
      "16/06/17 02:11:01 INFO fs.TrashPolicyDefault: Namenode trash configuration: Deletion interval = 0 minutes, Emptier interval = 0 minutes.\n",
      "Deleted model\n",
      "16/06/17 02:11:02 WARN util.NativeCodeLoader: Unable to load native-hadoop library for your platform... using builtin-java classes where applicable\n",
      "16/06/17 02:11:03 INFO fs.TrashPolicyDefault: Namenode trash configuration: Deletion interval = 0 minutes, Emptier interval = 0 minutes.\n",
      "Deleted results/2.4\n",
      "16/06/17 02:11:04 WARN streaming.StreamJob: -file option is deprecated, please use generic option -files instead.\n",
      "16/06/17 02:11:04 WARN util.NativeCodeLoader: Unable to load native-hadoop library for your platform... using builtin-java classes where applicable\n",
      "packageJobJar: [mapper_train.py, reducer_train.py, /tmp/hadoop-unjar3239288802760197769/] [] /tmp/streamjob7235591845756171446.jar tmpDir=null\n",
      "16/06/17 02:11:05 INFO client.RMProxy: Connecting to ResourceManager at /119.81.225.34:8032\n",
      "16/06/17 02:11:05 INFO client.RMProxy: Connecting to ResourceManager at /119.81.225.34:8032\n",
      "16/06/17 02:11:06 INFO mapred.FileInputFormat: Total input paths to process : 1\n",
      "16/06/17 02:11:06 INFO mapreduce.JobSubmitter: number of splits:2\n",
      "16/06/17 02:11:06 INFO mapreduce.JobSubmitter: Submitting tokens for job: job_1466055390565_0088\n",
      "16/06/17 02:11:07 INFO impl.YarnClientImpl: Submitted application application_1466055390565_0088\n",
      "16/06/17 02:11:07 INFO mapreduce.Job: The url to track the job: http://119.81.225.34:8088/proxy/application_1466055390565_0088/\n",
      "16/06/17 02:11:07 INFO mapreduce.Job: Running job: job_1466055390565_0088\n",
      "16/06/17 02:11:12 INFO mapreduce.Job: Job job_1466055390565_0088 running in uber mode : false\n",
      "16/06/17 02:11:12 INFO mapreduce.Job:  map 0% reduce 0%\n",
      "16/06/17 02:11:17 INFO mapreduce.Job:  map 100% reduce 0%\n",
      "16/06/17 02:11:22 INFO mapreduce.Job:  map 100% reduce 100%\n",
      "16/06/17 02:11:23 INFO mapreduce.Job: Job job_1466055390565_0088 completed successfully\n",
      "16/06/17 02:11:23 INFO mapreduce.Job: Counters: 49\n",
      "\tFile System Counters\n",
      "\t\tFILE: Number of bytes read=1574294\n",
      "\t\tFILE: Number of bytes written=3505299\n",
      "\t\tFILE: Number of read operations=0\n",
      "\t\tFILE: Number of large read operations=0\n",
      "\t\tFILE: Number of write operations=0\n",
      "\t\tHDFS: Number of bytes read=217219\n",
      "\t\tHDFS: Number of bytes written=323439\n",
      "\t\tHDFS: Number of read operations=9\n",
      "\t\tHDFS: Number of large read operations=0\n",
      "\t\tHDFS: Number of write operations=2\n",
      "\tJob Counters \n",
      "\t\tLaunched map tasks=2\n",
      "\t\tLaunched reduce tasks=1\n",
      "\t\tRack-local map tasks=2\n",
      "\t\tTotal time spent by all maps in occupied slots (ms)=164608\n",
      "\t\tTotal time spent by all reduces in occupied slots (ms)=102560\n",
      "\t\tTotal time spent by all map tasks (ms)=5144\n",
      "\t\tTotal time spent by all reduce tasks (ms)=3205\n",
      "\t\tTotal vcore-seconds taken by all map tasks=5144\n",
      "\t\tTotal vcore-seconds taken by all reduce tasks=3205\n",
      "\t\tTotal megabyte-seconds taken by all map tasks=168558592\n",
      "\t\tTotal megabyte-seconds taken by all reduce tasks=105021440\n",
      "\tMap-Reduce Framework\n",
      "\t\tMap input records=100\n",
      "\t\tMap output records=33284\n",
      "\t\tMap output bytes=1507718\n",
      "\t\tMap output materialized bytes=1574300\n",
      "\t\tInput split bytes=192\n",
      "\t\tCombine input records=0\n",
      "\t\tCombine output records=0\n",
      "\t\tReduce input groups=15663\n",
      "\t\tReduce shuffle bytes=1574300\n",
      "\t\tReduce input records=33284\n",
      "\t\tReduce output records=5413\n",
      "\t\tSpilled Records=66568\n",
      "\t\tShuffled Maps =2\n",
      "\t\tFailed Shuffles=0\n",
      "\t\tMerged Map outputs=2\n",
      "\t\tGC time elapsed (ms)=210\n",
      "\t\tCPU time spent (ms)=3500\n",
      "\t\tPhysical memory (bytes) snapshot=814411776\n",
      "\t\tVirtual memory (bytes) snapshot=32382144512\n",
      "\t\tTotal committed heap usage (bytes)=1348993024\n",
      "\tShuffle Errors\n",
      "\t\tBAD_ID=0\n",
      "\t\tCONNECTION=0\n",
      "\t\tIO_ERROR=0\n",
      "\t\tWRONG_LENGTH=0\n",
      "\t\tWRONG_MAP=0\n",
      "\t\tWRONG_REDUCE=0\n",
      "\tFile Input Format Counters \n",
      "\t\tBytes Read=217027\n",
      "\tFile Output Format Counters \n",
      "\t\tBytes Written=323439\n",
      "16/06/17 02:11:23 INFO streaming.StreamJob: Output directory: model\n",
      "16/06/17 02:11:24 WARN util.NativeCodeLoader: Unable to load native-hadoop library for your platform... using builtin-java classes where applicable\n",
      "16/06/17 02:11:26 WARN streaming.StreamJob: -file option is deprecated, please use generic option -files instead.\n",
      "16/06/17 02:11:26 WARN util.NativeCodeLoader: Unable to load native-hadoop library for your platform... using builtin-java classes where applicable\n",
      "packageJobJar: [mapper_class.py, reducer_class.py, localmodel, /tmp/hadoop-unjar1549372864543916135/] [] /tmp/streamjob6308916297574934917.jar tmpDir=null\n",
      "16/06/17 02:11:27 INFO client.RMProxy: Connecting to ResourceManager at /119.81.225.34:8032\n",
      "16/06/17 02:11:27 INFO client.RMProxy: Connecting to ResourceManager at /119.81.225.34:8032\n",
      "16/06/17 02:11:28 INFO mapred.FileInputFormat: Total input paths to process : 1\n",
      "16/06/17 02:11:28 INFO mapreduce.JobSubmitter: number of splits:2\n",
      "16/06/17 02:11:28 INFO mapreduce.JobSubmitter: Submitting tokens for job: job_1466055390565_0089\n",
      "16/06/17 02:11:28 INFO impl.YarnClientImpl: Submitted application application_1466055390565_0089\n",
      "16/06/17 02:11:28 INFO mapreduce.Job: The url to track the job: http://119.81.225.34:8088/proxy/application_1466055390565_0089/\n",
      "16/06/17 02:11:28 INFO mapreduce.Job: Running job: job_1466055390565_0089\n",
      "16/06/17 02:11:33 INFO mapreduce.Job: Job job_1466055390565_0089 running in uber mode : false\n",
      "16/06/17 02:11:33 INFO mapreduce.Job:  map 0% reduce 0%\n",
      "16/06/17 02:11:37 INFO mapreduce.Job:  map 50% reduce 0%\n",
      "16/06/17 02:11:38 INFO mapreduce.Job:  map 100% reduce 0%\n",
      "16/06/17 02:11:42 INFO mapreduce.Job:  map 100% reduce 100%\n",
      "16/06/17 02:11:42 INFO mapreduce.Job: Job job_1466055390565_0089 completed successfully\n",
      "16/06/17 02:11:42 INFO mapreduce.Job: Counters: 50\n",
      "\tFile System Counters\n",
      "\t\tFILE: Number of bytes read=8452\n",
      "\t\tFILE: Number of bytes written=374586\n",
      "\t\tFILE: Number of read operations=0\n",
      "\t\tFILE: Number of large read operations=0\n",
      "\t\tFILE: Number of write operations=0\n",
      "\t\tHDFS: Number of bytes read=217219\n",
      "\t\tHDFS: Number of bytes written=4167\n",
      "\t\tHDFS: Number of read operations=9\n",
      "\t\tHDFS: Number of large read operations=0\n",
      "\t\tHDFS: Number of write operations=2\n",
      "\tJob Counters \n",
      "\t\tLaunched map tasks=2\n",
      "\t\tLaunched reduce tasks=1\n",
      "\t\tData-local map tasks=1\n",
      "\t\tRack-local map tasks=1\n",
      "\t\tTotal time spent by all maps in occupied slots (ms)=164448\n",
      "\t\tTotal time spent by all reduces in occupied slots (ms)=80928\n",
      "\t\tTotal time spent by all map tasks (ms)=5139\n",
      "\t\tTotal time spent by all reduce tasks (ms)=2529\n",
      "\t\tTotal vcore-seconds taken by all map tasks=5139\n",
      "\t\tTotal vcore-seconds taken by all reduce tasks=2529\n",
      "\t\tTotal megabyte-seconds taken by all map tasks=168394752\n",
      "\t\tTotal megabyte-seconds taken by all reduce tasks=82870272\n",
      "\tMap-Reduce Framework\n",
      "\t\tMap input records=100\n",
      "\t\tMap output records=100\n",
      "\t\tMap output bytes=8246\n",
      "\t\tMap output materialized bytes=8458\n",
      "\t\tInput split bytes=192\n",
      "\t\tCombine input records=0\n",
      "\t\tCombine output records=0\n",
      "\t\tReduce input groups=100\n",
      "\t\tReduce shuffle bytes=8458\n",
      "\t\tReduce input records=100\n",
      "\t\tReduce output records=6\n",
      "\t\tSpilled Records=200\n",
      "\t\tShuffled Maps =2\n",
      "\t\tFailed Shuffles=0\n",
      "\t\tMerged Map outputs=2\n",
      "\t\tGC time elapsed (ms)=215\n",
      "\t\tCPU time spent (ms)=1910\n",
      "\t\tPhysical memory (bytes) snapshot=890056704\n",
      "\t\tVirtual memory (bytes) snapshot=32380854272\n",
      "\t\tTotal committed heap usage (bytes)=1225785344\n",
      "\tShuffle Errors\n",
      "\t\tBAD_ID=0\n",
      "\t\tCONNECTION=0\n",
      "\t\tIO_ERROR=0\n",
      "\t\tWRONG_LENGTH=0\n",
      "\t\tWRONG_MAP=0\n",
      "\t\tWRONG_REDUCE=0\n",
      "\tFile Input Format Counters \n",
      "\t\tBytes Read=217027\n",
      "\tFile Output Format Counters \n",
      "\t\tBytes Written=4167\n",
      "16/06/17 02:11:42 INFO streaming.StreamJob: Output directory: results/2.4\n"
     ]
    }
   ],
   "source": [
    "# clean up HDFS\n",
    "!hdfs dfs -rm -r model\n",
    "!hdfs dfs -rm -r results/2.4\n",
    "# Run training job\n",
    "!hadoop jar $HADOOP_HOME/share/hadoop/tools/lib/hadoop-streaming-2*.jar \\\n",
    "-file mapper_train.py \\\n",
    "-file reducer_train.py \\\n",
    "-mapper mapper_train.py \\\n",
    "-reducer reducer_train.py \\\n",
    "-input enronemail_1h.txt \\\n",
    "-output model\n",
    "# Write model to disk (I know it's inefficient)\n",
    "!hdfs dfs -cat model/part-00000 > localmodel\n",
    "# Run classifying job\n",
    "!hadoop jar $HADOOP_HOME/share/hadoop/tools/lib/hadoop-streaming-2*.jar \\\n",
    "-file mapper_class.py \\\n",
    "-file reducer_class.py \\\n",
    "-file localmodel \\\n",
    "-mapper mapper_class.py \\\n",
    "-reducer reducer_class.py \\\n",
    "-input enronemail_1h.txt \\\n",
    "-output results/2.4"
   ]
  },
  {
   "cell_type": "code",
   "execution_count": 159,
   "metadata": {
    "collapsed": false
   },
   "outputs": [
    {
     "name": "stdout",
     "output_type": "stream",
     "text": [
      "16/06/17 02:11:43 WARN util.NativeCodeLoader: Unable to load native-hadoop library for your platform... using builtin-java classes where applicable\n",
      "Accuracy: 0.99\t\n",
      "Error Rate: 0.01\t\n",
      "Spam Zero Probabilities: 0\t\n",
      "Ham Zero Probabilities: 0\t\n",
      "[-50.97762715443746, -41.22518962498689, -4741.26224742647, -4591.460537865014, -446.8580380415262, -1612.7822247663805, -3830.101005923457, -526.4575846150288, -683.4651855548785, -1444.7501129710686, -965.8218368601758, -536.4240036218639, -111.10720837331003, -1713.7323911784474, -1766.1045631361849, -952.0091848500035, -867.6512082353353, -1382.5087224848928, -1638.139353458615, -809.2272775735466, -1028.8803758703793, -881.1648181292431, -974.2559952049739, -1549.2275528244818, -507.80771372538135, -1124.3764728933372, -216.34575397879843, -8520.506709814616, -587.6295361202418, -11878.223475764815, -360.9350384498603, -433.01675427394343, -1257.0326175595187, -1181.017759369542, -1928.7186460572952, -872.3367918124769, -3788.6214392512006, -2048.2783300955925, -1403.1119024336779, -1644.655889615499, -5061.885963196414, -1028.8803758703793, -5021.73876866161, -1157.0104323003748, -6636.845265442037, -9933.585117345803, -754.26216986023, -3368.8537348941513, -7250.427734293835, -1443.0200338281932, -859.3009417320156, -2013.036316840348, -259.0943669745823, -3934.673146194172, -3887.271080298876, -58.63190760256823, -2641.94033969641, -2361.630138765146, -3885.608532561128, -18308.150476517894, -582.3421780009627, -770.7387588534539, -4231.562110830257, -1468.478022264148, -3773.311924420452, -1059.5258784812095, -592.6374245388778, -181.0207789103318, -2236.0189301117616, -1833.7035785427634, -779.7885699695294, -32836.01019505482, -1697.5665426879768, -2468.1139475979553, -1523.66123734849, -1783.898173056754, -4081.7963359719547, -197.328214670977, -901.1364056409745, -855.3024047340251, -1096.0564196663668, -181.26414140272965, -6234.877932439225, -1070.025348566634, -1494.9954328212516, -893.9484596716799, -1522.1500765013993, -1070.025348566634, -19414.715887066304, -880.8825723774954, -759.6840181610837, -450.970359606118, -3785.966789826826, -522.4364090252357, -244.44075746650034, -977.1267226896008, -2957.0897695704994, -1158.6086150575227, -3804.1685824343363, -3927.8850107593894]\t\n",
      "[-48.21417243248087, -39.999784620215365, -4218.664193117603, -4226.552601837752, -394.66994430525705, -1604.6082966806518, -3381.1507657182656, -520.9934503371894, -750.5926075030633, -1584.1727084913766, -1033.6891376924616, -487.31544707871876, -94.76018919253053, -1496.7736800516523, -1569.878424486499, -1021.1281256160578, -933.9916653737873, -1255.0291440441435, -1306.0537165137773, -784.0176435783806, -1133.8787170778544, -937.7557722984669, -874.2723267938932, -1276.896243167676, -495.3759562001529, -1027.0279124915285, -233.4798882785815, -9277.39719965351, -572.6850606765846, -11269.666841714466, -354.960501435965, -460.60393813426566, -1342.5134761375732, -1268.9030736957661, -1784.0928204124812, -801.8054589392954, -3232.2929087809753, -1915.9005856544536, -1511.3530451154934, -1886.3563264719799, -4698.4787673932005, -1133.8787170778544, -5672.689704060123, -1280.3750593792727, -7111.966158982196, -7506.8945543606515, -672.5813294062792, -3081.8401382799757, -6689.358582821512, -1550.9404071882043, -937.7369768696886, -1592.4243795044308, -238.76193169058823, -3566.614749732036, -4325.562608885873, -60.93146862259604, -2939.7733255143426, -2224.5221930664793, -4321.403725802514, -20486.104103382622, -644.0612657977618, -833.1082380528564, -3785.3317700433945, -1165.5093246362276, -3219.580032656529, -1054.778829075211, -567.2303892263828, -196.29025388523266, -2112.060551520133, -1495.863640326785, -768.3198387299954, -36854.89234856779, -1811.8407386380322, -2111.0135257148386, -1359.1082221985944, -1639.836977439468, -4491.479540658624, -210.50657142761375, -953.6834297349236, -789.7691876596483, -946.201694565647, -176.8606529867213, -5862.102618725857, -1172.9213643522341, -1657.0492574254172, -861.6888114794461, -1360.0098502089188, -1172.9213643522341, -21944.168311500653, -962.56105771725, -837.4786798800999, -445.2969040374526, -3230.1331074970067, -518.7203012514199, -262.3736754517075, -1039.1058926346157, -3154.7105654521442, -1161.334263565813, -4112.277249571359, -4221.485859986714]\t\n"
     ]
    }
   ],
   "source": [
    "!hdfs dfs -cat results/2.4/part-00000"
   ]
  },
  {
   "cell_type": "code",
   "execution_count": 160,
   "metadata": {
    "collapsed": false
   },
   "outputs": [
    {
     "name": "stdout",
     "output_type": "stream",
     "text": [
      "Error Rate:  0.01\t\n",
      "\n",
      "Number of Spam Zero Probabilities:  0\t\n",
      "\n",
      "Number of Ham Zero Probabilities:  0\t\n",
      "\n"
     ]
    },
    {
     "data": {
      "image/png": "[encoded data removed]",
      "text/plain": [
       "<matplotlib.figure.Figure at 0x7fd4f7f3f710>"
      ]
     },
     "metadata": {},
     "output_type": "display_data"
    },
    {
     "data": {
      "image/png": "[encoded data removed]",
      "text/plain": [
       "<matplotlib.figure.Figure at 0x7fd4f799fcd0>"
      ]
     },
     "metadata": {},
     "output_type": "display_data"
    }
   ],
   "source": [
    "%matplotlib inline \n",
    "import numpy as np\n",
    "import subprocess\n",
    "import matplotlib\n",
    "from matplotlib import pyplot as plt\n",
    "\n",
    "#Code to print histogram of posterior probabilities\n",
    "\n",
    "#read results of mapreduce job\n",
    "cat = subprocess.Popen([\"hadoop\", \"fs\", \"-cat\", \"results/2.4/part-00000\"], stdout=subprocess.PIPE).stdout\n",
    "spam_log_posterior_probabilities = []\n",
    "ham_log_posterior_probabilities = []\n",
    "\n",
    "#Function to parse a single line from the hdfs output file\n",
    "def getandsplit():\n",
    "    s = cat.readline()\n",
    "    return s.split(\":\")\n",
    "\n",
    "#Skip lines until we get to the line that reports Accuracy score\n",
    "while getandsplit()[0] != \"Accuracy\":\n",
    "    continue\n",
    "    \n",
    "#Save the error rate to compare against 2.3\n",
    "ErrorRateSmooth = getandsplit()[1]\n",
    "\n",
    "print \"Error Rate:\", ErrorRateSmooth\n",
    "print \"Number of Spam Zero Probabilities:\", getandsplit()[1]\n",
    "print \"Number of Ham Zero Probabilities:\", getandsplit()[1]\n",
    "\n",
    "#Parse the posterior probabilities from strings to lists of numbers.\n",
    "#I wish there was an easier way to do this\n",
    "spam_log_posterior_probabilities = [float(x) for x in cat.readline().strip().strip('[').strip(']').split(',')]\n",
    "ham_log_posterior_probabilities = [float(x) for x in cat.readline().strip().strip('[').strip(']').split(',')]\n",
    "\n",
    "plt.hist(spam_log_posterior_probabilities,bins=50)\n",
    "plt.title(\"Spam Posterior Probabilities Histogram\")\n",
    "plt.show()\n",
    "\n",
    "plt.hist(ham_log_posterior_probabilities,bins=50)\n",
    "plt.title(\"Ham Posterior Probabilities Histogram\")\n",
    "plt.show()"
   ]
  },
  {
   "cell_type": "markdown",
   "metadata": {},
   "source": [
    "##### Compare the misclassifcation error rates for 2.3 versus 2.4 and explain the differences."
   ]
  },
  {
   "cell_type": "markdown",
   "metadata": {},
   "source": [
    "In 2.3, we had many words that appeared exclusively in just one type of e-mail.  When we encountered those words in 2.3, we set the conditional probability of the other type of e-mail to 0.  For example, the word \"viagra\" would set the conditional probability of \"ham\" to 0, regardless of what other words were in the e-mail.  In 2.4, we used smoothing to in effect replace the zero probabilities with very low, but still positive, posterior probabilities.  This is why there are no zero probabilities in this model.  Since it's possible to take the log of an extremely low, but still positive number, we still somewhat get to take advantage of the words that appear exclusively in just one type of e-mail.  However, this smoothing also introduces noise into the data, and the accuracy of 2.4 is slightly lower than in 2.3 (but not by much).  However, 2.4 is probably more generalizable than 2.3. "
   ]
  },
  {
   "cell_type": "code",
   "execution_count": 161,
   "metadata": {
    "collapsed": false
   },
   "outputs": [
    {
     "name": "stdout",
     "output_type": "stream",
     "text": [
      "Error Rate 2.3:  0.0\t\n",
      "\n",
      "Error Rate 2.4:  0.01\t\n",
      "\n"
     ]
    }
   ],
   "source": [
    "print \"Error Rate 2.3:\", ErrorRateNoSmooth\n",
    "print \"Error Rate 2.4:\", ErrorRateSmooth"
   ]
  },
  {
   "cell_type": "markdown",
   "metadata": {},
   "source": [
    "## HW2.5. Repeat HW2.4. This time when modeling and classification ignore tokens with a frequency of less than three (3) in the training set. "
   ]
  },
  {
   "cell_type": "markdown",
   "metadata": {},
   "source": [
    "<i> Use the same mapper_train and reducer_class as 2.3.  Use the same reducer_train logic as in 2.4, except that have it ignore words with a count less than 3 (5 with +1 smoothing).  Use a different mapper_class that will recognize \"ignored\" probabilities instead of \"zero\" probabilities</i>"
   ]
  },
  {
   "cell_type": "code",
   "execution_count": 162,
   "metadata": {
    "collapsed": false
   },
   "outputs": [],
   "source": [
    "#Keep same mapper_train and reducer_class as before"
   ]
  },
  {
   "cell_type": "code",
   "execution_count": 163,
   "metadata": {
    "collapsed": false
   },
   "outputs": [
    {
     "name": "stdout",
     "output_type": "stream",
     "text": [
      "Overwriting reducer_train.py\n"
     ]
    }
   ],
   "source": [
    "%%writefile reducer_train.py\n",
    "#!/usr/bin/python\n",
    "# reducer_train.py\n",
    "# Author: Jackson Lane\n",
    "# Description: reducer training code for HW2.5\n",
    "from __future__ import division #Python 3-style division syntax is much cleaner\n",
    "import sys\n",
    "from math import log\n",
    "\n",
    "words={}\n",
    "emails={}\n",
    "spam_email_count=0 #number of spam emails\n",
    "ham_email_count=0 #number of ham emails\n",
    "spam_word_count=0 #number of words in spam emails\n",
    "ham_word_count=0 #number of words in ham emails\n",
    "for line in sys.stdin:\n",
    "\n",
    "            #parse the incoming line\n",
    "            line=eval(line)\n",
    "            email=line[0]\n",
    "            spam=int(line[1])\n",
    "            word=line[2]\n",
    "            flag=int(line[3])\n",
    "            if spam==1:\n",
    "                #+1 smoothing \n",
    "                words.setdefault(word,{'ham_count':1,'spam_count':1})[\"spam_count\"]+=1\n",
    "\n",
    "                spam_word_count+=1\n",
    "            else: \n",
    "                #+1 smoothing \n",
    "                words.setdefault(word,{'ham_count':1,'spam_count':1})[\"ham_count\"]+=1\n",
    "\n",
    "                ham_word_count+=1\n",
    "            #store email data \n",
    "            if(email not in emails.keys()):\n",
    "                if spam==1:\n",
    "                    spam_email_count+=1\n",
    "                else: \n",
    "                    ham_email_count+=1\n",
    "                emails[email] = {'spam':spam,'word_count':0,'words':[]}\n",
    "            emails[email]['words'].append(word)\n",
    "            emails[email]['word_count']+=1\n",
    "#Calculate priors\n",
    "prior_spam=spam_email_count/len(emails)\n",
    "prior_ham=ham_email_count / len(emails)\n",
    "print prior_spam\n",
    "print prior_ham\n",
    "for word,freq in words.iteritems():\n",
    "    sys.stderr.write(word + \",\"+str(freq['spam_count'] + freq['ham_count']) + \"\\n\")\n",
    "    #Set p_spam and p_ham to zero if total count < 3\n",
    "    #(< 5 when include smoothing) \n",
    "    if freq['spam_count'] + freq['ham_count'] < 5:\n",
    "            print(word,0,0)\n",
    "    else:\n",
    "        print(word,float(freq['spam_count'])/spam_word_count,float(freq['ham_count'])/ham_word_count)\n",
    "\n"
   ]
  },
  {
   "cell_type": "code",
   "execution_count": 164,
   "metadata": {
    "collapsed": false
   },
   "outputs": [
    {
     "name": "stdout",
     "output_type": "stream",
     "text": [
      "Overwriting mapper_class.py\n"
     ]
    }
   ],
   "source": [
    "%%writefile mapper_class.py\n",
    "#!/usr/bin/python\n",
    "# mapper_class.py\n",
    "# Author: Jackson Lane\n",
    "# Description: mapper code to classify e-mails\n",
    "# Used for 2.5.  This one ignores 0 value conditional probabilities, rather than use them to set one posterior to 0\n",
    "\n",
    "from __future__ import division #Python 3-style division syntax is much cleaner\n",
    "import sys,re, string, subprocess\n",
    "from math import log\n",
    "\n",
    "posts={}\n",
    "spam_ignored_probabilities = 0 #number of spam posterior probabilities that will be ignored because they are 0\n",
    "ham_ignored_probabilities = 0 #number of ham posterior probabilities that will be ignored because they are 0\n",
    "\n",
    "\n",
    "with open (\"localmodel\", \"r\") as model:\n",
    "\n",
    "    prior_spam = float((model.readline())[:-2])\n",
    "    prior_ham =float((model.readline())[:-2])\n",
    "    for line in model.readlines():  \n",
    "        line = line[:-2]\n",
    "        word, p0, p1 = line.split()\n",
    "        #Why does Hadoop keep on appending weird tabs and apostrophes to my words?  Cleaning them up here\n",
    "        word=word[2:-2]\n",
    "        posts[str(word)] = [float(p0[:-1]), float(p1[:-1])]\n",
    "\n",
    "\n",
    "\n",
    "accuracy =0\n",
    "\n",
    "for line in sys.stdin:\n",
    "    line = re.sub('\\n','',line)\n",
    "    fields=line.split('\\t') #parse line into separate fields\n",
    "    #There is some malformed data here.  Going to ignore\n",
    "    if len(fields) != 4: continue\n",
    "    #Read off fields from model\n",
    "    [email,spam,subject,content] = fields           \n",
    "    data = content.lower() + subject.lower()\n",
    "    p_spam=log(prior_spam)\n",
    "    p_ham=log(prior_ham)\n",
    "    words = re.split('\\W+',data)\n",
    "    for word in words:\n",
    "\n",
    "        if word in posts:\n",
    "#Since there are so many words, the posteriors are going to be really low.  \n",
    "# So we need to use log to compute the posteriors.  Otherwise, we'll get underflow errors\n",
    "            log_spam = 0\n",
    "            log_ham = 0\n",
    "            try:\n",
    "                log_spam=log((posts[word][0]))\n",
    "                log_ham=log((posts[word][1]))\n",
    "            except ValueError:\n",
    "                #A value error means one of the conditional probabilities was zero\n",
    "                #Update zero counts for each class\n",
    "                sys.stderr.write(\"Zero word: \" + word + \" , Email: \" + email)\n",
    "                spam_ignored_probabilities += int(posts[word][0] ==0)\n",
    "                ham_ignored_probabilities += int(posts[word][1] ==0)\n",
    "                #And ignore the probabilities for that word\n",
    "                continue \n",
    "            p_spam+= log_spam\n",
    "            p_ham+= log_ham\n",
    "    if p_spam>p_ham:\n",
    "        spam_pred=1\n",
    "    else:\n",
    "        spam_pred=0\n",
    "    #I'd convert the posterior probabilities from the logs, but doing so would result in underflow\n",
    "    print [email,spam,spam_pred,p_spam,p_ham,spam_ignored_probabilities,ham_ignored_probabilities]"
   ]
  },
  {
   "cell_type": "markdown",
   "metadata": {},
   "source": [
    "Run the mapreduce job"
   ]
  },
  {
   "cell_type": "code",
   "execution_count": 165,
   "metadata": {
    "collapsed": false
   },
   "outputs": [
    {
     "name": "stdout",
     "output_type": "stream",
     "text": [
      "16/06/17 02:11:48 WARN util.NativeCodeLoader: Unable to load native-hadoop library for your platform... using builtin-java classes where applicable\n",
      "16/06/17 02:11:49 INFO fs.TrashPolicyDefault: Namenode trash configuration: Deletion interval = 0 minutes, Emptier interval = 0 minutes.\n",
      "Deleted model\n",
      "16/06/17 02:11:50 WARN util.NativeCodeLoader: Unable to load native-hadoop library for your platform... using builtin-java classes where applicable\n",
      "16/06/17 02:11:50 INFO fs.TrashPolicyDefault: Namenode trash configuration: Deletion interval = 0 minutes, Emptier interval = 0 minutes.\n",
      "Deleted results/2.5\n",
      "16/06/17 02:11:51 WARN streaming.StreamJob: -file option is deprecated, please use generic option -files instead.\n",
      "16/06/17 02:11:51 WARN util.NativeCodeLoader: Unable to load native-hadoop library for your platform... using builtin-java classes where applicable\n",
      "packageJobJar: [mapper_train.py, reducer_train.py, /tmp/hadoop-unjar9129302413078561197/] [] /tmp/streamjob7385512017477128638.jar tmpDir=null\n",
      "16/06/17 02:11:52 INFO client.RMProxy: Connecting to ResourceManager at /119.81.225.34:8032\n",
      "16/06/17 02:11:52 INFO client.RMProxy: Connecting to ResourceManager at /119.81.225.34:8032\n",
      "16/06/17 02:11:53 INFO mapred.FileInputFormat: Total input paths to process : 1\n",
      "16/06/17 02:11:53 INFO mapreduce.JobSubmitter: number of splits:2\n",
      "16/06/17 02:11:53 INFO mapreduce.JobSubmitter: Submitting tokens for job: job_1466055390565_0090\n",
      "16/06/17 02:11:54 INFO impl.YarnClientImpl: Submitted application application_1466055390565_0090\n",
      "16/06/17 02:11:54 INFO mapreduce.Job: The url to track the job: http://119.81.225.34:8088/proxy/application_1466055390565_0090/\n",
      "16/06/17 02:11:54 INFO mapreduce.Job: Running job: job_1466055390565_0090\n",
      "16/06/17 02:11:59 INFO mapreduce.Job: Job job_1466055390565_0090 running in uber mode : false\n",
      "16/06/17 02:11:59 INFO mapreduce.Job:  map 0% reduce 0%\n",
      "16/06/17 02:12:04 INFO mapreduce.Job:  map 100% reduce 0%\n",
      "16/06/17 02:12:09 INFO mapreduce.Job:  map 100% reduce 100%\n",
      "16/06/17 02:12:09 INFO mapreduce.Job: Job job_1466055390565_0090 completed successfully\n",
      "16/06/17 02:12:09 INFO mapreduce.Job: Counters: 50\n",
      "\tFile System Counters\n",
      "\t\tFILE: Number of bytes read=1574294\n",
      "\t\tFILE: Number of bytes written=3505299\n",
      "\t\tFILE: Number of read operations=0\n",
      "\t\tFILE: Number of large read operations=0\n",
      "\t\tFILE: Number of write operations=0\n",
      "\t\tHDFS: Number of bytes read=217219\n",
      "\t\tHDFS: Number of bytes written=176775\n",
      "\t\tHDFS: Number of read operations=9\n",
      "\t\tHDFS: Number of large read operations=0\n",
      "\t\tHDFS: Number of write operations=2\n",
      "\tJob Counters \n",
      "\t\tLaunched map tasks=2\n",
      "\t\tLaunched reduce tasks=1\n",
      "\t\tData-local map tasks=1\n",
      "\t\tRack-local map tasks=1\n",
      "\t\tTotal time spent by all maps in occupied slots (ms)=163936\n",
      "\t\tTotal time spent by all reduces in occupied slots (ms)=100192\n",
      "\t\tTotal time spent by all map tasks (ms)=5123\n",
      "\t\tTotal time spent by all reduce tasks (ms)=3131\n",
      "\t\tTotal vcore-seconds taken by all map tasks=5123\n",
      "\t\tTotal vcore-seconds taken by all reduce tasks=3131\n",
      "\t\tTotal megabyte-seconds taken by all map tasks=167870464\n",
      "\t\tTotal megabyte-seconds taken by all reduce tasks=102596608\n",
      "\tMap-Reduce Framework\n",
      "\t\tMap input records=100\n",
      "\t\tMap output records=33284\n",
      "\t\tMap output bytes=1507718\n",
      "\t\tMap output materialized bytes=1574300\n",
      "\t\tInput split bytes=192\n",
      "\t\tCombine input records=0\n",
      "\t\tCombine output records=0\n",
      "\t\tReduce input groups=15663\n",
      "\t\tReduce shuffle bytes=1574300\n",
      "\t\tReduce input records=33284\n",
      "\t\tReduce output records=5413\n",
      "\t\tSpilled Records=66568\n",
      "\t\tShuffled Maps =2\n",
      "\t\tFailed Shuffles=0\n",
      "\t\tMerged Map outputs=2\n",
      "\t\tGC time elapsed (ms)=206\n",
      "\t\tCPU time spent (ms)=3680\n",
      "\t\tPhysical memory (bytes) snapshot=824119296\n",
      "\t\tVirtual memory (bytes) snapshot=32384184320\n",
      "\t\tTotal committed heap usage (bytes)=1357905920\n",
      "\tShuffle Errors\n",
      "\t\tBAD_ID=0\n",
      "\t\tCONNECTION=0\n",
      "\t\tIO_ERROR=0\n",
      "\t\tWRONG_LENGTH=0\n",
      "\t\tWRONG_MAP=0\n",
      "\t\tWRONG_REDUCE=0\n",
      "\tFile Input Format Counters \n",
      "\t\tBytes Read=217027\n",
      "\tFile Output Format Counters \n",
      "\t\tBytes Written=176775\n",
      "16/06/17 02:12:09 INFO streaming.StreamJob: Output directory: model\n",
      "16/06/17 02:12:10 WARN util.NativeCodeLoader: Unable to load native-hadoop library for your platform... using builtin-java classes where applicable\n",
      "16/06/17 02:12:12 WARN streaming.StreamJob: -file option is deprecated, please use generic option -files instead.\n",
      "16/06/17 02:12:12 WARN util.NativeCodeLoader: Unable to load native-hadoop library for your platform... using builtin-java classes where applicable\n",
      "packageJobJar: [mapper_class.py, reducer_class.py, localmodel, /tmp/hadoop-unjar6614035440414345013/] [] /tmp/streamjob5015604922166651116.jar tmpDir=null\n",
      "16/06/17 02:12:12 INFO client.RMProxy: Connecting to ResourceManager at /119.81.225.34:8032\n",
      "16/06/17 02:12:13 INFO client.RMProxy: Connecting to ResourceManager at /119.81.225.34:8032\n",
      "16/06/17 02:12:13 INFO mapred.FileInputFormat: Total input paths to process : 1\n",
      "16/06/17 02:12:13 INFO mapreduce.JobSubmitter: number of splits:2\n",
      "16/06/17 02:12:14 INFO mapreduce.JobSubmitter: Submitting tokens for job: job_1466055390565_0091\n",
      "16/06/17 02:12:14 INFO impl.YarnClientImpl: Submitted application application_1466055390565_0091\n",
      "16/06/17 02:12:14 INFO mapreduce.Job: The url to track the job: http://119.81.225.34:8088/proxy/application_1466055390565_0091/\n",
      "16/06/17 02:12:14 INFO mapreduce.Job: Running job: job_1466055390565_0091\n",
      "16/06/17 02:12:19 INFO mapreduce.Job: Job job_1466055390565_0091 running in uber mode : false\n",
      "16/06/17 02:12:19 INFO mapreduce.Job:  map 0% reduce 0%\n",
      "16/06/17 02:12:24 INFO mapreduce.Job:  map 100% reduce 0%\n",
      "16/06/17 02:12:28 INFO mapreduce.Job:  map 100% reduce 100%\n",
      "16/06/17 02:12:29 INFO mapreduce.Job: Job job_1466055390565_0091 completed successfully\n",
      "16/06/17 02:12:29 INFO mapreduce.Job: Counters: 50\n",
      "\tFile System Counters\n",
      "\t\tFILE: Number of bytes read=8913\n",
      "\t\tFILE: Number of bytes written=375508\n",
      "\t\tFILE: Number of read operations=0\n",
      "\t\tFILE: Number of large read operations=0\n",
      "\t\tFILE: Number of write operations=0\n",
      "\t\tHDFS: Number of bytes read=217219\n",
      "\t\tHDFS: Number of bytes written=4160\n",
      "\t\tHDFS: Number of read operations=9\n",
      "\t\tHDFS: Number of large read operations=0\n",
      "\t\tHDFS: Number of write operations=2\n",
      "\tJob Counters \n",
      "\t\tLaunched map tasks=2\n",
      "\t\tLaunched reduce tasks=1\n",
      "\t\tData-local map tasks=1\n",
      "\t\tRack-local map tasks=1\n",
      "\t\tTotal time spent by all maps in occupied slots (ms)=162720\n",
      "\t\tTotal time spent by all reduces in occupied slots (ms)=80672\n",
      "\t\tTotal time spent by all map tasks (ms)=5085\n",
      "\t\tTotal time spent by all reduce tasks (ms)=2521\n",
      "\t\tTotal vcore-seconds taken by all map tasks=5085\n",
      "\t\tTotal vcore-seconds taken by all reduce tasks=2521\n",
      "\t\tTotal megabyte-seconds taken by all map tasks=166625280\n",
      "\t\tTotal megabyte-seconds taken by all reduce tasks=82608128\n",
      "\tMap-Reduce Framework\n",
      "\t\tMap input records=100\n",
      "\t\tMap output records=100\n",
      "\t\tMap output bytes=8707\n",
      "\t\tMap output materialized bytes=8919\n",
      "\t\tInput split bytes=192\n",
      "\t\tCombine input records=0\n",
      "\t\tCombine output records=0\n",
      "\t\tReduce input groups=100\n",
      "\t\tReduce shuffle bytes=8919\n",
      "\t\tReduce input records=100\n",
      "\t\tReduce output records=6\n",
      "\t\tSpilled Records=200\n",
      "\t\tShuffled Maps =2\n",
      "\t\tFailed Shuffles=0\n",
      "\t\tMerged Map outputs=2\n",
      "\t\tGC time elapsed (ms)=190\n",
      "\t\tCPU time spent (ms)=2010\n",
      "\t\tPhysical memory (bytes) snapshot=809906176\n",
      "\t\tVirtual memory (bytes) snapshot=32379674624\n",
      "\t\tTotal committed heap usage (bytes)=1352663040\n",
      "\tShuffle Errors\n",
      "\t\tBAD_ID=0\n",
      "\t\tCONNECTION=0\n",
      "\t\tIO_ERROR=0\n",
      "\t\tWRONG_LENGTH=0\n",
      "\t\tWRONG_MAP=0\n",
      "\t\tWRONG_REDUCE=0\n",
      "\tFile Input Format Counters \n",
      "\t\tBytes Read=217027\n",
      "\tFile Output Format Counters \n",
      "\t\tBytes Written=4160\n",
      "16/06/17 02:12:29 INFO streaming.StreamJob: Output directory: results/2.5\n"
     ]
    }
   ],
   "source": [
    "# clean up HDFS\n",
    "!hdfs dfs -rm -r model\n",
    "!hdfs dfs -rm -r results/2.5\n",
    "# Run training job\n",
    "!hadoop jar $HADOOP_HOME/share/hadoop/tools/lib/hadoop-streaming-2*.jar \\\n",
    "-file mapper_train.py \\\n",
    "-file reducer_train.py \\\n",
    "-mapper mapper_train.py \\\n",
    "-reducer reducer_train.py \\\n",
    "-input enronemail_1h.txt \\\n",
    "-output model\n",
    "# Write model to disk (I know it's inefficient)\n",
    "!hdfs dfs -cat model/part-00000 > localmodel\n",
    "# Run classifying job\n",
    "!hadoop jar $HADOOP_HOME/share/hadoop/tools/lib/hadoop-streaming-2*.jar \\\n",
    "-file mapper_class.py \\\n",
    "-file reducer_class.py \\\n",
    "-file localmodel \\\n",
    "-mapper mapper_class.py \\\n",
    "-reducer reducer_class.py \\\n",
    "-input enronemail_1h.txt \\\n",
    "-output results/2.5"
   ]
  },
  {
   "cell_type": "code",
   "execution_count": 166,
   "metadata": {
    "collapsed": false
   },
   "outputs": [
    {
     "name": "stdout",
     "output_type": "stream",
     "text": [
      "16/06/17 02:12:31 WARN util.NativeCodeLoader: Unable to load native-hadoop library for your platform... using builtin-java classes where applicable\n",
      "Accuracy: 0.99\t\n",
      "Error Rate: 0.01\t\n",
      "Spam Zero Probabilities: 1619\t\n",
      "Ham Zero Probabilities: 1619\t\n",
      "[-26.90075438188021, -26.303672916073054, -3390.006273950761, -3567.186513179571, -357.74849311055, -1095.824657367988, -2843.0992857751135, -361.701921619377, -432.0202025557672, -804.3242536961257, -677.6714162655886, -411.38380911540753, -99.94657875094703, -1349.2276260668018, -1376.805846244258, -577.5579577332536, -433.1469676176849, -988.8812272179887, -1368.9035449170935, -571.5957127339924, -821.909884678915, -418.3835791044462, -547.4736633396731, -1258.2416005815032, -246.9176791859621, -713.3308365547988, -135.84487779665977, -5054.491564289689, -385.90468902900324, -8548.334535677344, -225.30532986431155, -243.1288659176856, -555.0858133282964, -634.7138880656022, -1519.175738960856, -533.226622607859, -3315.670620875743, -1474.0571522413027, -587.2883984759537, -1110.4671691131275, -2748.865867207143, -821.909884678915, -3531.107370635062, -750.9028492256955, -3610.049337649999, -8465.578731748747, -467.28998898953415, -2239.0012799272245, -5397.597532349148, -976.1404746543687, -346.5976773729924, -1243.728316023423, -178.3991672723605, -2989.1401355614043, -2821.875920909579, -16.733797406558306, -1516.0248093349733, -1749.571137586786, -2820.213373171831, -13722.521661999755, -322.0994403919873, -433.06476481367457, -3238.7144652973852, -1237.8952158645504, -3330.228071289987, -707.5951934350564, -392.94178283352346, -113.73366956360502, -1739.02399180205, -1586.018489827603, -535.3523099645981, -24974.103751634582, -980.747961502338, -2042.8550525470735, -1106.6739483167514, -1034.2632469010703, -2911.4949588965014, -118.45107876661434, -391.56378360501844, -595.9446280201809, -810.9379521336275, -138.23127297665474, -4561.629182890464, -822.982280088318, -1027.3288752583771, -714.7889350997469, -1118.3765543050738, -822.982280088318, -15130.3413659688, -347.8393905053012, -505.82641664980116, -323.8770278866129, -3322.1713275150114, -366.8361020932274, -157.44680001860095, -125.73818639284713, -1938.1420545476326, -845.8485872859262, -2794.96468503182, -2564.280741981978]\t\n",
      "[-24.458888372271517, -25.12313730743608, -2851.970157689697, -3152.6009061118375, -301.99675420754716, -1079.8109475664694, -2368.9963023033924, -353.4388085083867, -474.62826014272645, -885.7615956922033, -712.1148770589032, -356.8804194608146, -81.56456594876227, -1108.8138521247074, -1162.513885418193, -612.258273470656, -464.1423692743736, -858.0308601205361, -1014.2386700929086, -542.5779803528771, -895.3581603895052, -438.4979772345228, -462.1448262491868, -967.2479664041139, -244.6610787768001, -623.246368655299, -144.85952977082553, -5479.370108047536, -369.70862191714957, -7869.362105940658, -219.48240161102805, -254.14141440227354, -584.3725874505949, -674.4954216496386, -1346.8733490018412, -469.23060364711563, -2683.348657397361, -1331.8748974664181, -626.6244248932582, -1297.1033399512278, -2466.9917475478765, -895.3581603895052, -4018.7156042510965, -832.4247924350757, -3813.953647138406, -5884.555003950745, -397.0379022912441, -1956.5955321845024, -4789.940760887678, -1035.0863362014013, -370.30212517331364, -840.8627032522191, -158.39747777259728, -2600.887926354049, -3113.0922820298892, -15.446720232216922, -1705.9046290345107, -1589.3446563386187, -3108.9333989465295, -15321.9785539933, -361.66755186927213, -467.5606882728815, -2753.914743075889, -911.8279944211505, -2698.8767587363827, -699.918532804714, -365.43675936876286, -122.04008775774608, -1591.0377427563965, -1212.124205990696, -521.6003450962718, -27976.49194843438, -1029.5576098302442, -1644.1414152912953, -942.5188485662025, -914.4377986820434, -3189.6377366076163, -124.28541714599744, -407.4465544596399, -527.767581605037, -662.5984664729638, -131.5125308912548, -4143.056052419804, -890.1156613865759, -1137.8911098072952, -668.3930520259688, -953.0428706951545, -890.1156613865759, -17054.18958849795, -373.5834339387549, -555.491288977845, -313.97498935549896, -2690.0674928608223, -360.4497612781557, -167.94199862665235, -134.25939923245093, -2033.0208035862324, -834.1486782973229, -2982.084474996751, -2718.341863740028]\t\n"
     ]
    }
   ],
   "source": [
    "!hdfs dfs -cat results/2.5/part-00000"
   ]
  },
  {
   "cell_type": "code",
   "execution_count": 167,
   "metadata": {
    "collapsed": false
   },
   "outputs": [
    {
     "name": "stdout",
     "output_type": "stream",
     "text": [
      "Error Rate: 0.01\n",
      "Number of Spam Zero Probabilities:  1619\t\n",
      "\n",
      "Number of Ham Zero Probabilities:  1619\t\n",
      "\n"
     ]
    },
    {
     "data": {
      "image/png": "[encoded data removed]",
      "text/plain": [
       "<matplotlib.figure.Figure at 0x7fd4f76b0450>"
      ]
     },
     "metadata": {},
     "output_type": "display_data"
    },
    {
     "data": {
      "image/png": "[encoded data removed]",
      "text/plain": [
       "<matplotlib.figure.Figure at 0x7fd52e4f9290>"
      ]
     },
     "metadata": {},
     "output_type": "display_data"
    }
   ],
   "source": [
    "%matplotlib inline \n",
    "import numpy as np\n",
    "import subprocess\n",
    "import matplotlib\n",
    "from matplotlib import pyplot as plt\n",
    "\n",
    "#Code to print histogram of posterior probabilities\n",
    "\n",
    "#read results of mapreduce job\n",
    "cat = subprocess.Popen([\"hadoop\", \"fs\", \"-cat\", \"results/2.5/part-00000\"], stdout=subprocess.PIPE).stdout\n",
    "spam_log_posterior_probabilities = []\n",
    "ham_log_posterior_probabilities = []\n",
    "\n",
    "#Function to parse a single line from the hdfs output file\n",
    "def getandsplit():\n",
    "    s = cat.readline()\n",
    "    return s.split(\":\")\n",
    "\n",
    "#Skip lines until we get to the line that reports Accuracy score\n",
    "while getandsplit()[0] != \"Accuracy\":\n",
    "    continue\n",
    "    \n",
    "#Save the error rate to compare against 2.3\n",
    "ErrorRateSmoothAndMin = float(getandsplit()[1])\n",
    "\n",
    "print \"Error Rate:\", ErrorRateSmoothAndMin\n",
    "print \"Number of Spam Zero Probabilities:\", getandsplit()[1]\n",
    "print \"Number of Ham Zero Probabilities:\", getandsplit()[1]\n",
    "\n",
    "#Parse the posterior probabilities from strings to lists of numbers.\n",
    "#I wish there was an easier way to do this\n",
    "spam_log_posterior_probabilities = [float(x) for x in cat.readline().strip().strip('[').strip(']').split(',')]\n",
    "ham_log_posterior_probabilities = [float(x) for x in cat.readline().strip().strip('[').strip(']').split(',')]\n",
    "\n",
    "plt.hist(spam_log_posterior_probabilities,bins=50)\n",
    "plt.title(\"Spam Posterior Probabilities Histogram\")\n",
    "plt.show()\n",
    "\n",
    "plt.hist(ham_log_posterior_probabilities,bins=50)\n",
    "plt.title(\"Ham Posterior Probabilities Histogram\")\n",
    "plt.show()"
   ]
  },
  {
   "cell_type": "markdown",
   "metadata": {},
   "source": [
    "##### How does it affect the misclassifcation error of learnt naive multinomial Bayesian Classifier on the training dataset:"
   ]
  },
  {
   "cell_type": "code",
   "execution_count": 168,
   "metadata": {
    "collapsed": false
   },
   "outputs": [
    {
     "name": "stdout",
     "output_type": "stream",
     "text": [
      "Error Rate 2.3:  0.0\t\n",
      "\n",
      "Error Rate 2.4:  0.01\t\n",
      "\n",
      "Error Rate 2.5: 0.01\n"
     ]
    }
   ],
   "source": [
    "print \"Error Rate 2.3:\", ErrorRateNoSmooth\n",
    "print \"Error Rate 2.4:\", ErrorRateSmooth\n",
    "print \"Error Rate 2.5:\", ErrorRateSmoothAndMin"
   ]
  },
  {
   "cell_type": "markdown",
   "metadata": {
    "collapsed": true
   },
   "source": [
    "This model in 2.5 ended up with the same error rate as the model in 2.4, which is still higher though than the error rate in 2.3.  The model in 2.5 though ignored more words, so you would have expected it to have a slightly higher error rate, but probably be more generalizable.  Ignoring words that don't appear often shouldn't have too much of an effect though, as the words ignored by definition don't appear that often anyway."
   ]
  },
  {
   "cell_type": "markdown",
   "metadata": {},
   "source": [
    "## HW2.6 Benchmark your code with the Python SciKit-Learn implementation of the multinomial Naive Bayes algorithm\n",
    "— Run the Multinomial Naive Bayes algorithm (using default settings) from SciKit-Learn over the same training data used in HW2.5 and report the misclassification error \n",
    "- Prepare a table to present your results, where rows correspond to approach used (SkiKit-Learn versus your Hadoop implementation) and the column presents the training misclassification error\n",
    "— Explain/justify any differences in terms of training error rates over the dataset in HW2.5 between your Multinomial Naive Bayes implementation (in Map Reduce) versus the Multinomial Naive Bayes implementation in SciKit-Learn "
   ]
  },
  {
   "cell_type": "code",
   "execution_count": 169,
   "metadata": {
    "collapsed": false
   },
   "outputs": [
    {
     "name": "stdout",
     "output_type": "stream",
     "text": [
      "            Model  Training Error\n",
      "1    Bernoulli NB            0.16\n",
      "2  Multinomial NB            0.00\n",
      "3     HW2.5 Model            0.01\n"
     ]
    }
   ],
   "source": [
    "import re\n",
    "import pandas as pd\n",
    "import numpy as np\n",
    "from sklearn.naive_bayes import MultinomialNB, BernoulliNB\n",
    "from sklearn.feature_extraction.text import CountVectorizer\n",
    "    \n",
    "data = np.array([])\n",
    "labels = np.array([])\n",
    "opened = open (\"enronemail_1h.txt\", \"r\") \n",
    "for line in opened.readlines():\n",
    "    try:\n",
    "        [email,spam,subject,content] = re.split(\"\\t\",line)            \n",
    "        text = content.lower() + subject.lower()\n",
    "        data=np.append(data,[text])\n",
    "        labels=np.append(labels,[spam])\n",
    "        \n",
    "    except:\n",
    "        #Just ignore data that gives an error.  This \n",
    "        continue\n",
    " \n",
    "# Create features for train and dev data \n",
    "vectorizer = CountVectorizer()\n",
    "trainingData = vectorizer.fit_transform(data)\n",
    "#Data frame that I will use to show training errors\n",
    "d = pd.DataFrame({\"Model\":[],\"Training Error\":[]})\n",
    "classifier = BernoulliNB()\n",
    "classifier.fit(trainingData, labels) \n",
    "#Training error is 1- accuracy score\n",
    "d.loc[1]=[\"Bernoulli NB\", 1-classifier.score(trainingData,labels)]\n",
    "classifier = MultinomialNB()\n",
    "classifier.fit(trainingData, labels) \n",
    "d.loc[2]=[\"Multinomial NB\", 1-classifier.score(trainingData,labels)]\n",
    "#I'm hardcoding the error rate I got from HW2.5\n",
    "d.loc[3]=[\"HW2.5 Model\", ErrorRateSmoothAndMin]\n",
    "\n",
    "print d"
   ]
  },
  {
   "cell_type": "markdown",
   "metadata": {},
   "source": [
    "As in homework 1, the Bernoulli model has a much higher error rate than the Multinomial model or the model from the previous problem.  However, note that model from 2.5 is slightly worse than the Multinomial model, whereas the model from HW 1.5 also had a 0% training error.  This is because the model from 2.5 ignored the words that appeared less than 3 times in the corpus. The 2.5 model is otherwise identical to the model from HW 1.5. Despite not fitting the training data as well, the model from 2.5 is likley more generalizable than the sklearn Multinomial model or the model from 1.5, as it drops tokens that may have been included by mistake or as abberations.  "
   ]
  },
  {
   "cell_type": "code",
   "execution_count": null,
   "metadata": {
    "collapsed": false
   },
   "outputs": [],
   "source": []
  }
 ],
 "metadata": {
  "kernelspec": {
   "display_name": "Python 2",
   "language": "python",
   "name": "python2"
  },
  "language_info": {
   "codemirror_mode": {
    "name": "ipython",
    "version": 2
   },
   "file_extension": ".py",
   "mimetype": "text/x-python",
   "name": "python",
   "nbconvert_exporter": "python",
   "pygments_lexer": "ipython2",
   "version": "2.7.11"
  }
 },
 "nbformat": 4,
 "nbformat_minor": 0
}
