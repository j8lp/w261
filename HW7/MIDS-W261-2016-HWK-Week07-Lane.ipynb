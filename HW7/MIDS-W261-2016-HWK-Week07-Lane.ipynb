{
 "cells": [
  {
   "cell_type": "markdown",
   "metadata": {},
   "source": [
    "## MIDS UC Berkeley, Machine Learning at Scale Assignment 7\n",
    " \n",
    "__W261-1__ Summer 2016    \n",
    "__Week 7__: SSSP    \n",
    "\n",
    "Jackson Lane   \n",
    "\n",
    "***"
   ]
  },
  {
   "cell_type": "markdown",
   "metadata": {},
   "source": [
    "<h1 style=\"color:#021353;\">General Description</h1>\n",
    "<div style=\"margin:10px;border-left:5px solid #eee;\">\n",
    "<pre style=\"font-family:sans-serif;background-color:transparent\">\n",
    "In this assignment you will explore networks and develop MRJob code for \n",
    "finding shortest path graph distances. To build up to large data \n",
    "you will develop your code on some very simple, toy networks.\n",
    "After this you will take your developed code forward and modify it and \n",
    "apply it to two larger datasets (performing EDA along the way).\n",
    "\n",
    "<h3>Undirected toy network dataset</h3>\n",
    "\n",
    "\n",
    "In an undirected network all links are symmetric, \n",
    "i.e., for a pair of nodes 'A' and 'B,' both of the links:\n",
    "\n",
    "A -> B and B -> A\n",
    "\n",
    "will exist. \n",
    "\n",
    "The toy data are available in a sparse (stripes) representation:\n",
    "\n",
    "(node) \\t (dictionary of links)\n",
    "\n",
    "on AWS/Dropbox via the url:\n",
    "\n",
    "s3://ucb-mids-mls-networks/undirected_toy.txt\n",
    "On under the Data Subfolder for HW7 on Dropbox with the same file name. \n",
    "The Data folder is in: https://db.tt/Kxu48mL1)\n",
    "\n",
    "In the dictionary, target nodes are keys, link weights are values \n",
    "(here, all weights are 1, i.e., the network is unweighted).\n",
    "\n",
    "\n",
    "<h3>Directed toy network dataset</h3>\n",
    "\n",
    "In a directed network all links are not necessarily symmetric, \n",
    "i.e., for a pair of nodes 'A' and 'B,' it is possible for only one of:\n",
    "\n",
    "A -> B or B -> A\n",
    "\n",
    "to exist. \n",
    "\n",
    "These toy data are available in a sparse (stripes) representation:\n",
    "\n",
    "(node) \\t (dictionary of links)\n",
    "\n",
    "on AWS/Dropbox via the url:\n",
    "\n",
    "s3://ucb-mids-mls-networks/directed_toy.txt\n",
    "Or under the Data Subfolder for HW7 on Dropbox with the same file name\n",
    "(On Dropbox https://www.dropbox.com/sh/2c0k5adwz36lkcw/AAAAKsjQfF9uHfv-X9mCqr9wa?dl=0)\n",
    "\n",
    "In the dictionary, target nodes are keys, link weights are values \n",
    "(here, all weights are 1, i.e., the network is unweighted).\n",
    "</pre>\n",
    "</div>"
   ]
  },
  {
   "cell_type": "markdown",
   "metadata": {},
   "source": [
    "<h1 style=\"color:#021353;\">HW 7.0: Shortest path graph distances (toy networks)</h1>\n",
    "<div style=\"margin:10px;border-left:5px solid #eee;\">\n",
    "<pre style=\"font-family:sans-serif;background-color:transparent\">\n",
    "In this part of your assignment you will develop the base of your code for the week.\n",
    "\n",
    "Write MRJob classes to find shortest path graph distances, as described in the lectures. In addition to finding the distances, your code should also output a distance-minimizing path between the source and target.\n",
    "Work locally for this part of the assignment, and use both of the undirected and directed toy networks.\n",
    "\n",
    "To proof you code's function, run the following jobs\n",
    "\n",
    "- shortest path in the undirected network from node 1 to node 4\n",
    "Solution: 1,5,4. NOTE: There is another shortest path also (HINT: 1->5->4)! Either will suffice (you will find this also in the remaining problems. E.g., 7.2 and 7.4.\n",
    " \n",
    "\n",
    "- shortest path in the directed network from node 1 to node 5\n",
    "Solution: 1,2,4,5\n",
    "\n",
    ".and report your output---make sure it is correct!"
   ]
  },
  {
   "cell_type": "code",
   "execution_count": 3,
   "metadata": {
    "collapsed": false
   },
   "outputs": [
    {
     "name": "stdout",
     "output_type": "stream",
     "text": [
      "Overwriting MRJob7_0_findshortestpath.py\n"
     ]
    }
   ],
   "source": [
    "%%writefile MRJob7_0_findshortestpath.py\n",
    "\n",
    "#This job takes in a graph file, optionally an index file, a start point or name, and an end point or name.  \n",
    "#The job will then find the shortest path between the start and points using breadth first search\n",
    "# There are two general sections of this job\n",
    "#The first is the pre-processing.  Here, the graph data is transformed in the following ways:\n",
    "#   -Initialize fields for visit status, distance, and shortest path\n",
    "#   -Join graph data with name from index file if present\n",
    "#   -Put start point into queue\n",
    "\n",
    "# In the second phase, the breadth first search algorithm is applied repeatedly until either it finds the end point\n",
    "# or it runs out of nodes to process.  \n",
    "# This phase will also terminate after 999 iterations.\n",
    "# Each iteration of breadth first search will:\n",
    "#   -Update the statuses of the nodes currently in queue and add their neighbors to the queue\n",
    "#   -Update the shortest paths and distances of the nodes currently in queue\n",
    "#   -Terminate if either the end node has been reached or if there are no nodes left to process\n",
    "\n",
    "# The second phase passes back either the shortest path to the end node or an error message\n",
    "\n",
    "from mrjob.job import MRJob\n",
    "from mrjob.step import MRStep\n",
    "import sys\n",
    "\n",
    "class MRJob7_0_findshortestpath(MRJob):\n",
    "    MRJob.SORT_VALUES = True\n",
    "    \n",
    "    def steps(self):\n",
    "        #Run 999 iterations of BFS search\n",
    "        step =  [MRStep(\n",
    "                    mapper=self.mapper\n",
    "                       , reducer=self.reducer\n",
    "                ,jobconf =  {\n",
    "            \"mapred.map.tasks\":4,\n",
    "            \"mapred.reduce.tasks\":2\n",
    "        }\n",
    "                      )\n",
    "               ] \n",
    "        return [MRStep(mapper=self.mapper_preprocess,reducer=self.reducer_preprocess\n",
    "            ,jobconf =  {\n",
    "            \"mapred.map.tasks\":4,\n",
    "            \"mapred.reduce.tasks\":2\n",
    "        })] + step * 999\n",
    "    \n",
    "    def configure_options(self):\n",
    "        super(MRJob7_0_findshortestpath, self).configure_options()\n",
    "        self.add_passthrough_option('--startNode', default='1')\n",
    "        self.add_passthrough_option('--endNode', default='1')\n",
    "\n",
    "    def mapper_preprocess(self, _, line):\n",
    "        fields = line.strip().split('\\t')\n",
    "        #Check if line comes from a graph data file\n",
    "        # or an index file.  You usually can tell if its\n",
    "        # a graph data file if the first field is a number.\n",
    "        if fields[0].isdigit():\n",
    "            id = fields[0]\n",
    "            neighbors = eval(fields[1])\n",
    "            # if it turns out that this was actually a line from an index file\n",
    "            # and the node name was just all numeric, then discard\n",
    "            if(str(type(neighbors)) == \"<type 'dict'>\"):\n",
    "                yield id, neighbors\n",
    "        else:\n",
    "            # if line is from an index file, yield node id and name with order inversion\n",
    "            id = fields[1]\n",
    "            name = fields[0]\n",
    "            yield id, {\"*\":name}\n",
    "    \n",
    "    # The reducer here will perform left on graph data with the names from the index file, if present.\n",
    "    def reducer_preprocess(self,id,values):\n",
    "        name = id\n",
    "        id = int(id)\n",
    "        for neighbors in values:\n",
    "            if neighbors.get(\"*\"):\n",
    "                name= neighbors[\"*\"]\n",
    "            else:\n",
    "                if name == self.options.startNode:\n",
    "                    yield id, [name,neighbors, 0, 'queue', []]\n",
    "                else:\n",
    "                    yield id,[name, neighbors,sys.maxint, 'frontier', []]\n",
    "\n",
    "    # This mapper takes in a node and computes the results of a BFS search iteration on that node.\n",
    "    # The mapper then yields the resulting nodes from that BFS search.\n",
    "    def mapper(self, node, values):\n",
    "        name,neighbors, distance, status,shortest_path = values\n",
    "        node = str(node)\n",
    "        neighbors = map(str,neighbors)\n",
    "        # First part of termination condition.  Each mapper will yield a special key *Q with value 0\n",
    "        # If the mapper processes any queued elements, it will emit *Q with a value of 1\n",
    "        # In the reducer, if none of the mappers emitted *Q with a value of 1, then that means\n",
    "        # the queue is empty and there is no path between the start and end nodes.\n",
    "        yield \"*Q\",0\n",
    "        self.increment_counter(\"7_0\",\"NA\",1)\n",
    "\n",
    "        if status == 'queue':\n",
    "            #Yield *Q,1 to indicate that the mapper has processed a node in queue and that there are still\n",
    "            # nodes left to process in the graph\n",
    "            yield \"*Q\",1\n",
    "            if(name == self.options.endNode):\n",
    "                self.increment_counter(\"7_0\",map(str,shortest_path),1)\n",
    "                \n",
    "            # Update status from \"queue\" to \"visited\"and yield\n",
    "            yield node, [name,neighbors, distance, 'visited', shortest_path]\n",
    "            if neighbors:\n",
    "                #Yield each of node's neighbors.\n",
    "                #Note that mapper does not have any information on the neighbors\n",
    "                    # except for node id.  So the mapper just emits what it can,\n",
    "                    # and it's up to the reducer to fill in the missing information\n",
    "                for neighbor in neighbors:\n",
    "                    temp_path = list(shortest_path)\n",
    "                    temp_path.append(name)\n",
    "                    yield neighbor, ['',None, distance + 1, 'queue', temp_path]\n",
    "        else:\n",
    "            #Even if a node has been visited before or is on the frontier, the mapper still yields it\n",
    "            # so that reducer can use it to fill in missing information if needed\n",
    "            yield node, [name,neighbors, distance, status, shortest_path]\n",
    "\n",
    "\n",
    "    #The reducer fills in the missing information for each of the nodes emitted by the mapper\n",
    "    #The reducer also will terminate the MRJob if the endNode is found or\n",
    "    # if the mapper did not process any nodes in status \"queue\"\n",
    "    def reducer(self, key, values):\n",
    "        if key == \"*Q\": \n",
    "            queue_count = sum(values)\n",
    "            if (queue_count == 0):\n",
    "                raise Exception(\"No Path\")\n",
    "        else:\n",
    "            name = \"\"\n",
    "            neighbors = {}\n",
    "            distance = sys.maxint\n",
    "            status = None\n",
    "            path = []\n",
    "            for value in values:\n",
    "                # If the reducer runs into a visited node, the reducer assumes all information is present\n",
    "                # If the visited node is the endNode, the reducer terminates the job\n",
    "                if value[3] == 'visited':\n",
    "                    [name,neighbors,distance,status,path] = value\n",
    "                    if(name == self.options.endNode):\n",
    "                        raise Exception(\"Success\")                    \n",
    "                    break\n",
    "                \n",
    "                #Handle frontier nodes.\n",
    "                elif value[3] == \"frontier\":\n",
    "                    name = value[0]\n",
    "                    neighbors = value[1]\n",
    "                    #If we previously processed a queued node, with same ID, then leave status as queue\n",
    "                    #Otherwise, update status to frontier\n",
    "                    if status != 'queue':\n",
    "                        status = value[3]\n",
    "\n",
    "                # Handle queued nodes.  This type of node should always come with a frontier node with the same ID\n",
    "                # The frontier node updates the name and neighbors while the queued node updates the status and path\n",
    "                else:\n",
    "                    status = value[3]\n",
    "                    path = value[4] \n",
    "                distance = min(distance, value[2])\n",
    "            \n",
    "            # After all values are processed, yield node\n",
    "            yield key, [name,neighbors, distance, status, path]\n",
    "\n",
    "if __name__ == '__main__':\n",
    "    MRJob7_0_findshortestpath.run()"
   ]
  },
  {
   "cell_type": "code",
   "execution_count": 4,
   "metadata": {
    "collapsed": false
   },
   "outputs": [
    {
     "name": "stdout",
     "output_type": "stream",
     "text": [
      "The autoreload extension is already loaded. To reload it, use:\n",
      "  %reload_ext autoreload\n"
     ]
    }
   ],
   "source": [
    "# Driver function to call the findshortestpath MRJob.  \n",
    "# It passes the graph data file and index file if present to the MRJob.  \n",
    "# StartNode, endNode, and runnerType are all parameterized, making this driving function backend agnostic\n",
    "# Since the MRJob should terminate early, the driver function actually handles the results of the MRJob in\n",
    "# a try-catch statement.\n",
    "\n",
    "%load_ext autoreload\n",
    "%autoreload 2\n",
    "from MRJob7_0_findshortestpath import MRJob7_0_findshortestpath\n",
    "import os\n",
    "def findShortestPath(filenames, startNode, endNode,runnerType):\n",
    "    # Separate graph data file from index file (if present)\n",
    "    filenames = filenames.split()\n",
    "    fileData = filenames[0]\n",
    "    if (len(filenames) > 1):\n",
    "        fileIndex = filenames[1]\n",
    "    else:\n",
    "        fileIndex = ''\n",
    "    mr_job = MRJob7_0_findshortestpath(args=[\n",
    "        fileData,fileIndex, '-r', runnerType,\n",
    "        '--startNode', startNode,\n",
    "        '--endNode',endNode\n",
    "    ])\n",
    "    with mr_job.make_runner() as runner:\n",
    "        try:\n",
    "            runner.run()\n",
    "        except:\n",
    "            #The MRJob should terminate early when it finds the endNode or runs out\n",
    "            # of nodes to process.  Since MRJob does not let you stream_output on\n",
    "            # jobs that have terminated early, the MRJob uses counters to pass\n",
    "            # the shortest path to the driver function.  \n",
    "            counters = sorted(runner.counters()[-1][\"7_0\"].keys())\n",
    "            path =counters[-1].replace(\";\",\",\")\n",
    "            if path == \"NA\":\n",
    "                raise Exception(\"No path\")\n",
    "            path = map(str,eval(path))\n",
    "            # Append endNode to the path.  The MRJob path alone only shows nodes leading up to end node\n",
    "            return path + [endNode] \n",
    "    raise Exception(\"No Path after 999 iterations\")\n",
    "\n",
    "    "
   ]
  },
  {
   "cell_type": "markdown",
   "metadata": {},
   "source": [
    "Test against toy data "
   ]
  },
  {
   "cell_type": "code",
   "execution_count": 37,
   "metadata": {
    "collapsed": false
   },
   "outputs": [
    {
     "name": "stdout",
     "output_type": "stream",
     "text": [
      "Overwriting toy_indicies.txt\n"
     ]
    }
   ],
   "source": [
    "%%writefile toy_indicies.txt\n",
    "A\t1\n",
    "B\t2\n",
    "D\t3\n",
    "C\t4"
   ]
  },
  {
   "cell_type": "code",
   "execution_count": 38,
   "metadata": {
    "collapsed": false
   },
   "outputs": [
    {
     "name": "stdout",
     "output_type": "stream",
     "text": [
      "Shortest path in Data/undirected_toy.txt toy_indicies.txt\n",
      "['A', 'B', 'D']\n"
     ]
    }
   ],
   "source": [
    "# Testing undirected toy with index file\n",
    "filename = 'Data/undirected_toy.txt toy_indicies.txt'\n",
    "print 'Shortest path in', filename\n",
    "# Because we are using an index file, we refer to nodes by name rather than ID\n",
    "path = findShortestPath(filename, 'A', 'D','local')\n",
    "print path"
   ]
  },
  {
   "cell_type": "code",
   "execution_count": 18,
   "metadata": {
    "collapsed": false,
    "scrolled": true
   },
   "outputs": [
    {
     "name": "stdout",
     "output_type": "stream",
     "text": [
      "Shortest path in Data/undirected_toy.txt toy_indicies.txt\n",
      "['A', 'B', 'D']\n",
      "Shortest path in Data/directed_toy.txt\n",
      "['1', '2', '4', '5']\n"
     ]
    }
   ],
   "source": [
    "# Testing directed toy without index file\n",
    "filename = 'Data/directed_toy.txt'\n",
    "print 'Shortest path in', filename\n",
    "path = findShortestPath(filename, '1', '5','local')\n",
    "print path"
   ]
  },
  {
   "cell_type": "markdown",
   "metadata": {},
   "source": [
    "<h3>Main dataset 1: NLTK synonyms</h3>\n",
    "\n",
    "In the next part of this assignment you will explore a network derived from the NLTK synonym database used for evaluation in HW 5. At a high level, this network is undirected, defined so that there exists link between two nodes/words if the pair or words are a synonym. These data may be found at the location:\n",
    "\n",
    "<a href=\"s3://ucb-mids-mls-networks/synNet/synNet.txt\">s3://ucb-mids-mls-networks/synNet/synNet.txt</a>\n",
    "<a href=\"s3://ucb-mids-mls-networks/synNet/indices.txt\">s3://ucb-mids-mls-networks/synNet/indices.txt</a>\n",
    "On under the Data Subfolder for HW7 on Dropbox with the same file names\n",
    "\n",
    "where synNet.txt contains a sparse representation of the network:\n",
    "\n",
    "(index) \\t (dictionary of links)\n",
    "\n",
    "in indexed form, and indices.txt contains a lookup list\n",
    "\n",
    "(word) \\t (index)\n",
    "\n",
    "of indices and words. This network is small enough for you to explore and run\n",
    "scripts locally, but will also be good for a systems test (for later) on AWS.\n",
    "\n",
    "In the dictionary, target nodes are keys, link weights are values \n",
    "(here, all weights are 1, i.e., the network is unweighted).\n",
    "</pre>\n",
    "</div>"
   ]
  },
  {
   "cell_type": "markdown",
   "metadata": {},
   "source": [
    "<h1 style=\"color:#021353;\">HW 7.1: Exploratory data analysis (NLTK synonyms)</h1>\n",
    "<div style=\"margin:10px;border-left:5px solid #eee;\">\n",
    "<pre style=\"font-family:sans-serif;background-color:transparent\">\n",
    "Using MRJob, explore the synonyms network data.\n",
    "Consider plotting the degree distribution (does it follow a power law?),\n",
    "and determine some of the key features, like:\n",
    "\n",
    "number of nodes, \n",
    "number links,\n",
    "or the average degree (i.e., the average number of links per node),\n",
    "etc...\n",
    "\n",
    "As you develop your code, please be sure to run it locally first (though on the whole dataset). \n",
    "Once you have gotten you code to run locally, deploy it on AWS as a systems test\n",
    "in preparation for our next dataset (which will require AWS).\n",
    "</pre>\n",
    "</div>\n"
   ]
  },
  {
   "cell_type": "code",
   "execution_count": 223,
   "metadata": {
    "collapsed": false
   },
   "outputs": [
    {
     "name": "stdout",
     "output_type": "stream",
     "text": [
      "Overwriting MRJob7_1_findnodes.py\n"
     ]
    }
   ],
   "source": [
    "%%writefile MRJob7_1_findnodes.py\n",
    "\n",
    "#MR Job code to find all the nodes in a graph.  It does this by emitting a key for each node id found.\n",
    "\n",
    "from mrjob.job import MRJob\n",
    "from mrjob.protocol import ReprProtocol\n",
    "from mrjob.step import MRStep\n",
    "\n",
    "class MRJob7_1_findnodes(MRJob):\n",
    "\n",
    "    def mapper(self, _, line):\n",
    "        node, neighbors = line.strip().split('\\t')\n",
    "        neighbors = eval(neighbors)\n",
    "        yield str(node), 1\n",
    "        #Since the graph data file only has nodes with out links, we also need to emit each neighbor to\n",
    "        # ensure that we also cover nodes that may only have in links but no out links.\n",
    "        # On Wikipedia in particular, these \n",
    "        for (node,_) in neighbors.items():\n",
    "            yield str(node), 1\n",
    "\n",
    "    def combiner(self, node, values):\n",
    "        # Even if there are duplicates, emit a value of 1.  \n",
    "        # We only want to know whether a node exists, not its degree\n",
    "        yield str(node), 1\n",
    "            \n",
    "    def reducer(self, node, values):\n",
    "        yield str(node), 1\n",
    "\n",
    "if __name__ == '__main__':\n",
    "    MRJob7_1_findnodes.run()"
   ]
  },
  {
   "cell_type": "code",
   "execution_count": 4,
   "metadata": {
    "collapsed": false
   },
   "outputs": [
    {
     "name": "stdout",
     "output_type": "stream",
     "text": [
      "Overwriting MRJob7_1_findlinks.py\n"
     ]
    }
   ],
   "source": [
    "%%writefile MRJob7_1_findlinks.py\n",
    "\n",
    "#MR Job code to find all the edges in a graph.  It does this by creating a frequency distribution of out degree\n",
    "\n",
    "from mrjob.job import MRJob\n",
    "from mrjob.step import MRStep\n",
    "\n",
    "class MRJob7_1_findlinks(MRJob):\n",
    "\n",
    "    def mapper(self, _, line):\n",
    "        node, neighbors = line.strip().split('\\t')\n",
    "        neighbors = eval(neighbors)\n",
    "        # compute the degree of the node and yield \n",
    "        degree = len(neighbors)\n",
    "        yield degree, 1\n",
    "\n",
    "    def combiner(self, degree, counts):\n",
    "        # Sum up counts\n",
    "        yield degree, sum(counts)\n",
    "   \n",
    "    def reducer(self, degree, counts):\n",
    "        yield degree, sum(counts)\n",
    "   \n",
    "if __name__ == '__main__':\n",
    "    MRJob7_1_findlinks.run()"
   ]
  },
  {
   "cell_type": "markdown",
   "metadata": {},
   "source": [
    "Driver class"
   ]
  },
  {
   "cell_type": "code",
   "execution_count": 5,
   "metadata": {
    "collapsed": false
   },
   "outputs": [],
   "source": [
    "# This is a driver function to call the findNodes and findEdges MRJobs.  \n",
    "# It will generate a file with the results that can be used in the next function\n",
    "# to show EDA \n",
    "\n",
    "from __future__ import division\n",
    "from MRJob7_1_findnodes import MRJob7_1_findnodes\n",
    "from MRJob7_1_findlinks import MRJob7_1_findlinks\n",
    "import numpy\n",
    "\n",
    "def exploreData(filename,runnerType):\n",
    "    mr_job = MRJob7_1_findnodes(args=[\n",
    "        filename, '-r', runnerType ])\n",
    "    nodes = 0\n",
    "    \n",
    "    #Run find nodes MRJob\n",
    "    with mr_job.make_runner() as runner:\n",
    "        runner.run()\n",
    "        for line in runner.stream_output():\n",
    "            out = mr_job.parse_output_line(line)\n",
    "            nodes += out[1]\n",
    "\n",
    "    # Compute the distribution of the links\n",
    "    mr_job = MRJob7_1_findlinks(args=[\n",
    "        filename, '-r', runnerType\n",
    "    ])\n",
    "    # Output number of nodes + degree distribution to a file\n",
    "    with open(filename+ \"_degreedist\", 'w') as myfile:\n",
    "        myfile.write(str(nodes)+\"\\n\")\n",
    "        with mr_job.make_runner() as runner:\n",
    "            runner.run()\n",
    "            for line in runner.stream_output():\n",
    "                myfile.write(line)"
   ]
  },
  {
   "cell_type": "code",
   "execution_count": 6,
   "metadata": {
    "collapsed": false
   },
   "outputs": [],
   "source": [
    "%matplotlib inline\n",
    "\n",
    "#This function takes the data generate by the findNodes and findEdges MRJobs and displays\n",
    "# number of nodes, links, and average outgoing links per node\n",
    "#This function also displays a histogram of the degree distribution and a log-log histogram\n",
    "# of the degree distribution\n",
    "\n",
    "import matplotlib\n",
    "import numpy as np\n",
    "\n",
    "def generateHistogram(filename):\n",
    "    with open(filename+ \"_degreedist\", 'r') as myfile:\n",
    "        nodes = int(myfile.readline())\n",
    "        degree_occurences = [line.split(\"\\t\") for line in myfile.readlines()]\n",
    "    \n",
    "    # Get needed histogram statistics from graph data\n",
    "    bins,weights = np.transpose(degree_occurences)\n",
    "    bins = map(int,bins)\n",
    "    weights = map(float,weights)\n",
    "    links = numpy.sum([int(degree) * float(weight) for degree, weight in degree_occurences])\n",
    "    print 'Number of nodes:',nodes\n",
    "    print 'Number of links:', links\n",
    "    print 'Average links:',links / nodes\n",
    "\n",
    "    # Create a histogram\n",
    "    fig = matplotlib.pyplot.figure(figsize=(16, 6))\n",
    "\n",
    "    plot = fig.add_subplot(1, 2, 1)\n",
    "    plot.set_xlabel(\"degree\")\n",
    "    plot.set_ylabel(\"count\")\n",
    "    plot.set_title(\"Out Degree Distribution\")\n",
    "    plot.hist(bins, 15, weights = weights)\n",
    "    \n",
    "    # Create a log-log histogram using matplotlib.\n",
    "    log_bins = numpy.log(bins)\n",
    "    log_weights = numpy.log(weights)\n",
    "\n",
    "    log_plot = fig.add_subplot(1, 2, 2)\n",
    "    log_plot.set_xlabel('log(degree)')\n",
    "    log_plot.set_ylabel('log(count)')\n",
    "    log_plot.set_title('Log-Log Out Degree Distribution')\n",
    "    log_plot.hist(log_bins, 15, weights = log_weights)"
   ]
  },
  {
   "cell_type": "code",
   "execution_count": 7,
   "metadata": {
    "collapsed": false
   },
   "outputs": [
    {
     "name": "stdout",
     "output_type": "stream",
     "text": [
      "Undirected Toy Data Local\n",
      "Number of nodes: 5\n",
      "Number of links: 14.0\n",
      "Average links: 2.8\n"
     ]
    },
    {
     "data": {
      "image/png": "[encoded data removed]",
      "text/plain": [
       "<matplotlib.figure.Figure at 0x7fc0544f8a50>"
      ]
     },
     "metadata": {},
     "output_type": "display_data"
    }
   ],
   "source": [
    "print 'Undirected Toy Data Local'\n",
    "exploreData('Data/undirected_toy.txt','inline')\n",
    "generateHistogram('Data/undirected_toy.txt')"
   ]
  },
  {
   "cell_type": "code",
   "execution_count": 218,
   "metadata": {
    "collapsed": false
   },
   "outputs": [
    {
     "name": "stdout",
     "output_type": "stream",
     "text": [
      "Undirected Toy Data  Hadoop\n",
      "Number of nodes: 5\n",
      "Number of links: 14.0\n",
      "Average links: 2.8\n"
     ]
    },
    {
     "data": {
      "image/png": "[encoded data removed]",
      "text/plain": [
       "<matplotlib.figure.Figure at 0x7f96280f8a90>"
      ]
     },
     "metadata": {},
     "output_type": "display_data"
    }
   ],
   "source": [
    "print 'Undirected Toy Data  Hadoop'\n",
    "exploreData('Data/undirected_toy.txt','hadoop')\n",
    "generateHistogram('Data/undirected_toy.txt')\n"
   ]
  },
  {
   "cell_type": "code",
   "execution_count": 22,
   "metadata": {
    "collapsed": false
   },
   "outputs": [
    {
     "name": "stdout",
     "output_type": "stream",
     "text": [
      "Directed toy data on local\n",
      "Number of nodes: 6\n",
      "Number of links: 12.0\n",
      "Average links: 2.0\n"
     ]
    },
    {
     "data": {
      "image/png": "[encoded data removed]",
      "text/plain": [
       "<matplotlib.figure.Figure at 0x7f5ce95b9090>"
      ]
     },
     "metadata": {},
     "output_type": "display_data"
    }
   ],
   "source": [
    "print 'Directed Toy Data Local'\n",
    "exploreData('Data/directed_toy.txt','inline')\n",
    "generateHistogram('Data/directed_toy.txt')\n"
   ]
  },
  {
   "cell_type": "code",
   "execution_count": 46,
   "metadata": {
    "collapsed": false
   },
   "outputs": [
    {
     "name": "stdout",
     "output_type": "stream",
     "text": [
      "Directed Toy Data Hadoop\n",
      "Number of nodes: 6\n",
      "Number of links: 12.0\n",
      "Average links: 2.0\n"
     ]
    },
    {
     "data": {
      "image/png": "[encoded data removed]",
      "text/plain": [
       "<matplotlib.figure.Figure at 0x7f5ce9c657d0>"
      ]
     },
     "metadata": {},
     "output_type": "display_data"
    }
   ],
   "source": [
    "print 'Directed Toy Data Hadoop'\n",
    "exploreData('Data/directed_toy.txt','hadoop')\n",
    "generateHistogram('Data/directed_toy.txt')\n"
   ]
  },
  {
   "cell_type": "markdown",
   "metadata": {},
   "source": [
    "Now run on the full data set for real"
   ]
  },
  {
   "cell_type": "code",
   "execution_count": 47,
   "metadata": {
    "collapsed": false
   },
   "outputs": [
    {
     "name": "stdout",
     "output_type": "stream",
     "text": [
      "NLTK Synonyms Local\n",
      "Number of nodes: 8271\n",
      "Number of links: 61134.0\n",
      "Average links: 7.39136742836\n"
     ]
    },
    {
     "data": {
      "image/png": "[encoded data removed]",
      "text/plain": [
       "<matplotlib.figure.Figure at 0x7f5cee4b6f10>"
      ]
     },
     "metadata": {},
     "output_type": "display_data"
    }
   ],
   "source": [
    "print 'NLTK Synonyms Local'\n",
    "exploreData('Data/synNet/synNet.txt','inline')\n",
    "generateHistogram('Data/synNet/synNet.txt')\n"
   ]
  },
  {
   "cell_type": "code",
   "execution_count": 48,
   "metadata": {
    "collapsed": false
   },
   "outputs": [
    {
     "name": "stdout",
     "output_type": "stream",
     "text": [
      "NLTK Synonyms Hadoop\n",
      "Number of nodes: 8271\n",
      "Number of links: 61134.0\n",
      "Average links: 7.39136742836\n"
     ]
    },
    {
     "data": {
      "image/png": "[encoded data removed]",
      "text/plain": [
       "<matplotlib.figure.Figure at 0x7f5ce91c7c10>"
      ]
     },
     "metadata": {},
     "output_type": "display_data"
    }
   ],
   "source": [
    "print 'NLTK Synonyms Hadoop'\n",
    "exploreData('Data/synNet/synNet.txt','hadoop')\n",
    "generateHistogram('Data/synNet/synNet.txt')"
   ]
  },
  {
   "cell_type": "markdown",
   "metadata": {},
   "source": [
    "<h1 style=\"color:#021353;\">HW 7.2: Shortest path graph distances (NLTK synonyms)</h1>\n",
    "<div style=\"margin:10px;border-left:5px solid #eee;\">\n",
    "<pre style=\"font-family:sans-serif;background-color:transparent\">\n",
    "Write (reuse your code from 7.0) an MRJob class to find shortest path graph distances, \n",
    "and apply it to the NLTK synonyms network dataset. \n",
    "\n",
    "Proof your code's function by running the job:\n",
    "\n",
    "- shortest path starting at \"walk\" (index=7827) and ending at \"make\" (index=536),\n",
    "\n",
    "and showing you code's output. Once again, your output should include the path and the distance.\n",
    "\n",
    "As you develop your code, please be sure to run it locally first (though on the whole dataset). \n",
    "Once you have gotten you code to run locally, deploy it on AWS as a systems test\n",
    "in preparation for our next dataset (which will require AWS).\n",
    "\n",
    "=====================================\n",
    "<strong>NOTE: Dataset 2 English Wikipedia hyperlink network.data </strong>\n",
    "The dataset is available via Dropbox at:\n",
    "\n",
    "https://www.dropbox.com/sh/2c0k5adwz36lkcw/AAAAKsjQfF9uHfv-X9mCqr9wa?dl=0\n",
    "\n",
    "on S3 at \n",
    "<a href=\"s3://ucb-mids-mls-networks/wikipedia/\">s3://ucb-mids-mls-networks/wikipedia/</a>\n",
    "<a href=\"s3://ucb-mids-mls-networks/wikipedia/all-pages-indexed-out.txt\">s3://ucb-mids-mls-networks/wikipedia/all-pages-indexed-out.txt</a> # Graph\n",
    "<a href=\"s3://ucb-mids-mls-networks/wikipedia/indices.txt\">s3://ucb-mids-mls-networks/wikipedia/indices.txt</a> # Page titles and page Ids\n",
    "\n",
    "For the remainder of this assignment you will explore the English Wikipedia hyperlink network.\n",
    "\n",
    "The dataset is built from the Sept. 2015 XML snapshot of English Wikipedia.\n",
    "For this directed network, a link between articles: \n",
    "\n",
    "A -> B\n",
    "\n",
    "is defined by the existence of a hyperlink in A pointing to B.\n",
    "This network also exists in the indexed format:\n",
    "\n",
    "Data: <a href=\"s3://ucb-mids-mls-networks/wikipedia/all-pages-indexed-out.txt\">s3://ucb-mids-mls-networks/wikipedia/all-pages-indexed-out.txt</a>\n",
    "Data: <a href=\"s3://ucb-mids-mls-networks/wikipedia/all-pages-indexed-in.txt\">s3://ucb-mids-mls-networks/wikipedia/all-pages-indexed-in.txt</a>\n",
    "Data: <a href=\"s3://ucb-mids-mls-networks/wikipedia/indices.txt\">s3://ucb-mids-mls-networks/wikipedia/indices.txt</a>\n",
    "\n",
    "but has an index with more detailed data:\n",
    "\n",
    "(article name) \\t (index) \\t (in degree) \\t (out degree)\n",
    "\n",
    "In the dictionary, target nodes are keys, link weights are values .\n",
    "Here, a weight indicates the number of time a page links to another.\n",
    "However, for the sake of this assignment, treat this an unweighted network,\n",
    "and set all weights to 1 upon data input.\n",
    "\n",
    "</pre>\n",
    "</div>"
   ]
  },
  {
   "cell_type": "code",
   "execution_count": 20,
   "metadata": {
    "collapsed": false
   },
   "outputs": [
    {
     "name": "stdout",
     "output_type": "stream",
     "text": [
      "NLTK Synonyms Shortest Path Local\n"
     ]
    },
    {
     "data": {
      "text/plain": [
       "['walk', 'passes', 'reach', 'make']"
      ]
     },
     "execution_count": 20,
     "metadata": {},
     "output_type": "execute_result"
    }
   ],
   "source": [
    "print \"NLTK Synonyms Shortest Path Local\"\n",
    "findShortestPath('Data/synNet/synNet.txt Data/synNet/indices.txt', 'walk', 'make','local')"
   ]
  },
  {
   "cell_type": "code",
   "execution_count": 21,
   "metadata": {
    "collapsed": false
   },
   "outputs": [
    {
     "name": "stdout",
     "output_type": "stream",
     "text": [
      "NLTK Synonyms Shortest Path Hadoop\n"
     ]
    },
    {
     "data": {
      "text/plain": [
       "['walk', 'passes', 'reach', 'make']"
      ]
     },
     "execution_count": 21,
     "metadata": {},
     "output_type": "execute_result"
    }
   ],
   "source": [
    "print \"NLTK Synonyms Shortest Path Hadoop\"\n",
    "findShortestPath('Data/synNet/synNet.txt Data/synNet/indices.txt', 'walk', 'make','hadoop')"
   ]
  },
  {
   "cell_type": "markdown",
   "metadata": {},
   "source": [
    "<h1 style=\"color:#021353;\">HW 7.3: Exploratory data analysis (Wikipedia)</h1>\n",
    "<div style=\"margin:10px;border-left:5px solid #eee;\">\n",
    "<pre style=\"font-family:sans-serif;background-color:transparent\">\n",
    "Using MRJob, explore the Wikipedia network data on the AWS cloud. Reuse your code from HW 7.1---does is scale well? \n",
    "\n",
    "Be cautioned that Wikipedia is a directed network, where links are not symmetric. \n",
    "So, even though a node may be linked to, it will not appear as a primary record itself if it has no out-links. \n",
    "\n",
    "This means that you may have to ADJUST your code (depending on its design). \n",
    "\n",
    "To be sure of your code's functionality in this context, run a systems test on the directed_toy.txt network.\n",
    "</pre>\n",
    "</div>"
   ]
  },
  {
   "cell_type": "code",
   "execution_count": 29,
   "metadata": {
    "collapsed": false
   },
   "outputs": [
    {
     "name": "stdout",
     "output_type": "stream",
     "text": [
      "Wikipedia Out Data\n",
      "Number of nodes: 15192277\n",
      "Number of links: 142114057.0\n",
      "Average links: 9.35436189058\n"
     ]
    },
    {
     "data": {
      "image/png": "[encoded data removed]",
      "text/plain": [
       "<matplotlib.figure.Figure at 0x7f5ce9189550>"
      ]
     },
     "metadata": {},
     "output_type": "display_data"
    }
   ],
   "source": [
    "print 'Wikipedia Out Data'\n",
    "exploreData('Data/wikipedia/all-pages-indexed-out.txt','hadoop')\n",
    "generateHistogram('Data/wikipedia/all-pages-indexed-out.txt')\n"
   ]
  },
  {
   "cell_type": "markdown",
   "metadata": {},
   "source": [
    "<h1 style=\"color:#021353;\">HW 7.4: Shortest path graph distances (Wikipedia)</h1>\n",
    "<div style=\"margin:10px;border-left:5px solid #eee;\">\n",
    "<pre style=\"font-family:sans-serif;background-color:transparent\">\n",
    "Using MRJob, find shortest path graph distances in the Wikipedia network on the AWS cloud.\n",
    "Reuse your code from 7.2, but once again be warned of Wikipedia being a directed network.\n",
    "To be sure of your code's functionality in this context, run a systems test on the directed_toy.txt network.\n",
    "\n",
    "When running your code on the Wikipedia network, proof its function by running the job:\n",
    "\n",
    "- shortest path from \"Ireland\" (index=6176135) to \"University of California, Berkeley\" (index=13466359),\n",
    "\n",
    "and show your code's output. Show the shortest path in terms of just page IDS but also in terms of the name of page (show of your MapReduce join skills!!)\n",
    "\n",
    "Once your code is running, find some other shortest paths and report your results.\n",
    "</pre>\n",
    "</div>"
   ]
  },
  {
   "cell_type": "code",
   "execution_count": 30,
   "metadata": {
    "collapsed": false
   },
   "outputs": [
    {
     "name": "stdout",
     "output_type": "stream",
     "text": [
      "Wikiedpia Shortest Path Between Ireland and University of California, Berkeley\n",
      "['Ireland', 'Seamus Heaney', 'University of California, Berkeley']\n"
     ]
    }
   ],
   "source": [
    "print \"Wikiedpia Shortest Path Between Ireland and University of California, Berkeley\"\n",
    "path = findShortestPath('Data/wikipedia/all-pages-indexed-out.txt Data/wikipedia/indices.txt'\n",
    "                        ,'Ireland', 'University of California, Berkeley','hadoop')\n",
    "print path"
   ]
  },
  {
   "cell_type": "code",
   "execution_count": 5,
   "metadata": {
    "collapsed": false
   },
   "outputs": [
    {
     "name": "stdout",
     "output_type": "stream",
     "text": [
      "Wikiedpia Shortest Path Between Nelson_le_Follet and Mairy\n"
     ]
    },
    {
     "ename": "Exception",
     "evalue": "No path",
     "output_type": "error",
     "traceback": [
      "\u001b[1;31m---------------------------------------------------------------------------\u001b[0m",
      "\u001b[1;31mException\u001b[0m                                 Traceback (most recent call last)",
      "\u001b[1;32m<ipython-input-5-521a63196523>\u001b[0m in \u001b[0;36m<module>\u001b[1;34m()\u001b[0m\n\u001b[0;32m      1\u001b[0m \u001b[1;32mprint\u001b[0m \u001b[1;34m\"Wikiedpia Shortest Path Between Nelson_le_Follet and Mairy\"\u001b[0m\u001b[1;33m\u001b[0m\u001b[0m\n\u001b[0;32m      2\u001b[0m path = findShortestPath('Data/wikipedia/all-pages-indexed-out.txt Data/wikipedia/indices.txt',\n\u001b[1;32m----> 3\u001b[1;33m                         'Nelson_le_Follet', 'Mairy','hadoop')\n\u001b[0m\u001b[0;32m      4\u001b[0m \u001b[1;32mprint\u001b[0m \u001b[0mpath\u001b[0m\u001b[1;33m\u001b[0m\u001b[0m\n",
      "\u001b[1;32m<ipython-input-4-8addc3509881>\u001b[0m in \u001b[0;36mfindShortestPath\u001b[1;34m(filenames, startNode, endNode, runnerType)\u001b[0m\n\u001b[0;32m     33\u001b[0m             \u001b[0mpath\u001b[0m \u001b[1;33m=\u001b[0m\u001b[0mcounters\u001b[0m\u001b[1;33m[\u001b[0m\u001b[1;33m-\u001b[0m\u001b[1;36m1\u001b[0m\u001b[1;33m]\u001b[0m\u001b[1;33m.\u001b[0m\u001b[0mreplace\u001b[0m\u001b[1;33m(\u001b[0m\u001b[1;34m\";\"\u001b[0m\u001b[1;33m,\u001b[0m\u001b[1;34m\",\"\u001b[0m\u001b[1;33m)\u001b[0m\u001b[1;33m\u001b[0m\u001b[0m\n\u001b[0;32m     34\u001b[0m             \u001b[1;32mif\u001b[0m \u001b[0mpath\u001b[0m \u001b[1;33m==\u001b[0m \u001b[1;34m\"NA\"\u001b[0m\u001b[1;33m:\u001b[0m\u001b[1;33m\u001b[0m\u001b[0m\n\u001b[1;32m---> 35\u001b[1;33m                 \u001b[1;32mraise\u001b[0m \u001b[0mException\u001b[0m\u001b[1;33m(\u001b[0m\u001b[1;34m\"No path\"\u001b[0m\u001b[1;33m)\u001b[0m\u001b[1;33m\u001b[0m\u001b[0m\n\u001b[0m\u001b[0;32m     36\u001b[0m             \u001b[0mpath\u001b[0m \u001b[1;33m=\u001b[0m \u001b[0mmap\u001b[0m\u001b[1;33m(\u001b[0m\u001b[0mstr\u001b[0m\u001b[1;33m,\u001b[0m\u001b[0meval\u001b[0m\u001b[1;33m(\u001b[0m\u001b[0mpath\u001b[0m\u001b[1;33m)\u001b[0m\u001b[1;33m)\u001b[0m\u001b[1;33m\u001b[0m\u001b[0m\n\u001b[0;32m     37\u001b[0m             \u001b[1;31m# Append endNode to the path.  The MRJob path alone only shows nodes leading up to end node\u001b[0m\u001b[1;33m\u001b[0m\u001b[1;33m\u001b[0m\u001b[0m\n",
      "\u001b[1;31mException\u001b[0m: No path"
     ]
    }
   ],
   "source": [
    "print \"Wikiedpia Shortest Path Between Nelson_le_Follet and Mairy\"\n",
    "path = findShortestPath('Data/wikipedia/all-pages-indexed-out.txt Data/wikipedia/indices.txt',\n",
    "                        'Nelson_le_Follet', 'Mairy','hadoop')\n",
    "print path"
   ]
  },
  {
   "cell_type": "markdown",
   "metadata": {},
   "source": [
    "<h1 style=\"color:#021353;\">HW 7.5: Conceptual exercise: Largest single-source network distances</h1>\n",
    "<div style=\"margin:10px;border-left:5px solid #eee;\">\n",
    "<pre style=\"font-family:sans-serif;background-color:transparent\">\n",
    "Suppose you wanted to find the largest network distance from a single source,\n",
    "i.e., a node that is the furthest (but still reachable) from a single source.\n",
    "\n",
    "How would you implement this task? \n",
    "How is this different from finding the shortest path graph distances?\n",
    "\n",
    "Is this task more difficult to implement than the shortest path distance?\n",
    "\n",
    "As you respond, please comment on program structure, runtimes, iterations, general system requirements, etc...\n",
    "</pre>\n",
    "</div>"
   ]
  },
  {
   "cell_type": "markdown",
   "metadata": {},
   "source": [
    "At the moment, I think I would implement this task by checking each permutation of the N -2 non-start or end nodes in the network. For each permutation, I'd check if that path is possibe from the start node to the end node.  If while transversing a permutation, I find that the next node is not reachable from the current node, just drop the next node from the permutation and try to move to the node after that. Once all permutations have been checked, return the one with the longest length that reaches the end node.  If all N-2 nodes on a permutation are reachable in order, then terminate early and return that permutation (you can't have a longer path than N).\n",
    "\n",
    "The main difference between the task of finding the longest path and finding the shortest path is that the task of finding the shortest path needs to only visit each node once, giving it a worst case run time of O(N+E).  In contrast, the task of finding the longest path must revisit nodes.\n",
    "\n",
    "The task of finding the longest path would be significantly more difficult than the task of finding the shortest path.  It has O(N(N-2)!) complexity, far greater than the O(N+E) complexity for the task of finding the shortest path.  While the meat of this task can be accomplished in parallel with (N-2)! machines (each machine would transverse one of the (N-2)! permutations), you still would inenvitably need to find the maximum length of each of the found paths, and that comparison alone would take O((N-2)!) time.  "
   ]
  },
  {
   "cell_type": "markdown",
   "metadata": {},
   "source": [
    "<h1 style=\"color:#021353;\">HW 7.5.1: </h1>\n",
    "<div style=\"margin:10px;border-left:5px solid #eee;\">\n",
    "<pre style=\"font-family:sans-serif;background-color:transparent\">\n",
    "Can we utilize combiners in the HW 7 to perform the shortest path implementation?\n",
    "Does order inversion help with the HW 7 shortest path implementation?\n",
    "</pre>\n",
    "</div>"
   ]
  },
  {
   "cell_type": "markdown",
   "metadata": {},
   "source": [
    "Combiners can help in the shortest path implementation.  In theory, you could benefit from a combiner in instances where a queued node is on the same mapper as one of its neighbors.  The combiner would combine the two yields from the mapper and send just one in queued node with complete information to the reducer.  However, the reducer would need to be modified to handle queued nodes from the mapper that may have complete or incomplete information.\n",
    "\n",
    "While order inversion may speed up some parts of the task, it is not technically neccesary for my shortest path implementation, at least not in my implementation.  Each of my reducer functions will yield only one record per input key, so one could you collect all the values first and then process and yield in a reducer_final.  However, order inversion in my implementation saves some time by making the reducers run the termination checks before processing the node information from the mappers.  If a termination condition is met, then all the work by the reducer is going to be discarded anyway, so it's better to perform the termination check upfront rather than let the reducer process node information first."
   ]
  },
  {
   "cell_type": "markdown",
   "metadata": {},
   "source": [
    "<h1 style=\"color:#021353;\">HW 7.5.2: OPTIONAL </h1>\n",
    "<div style=\"margin:10px;border-left:5px solid #eee;\">\n",
    "<pre style=\"font-family:sans-serif;background-color:transparent\">\n",
    "Implement combiners in the context of HW 7.5 and contrast the performance of this implementation versus the implementation with no combiners. \n",
    "\n",
    "Please report the cluster configuration and runtimes in tabular format for both experiments and comment on your findings.\n",
    "</pre>\n",
    "</div>"
   ]
  },
  {
   "cell_type": "markdown",
   "metadata": {},
   "source": [
    "<h1 style=\"color:#021353;\">HW 7.6: Computational exercise: Largest single-source network distances: OPTIONAL </h1>\n",
    "<div style=\"margin:10px;border-left:5px solid #eee;\">\n",
    "<pre style=\"font-family:sans-serif;background-color:transparent\">\n",
    "Using MRJob, write a code to find the largest graph distance and distance-maximizing nodes from a single-source.\n",
    "Test your code first on the toy networks and synonyms network to proof its function.\n",
    "</pre>\n",
    "</div>"
   ]
  },
  {
   "cell_type": "markdown",
   "metadata": {
    "collapsed": true
   },
   "source": [
    "==================END HW 7=================="
   ]
  },
  {
   "cell_type": "code",
   "execution_count": null,
   "metadata": {
    "collapsed": true
   },
   "outputs": [],
   "source": []
  }
 ],
 "metadata": {
  "kernelspec": {
   "display_name": "Python 2",
   "language": "python",
   "name": "python2"
  },
  "language_info": {
   "codemirror_mode": {
    "name": "ipython",
    "version": 2
   },
   "file_extension": ".py",
   "mimetype": "text/x-python",
   "name": "python",
   "nbconvert_exporter": "python",
   "pygments_lexer": "ipython2",
   "version": "2.7.11"
  }
 },
 "nbformat": 4,
 "nbformat_minor": 0
}
