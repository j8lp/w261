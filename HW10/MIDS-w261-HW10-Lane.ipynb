{
 "cells": [
  {
   "cell_type": "code",
   "execution_count": 123,
   "metadata": {
    "collapsed": false
   },
   "outputs": [
    {
     "data": {
      "application/javascript": [
       "/**********************************************************************************************\n",
       "Known Mathjax Issue with Chrome - a rounding issue adds a border to the right of mathjax markup\n",
       "https://github.com/mathjax/MathJax/issues/1300\n",
       "A quick hack to fix this based on stackoverflow discussions: \n",
       "http://stackoverflow.com/questions/34277967/chrome-rendering-mathjax-equations-with-a-trailing-vertical-line\n",
       "**********************************************************************************************/\n",
       "\n",
       "$('.math>span').css(\"border-left-color\",\"transparent\")"
      ],
      "text/plain": [
       "<IPython.core.display.Javascript object>"
      ]
     },
     "metadata": {},
     "output_type": "display_data"
    }
   ],
   "source": [
    "%%javascript\n",
    "/**********************************************************************************************\n",
    "Known Mathjax Issue with Chrome - a rounding issue adds a border to the right of mathjax markup\n",
    "https://github.com/mathjax/MathJax/issues/1300\n",
    "A quick hack to fix this based on stackoverflow discussions: \n",
    "http://stackoverflow.com/questions/34277967/chrome-rendering-mathjax-equations-with-a-trailing-vertical-line\n",
    "**********************************************************************************************/\n",
    "\n",
    "$('.math>span').css(\"border-left-color\",\"transparent\")"
   ]
  },
  {
   "cell_type": "code",
   "execution_count": 124,
   "metadata": {
    "collapsed": true
   },
   "outputs": [],
   "source": [
    "%reload_ext autoreload\n",
    "%autoreload 2"
   ]
  },
  {
   "cell_type": "markdown",
   "metadata": {},
   "source": [
    "# MIDS - w261 Machine Learning At Scale\n",
    "__Course Lead:__ Dr James G. Shanahan (__email__ Jimi via  James.Shanahan _AT_ gmail.com)\n",
    "\n",
    "## Assignment - HW10\n",
    "\n",
    "\n",
    "---\n",
    "__Name:__  Jackson Lane\n",
    "__Class:__ MIDS w261 (Section Summer 2016 Group 33)     \n",
    "__Email:__  jelane@iSchool.Berkeley.edu     \n",
    "__Week:__   10"
   ]
  },
  {
   "cell_type": "markdown",
   "metadata": {},
   "source": [
    "# Table of Contents <a name=\"TOC\"></a> \n",
    "\n",
    "1.  [HW Introduction](#1)   \n",
    "2.  [HW References](#2)\n",
    "3.  [HW Problems](#3)   \n",
    "    10.0.  [Short Answer Questions](#HW10.0)    \n",
    "    10.1.  [Word Count plus sorting](#HW10.1)   \n",
    "    10.2.  [MLlib-centric Kmeans](#HW10.2)    \n",
    "    10.3.  [Homegrown KMeans in Spark](#HW10.3)    \n",
    "    10.4.  [Making Homegrown KMeans more efficient](#HW10.4)  \n",
    "    10.5.  [OPTIONAL Weighted KMeans](#HW10.5)  \n",
    "    10.6.  [OPTIONAL Linear Regression](#HW10.6)  \n",
    "    10.7.  [OPTIONAL Error surfaces](#HW10.7)\n"
   ]
  },
  {
   "cell_type": "markdown",
   "metadata": {},
   "source": [
    "\n",
    "<a name=\"1\">\n",
    "# 1 Instructions\n",
    "[Back to Table of Contents](#TOC)\n",
    "* Homework submissions are due by Tueday, 07/28/2016 at 11AM (West Coast Time).\n",
    "\n",
    "\n",
    "* Prepare a single Jupyter note, please include questions, and question numbers in the questions and in the responses.\n",
    "Submit your homework notebook via the following form:\n",
    "\n",
    "   + [Submission Link - Google Form](\n",
    "https://docs.google.com/forms/d/1ZOr9RnIe_A06AcZDB6K1mJN4vrLeSmS2PD6Xm3eOiis/viewform?usp=send_form \n",
    ")\n",
    "\n",
    "\n",
    "### Documents:\n",
    "* IPython Notebook, published and viewable online.\n",
    "* PDF export of IPython Notebook.\n",
    "    \n",
    "<a name=\"2\">\n",
    "# 2 Useful References\n",
    "[Back to Table of Contents](#TOC)\n",
    "\n",
    "* Karau, Holden, Konwinski, Andy, Wendell, Patrick, & Zaharia, Matei. (2015). Learning Spark: Lightning-fast big data analysis. Sebastopol, CA: O’Reilly Publishers.\n",
    "* Hastie, Trevor, Tibshirani, Robert, & Friedman, Jerome. (2009). The elements of statistical learning: Data mining, inference, and prediction (2nd ed.). Stanford, CA: Springer Science+Business Media. (Download for free [here](http://statweb.stanford.edu/~tibs/ElemStatLearn/printings/ESLII_print10.pdf))"
   ]
  },
  {
   "cell_type": "markdown",
   "metadata": {},
   "source": [
    "<a name=\"3\">\n",
    "# 3 HW Problems\n",
    "[Back to Table of Contents](#TOC)"
   ]
  },
  {
   "cell_type": "markdown",
   "metadata": {},
   "source": [
    "### Set up Spark Env"
   ]
  },
  {
   "cell_type": "code",
   "execution_count": 125,
   "metadata": {
    "collapsed": false
   },
   "outputs": [],
   "source": [
    "import os\n",
    "import sys \n",
    "from pyspark import SparkContext, SparkConf,SparkFiles\n",
    "\n",
    "spark_home = os.environ['SPARK_HOME']\n",
    "if not spark_home:\n",
    "    raise ValueError('SPARK_HOME enviroment variable is not set')\n",
    "sys.path.insert(0,os.path.join(spark_home,'python'))\n",
    "sys.path.insert(0,os.path.join(spark_home,'python/lib/py4j-0.9-src.zip'))\n",
    "try:\n",
    "    sc.stop()\n",
    "except:\n",
    "    pass\n",
    "conf = SparkConf().setAppName(\"my app\").setMaster(\"spark://master:7077\")\n",
    "sc = SparkContext(conf=conf)"
   ]
  },
  {
   "cell_type": "markdown",
   "metadata": {},
   "source": [
    "<a name=\"HW10.0\"></a><h2 style=\"color:darkblue\"> HW10.0: Short answer questions </h2>\n",
    "[Back to Table of Contents](#TOC)\n",
    "\n",
    "\n",
    "__What is Apache Spark and how is it different to Apache Hadoop? __\n",
    "\n",
    "Apache Spark™ is a fast and general engine for large-scale data processing.\n",
    "\n",
    "It's different from Hadoop in two ways.  First, Hadoop is a whole ecosystem of software, including HDFS, MapReduce, Hive, and Pig.  Spark on the other hand is just a processing engine like MapReduce.  For other functionalities, like file management, Spark needs to rely on other programs or protocols, such as HDFS or NAS.  \n",
    "\n",
    "Second, Spark does not attempt to distirbute incoming data across nodes like Hadoop does.  Instead, Spark performs most computations within memory and disk on eahc worker and assumes that all the erelvant data will arleayd be accessible to that worker.  So this means that if you want to process a text file on Spark Cluster, you'll need to put that textfile either on a shared network drive or on HDFS prior to running the job.  Hadoop MapReduce on the other hand dsitributes incoming data to all of its worker nodes prior to computation.  Overall, this means that Spark is faster than Hadoop MapReduce, since Spark does not spend time on resource distribution, but Hadoop MapReduce is more flexible. \n",
    "\n",
    "__Fill in the blanks:\n",
    "Spark API consists of interfaces to develop applications based on it in Java, ___ Python, Scala __ languages (list languages). __\n",
    "\n",
    "<hr>\n",
    "\n",
    "__Using Spark, resource management can be done either in a single server instance or using a framework such as Mesos, Hadoop, or Yarn in a distributed manner. __\n",
    "\n",
    "<hr>\n",
    "\n",
    "__What is an RDD and show a fun example of creating one and bringing the first element back to the driver program. __\n",
    "\n",
    "<hr>\n",
    "A Resilient Distributed Dataset is what Spark performs most of its operations on.  It's a data source that is either distributed amongst or accessible from the worker nodes."
   ]
  },
  {
   "cell_type": "code",
   "execution_count": 140,
   "metadata": {
    "collapsed": false
   },
   "outputs": [
    {
     "data": {
      "text/plain": [
       "[1, 2, 3, 4, 5, 6, 7]"
      ]
     },
     "execution_count": 140,
     "metadata": {},
     "output_type": "execute_result"
    }
   ],
   "source": [
    "RDD = sc.parallelize([3,2,6,6,3,1,7,4,2,1,5])\n",
    "RDD.distinct().collect()"
   ]
  },
  {
   "cell_type": "markdown",
   "metadata": {},
   "source": [
    "<a name=\"HW10.1\"> <h2 style=\"color:darkgreen\">HW10.1 WordCount plus sorting </h2>\n",
    "[Back to Table of Contents](#TOC)\n",
    "\n",
    "The following notebooks will be useful to jumpstart this collection of Homework exercises:\n",
    "\n",
    "\n",
    "* [Example Notebook with Debugging tactics in Spark](http://nbviewer.jupyter.org/urls/dl.dropbox.com/s/jqjllp8kmf1eolk/WordCountDebugging-Example.ipynb)\n",
    "* [Word Count Quiz](http://nbviewer.jupyter.org/urls/dl.dropbox.com/s/vgmpivsi4rvqz0s/WordCountQuiz.ipynb)\n",
    "* [Work Count Solution](http://nbviewer.jupyter.org/urls/dl.dropbox.com/s/dxv3dmp1vluuo8i/WordCountQuiz-Solution.ipynb)\n",
    "\n",
    "---\n",
    "In Spark write the code to count how often each word appears in a text document (or set of documents). Please use this homework document (with no solutions in it) as a the example document to run an experiment.  Report the following: \n",
    "* provide a sorted list of tokens in decreasing order of frequency of occurence limited to [top 20 most frequent only] and [bottom 10 least frequent]. \n",
    "\n",
    "\n",
    "__OPTIONAL__ \n",
    "Feel free to do a secondary sort where words with the same frequncy are sorted alphanumerically increasing. Plseas refer to the [following notebook](http://nbviewer.jupyter.org/urls/dl.dropbox.com/s/uu5afr3ufpm9fy8/SecondarySort.ipynb)\n",
    " for examples of secondary sorts in Spark. Please provide the following [top 20 most frequent terms only] and [bottom 10 least frequent terms]\n",
    "\n",
    "__NOTE__ [Please incorporate all referenced notebooks directly into this master notebook as cells for HW submission. I.e., HW submissions should comprise of just one notebook]__"
   ]
  },
  {
   "cell_type": "code",
   "execution_count": 126,
   "metadata": {
    "collapsed": true
   },
   "outputs": [],
   "source": [
    "import re, sys\n",
    "def lineWordCount(line):\n",
    "    wordCounts = {}\n",
    "    for w in re.findall(r\"[\\w]+\",line):\n",
    "        wordCounts[w]=wordCounts.get(w,0) + 1   \n",
    "    return (wordCounts.items())  \n",
    "\n"
   ]
  },
  {
   "cell_type": "code",
   "execution_count": 127,
   "metadata": {
    "collapsed": false
   },
   "outputs": [],
   "source": [
    "def wordCount(url):\n",
    "    !wget $url -O tmp\n",
    "    lines = sc.textFile('tmp').cache()\n",
    "    result= lines.flatMap(lineWordCount).reduceByKey(lambda a,b: a+b).takeOrdered(20, key=lambda x: x[1]*-1)\n",
    "    !rm -f tmp\n",
    "    return result\n"
   ]
  },
  {
   "cell_type": "code",
   "execution_count": 128,
   "metadata": {
    "collapsed": false
   },
   "outputs": [
    {
     "name": "stdout",
     "output_type": "stream",
     "text": [
      "--2016-07-30 17:19:44--  https://dl.dropbox.com/s/zhsr8w7wmb8mcnc/MIDS-w261-HW10-Template-2016-07-22.ipynb\n",
      "Resolving dl.dropbox.com (dl.dropbox.com)... 45.58.69.5\n",
      "Connecting to dl.dropbox.com (dl.dropbox.com)|45.58.69.5|:443... connected.\n",
      "HTTP request sent, awaiting response... 302 FOUND\n",
      "Location: https://dl.dropboxusercontent.com/s/zhsr8w7wmb8mcnc/MIDS-w261-HW10-Template-2016-07-22.ipynb [following]\n",
      "--2016-07-30 17:19:45--  https://dl.dropboxusercontent.com/s/zhsr8w7wmb8mcnc/MIDS-w261-HW10-Template-2016-07-22.ipynb\n",
      "Resolving dl.dropboxusercontent.com (dl.dropboxusercontent.com)... 45.58.69.5\n",
      "Connecting to dl.dropboxusercontent.com (dl.dropboxusercontent.com)|45.58.69.5|:443... connected.\n",
      "HTTP request sent, awaiting response... 200 OK\n",
      "Length: 21760 (21K) [text/plain]\n",
      "Saving to: ‘tmp’\n",
      "\n",
      "100%[======================================>] 21,760      --.-K/s   in 0s      \n",
      "\n",
      "2016-07-30 17:19:45 (150 MB/s) - ‘tmp’ saved [21760/21760]\n",
      "\n"
     ]
    },
    {
     "data": {
      "text/plain": [
       "[(u'n', 216),\n",
       " (u'the', 72),\n",
       " (u'of', 50),\n",
       " (u'metadata', 49),\n",
       " (u'cell_type', 47),\n",
       " (u'source', 47),\n",
       " (u'a', 46),\n",
       " (u'code', 42),\n",
       " (u'HW10', 40),\n",
       " (u'and', 39),\n",
       " (u'to', 35),\n",
       " (u'in', 32),\n",
       " (u'collapsed', 30),\n",
       " (u'outputs', 30),\n",
       " (u'execution_count', 30),\n",
       " (u'true', 29),\n",
       " (u'h2', 26),\n",
       " (u'1', 22),\n",
       " (u'com', 19),\n",
       " (u'name', 19)]"
      ]
     },
     "execution_count": 128,
     "metadata": {},
     "output_type": "execute_result"
    }
   ],
   "source": [
    "wordCount(\"https://dl.dropbox.com/s/zhsr8w7wmb8mcnc/MIDS-w261-HW10-Template-2016-07-22.ipynb\")\n"
   ]
  },
  {
   "cell_type": "markdown",
   "metadata": {},
   "source": [
    "<a name=\"HW10.1.1\"><h2 style=\"color:darkgreen\">HW10.1.1 </h2>\n",
    "[Back to Table of Contents](#TOC)\n",
    "\n",
    "Modify the above word count code to count words that begin with lower case letters (a-z) and report your findings. Again sort the output words in decreasing order of frequency.\n"
   ]
  },
  {
   "cell_type": "code",
   "execution_count": 84,
   "metadata": {
    "collapsed": true
   },
   "outputs": [],
   "source": [
    "#The only change we need to make is in the re.findall line.  \n",
    "#Instead of looking for just words, we need to find words that begin with a lower case letter\n",
    "#Since there is no quick shorthand for this in regex, we need to manually specify it\n",
    "\n",
    "import re\n",
    "def lineWordCount(line):\n",
    "    wordCounts = {}\n",
    "    for w in re.findall(r\"\\b[a-z][a-zA-Z0-9]*\\b\",line):\n",
    "        if wordCounts.has_key(w):\n",
    "            wordCounts[w]=wordCounts[w]+1\n",
    "        else:\n",
    "            wordCounts[w]=1\n",
    "    for key, value in  wordCounts.items():\n",
    "        print key,\":\", value      \n",
    "    return (wordCounts.items())  \n",
    "\n"
   ]
  },
  {
   "cell_type": "code",
   "execution_count": 85,
   "metadata": {
    "collapsed": true
   },
   "outputs": [],
   "source": [
    "## Drivers & Runners\n",
    "def wordCount(url):\n",
    "    !wget $url -O tmp\n",
    "    lines = sc.textFile('tmp').cache()\n",
    "    result= lines.flatMap(lineWordCount).reduceByKey(lambda a,b: a+b).takeOrdered(20, key=lambda x: x[1]*-1)\n",
    "    !rm -f tmp\n",
    "    return result\n"
   ]
  },
  {
   "cell_type": "code",
   "execution_count": 86,
   "metadata": {
    "collapsed": false
   },
   "outputs": [
    {
     "name": "stdout",
     "output_type": "stream",
     "text": [
      "--2016-07-28 00:34:14--  https://dl.dropbox.com/s/zhsr8w7wmb8mcnc/MIDS-w261-HW10-Template-2016-07-22.ipynb\n",
      "Resolving dl.dropbox.com (dl.dropbox.com)... 108.160.172.5\n",
      "Connecting to dl.dropbox.com (dl.dropbox.com)|108.160.172.5|:443... connected.\n",
      "HTTP request sent, awaiting response... 302 FOUND\n",
      "Location: https://dl.dropboxusercontent.com/s/zhsr8w7wmb8mcnc/MIDS-w261-HW10-Template-2016-07-22.ipynb [following]\n",
      "--2016-07-28 00:34:14--  https://dl.dropboxusercontent.com/s/zhsr8w7wmb8mcnc/MIDS-w261-HW10-Template-2016-07-22.ipynb\n",
      "Resolving dl.dropboxusercontent.com (dl.dropboxusercontent.com)... 45.58.69.101\n",
      "Connecting to dl.dropboxusercontent.com (dl.dropboxusercontent.com)|45.58.69.101|:443... connected.\n",
      "HTTP request sent, awaiting response... 200 OK\n",
      "Length: 21760 (21K) [text/plain]\n",
      "Saving to: ‘tmp’\n",
      "\n",
      "100%[======================================>] 21,760      --.-K/s   in 0s      \n",
      "\n",
      "2016-07-28 00:34:15 (214 MB/s) - ‘tmp’ saved [21760/21760]\n",
      "\n"
     ]
    },
    {
     "data": {
      "text/plain": [
       "[(u'n', 216),\n",
       " (u'the', 72),\n",
       " (u'of', 50),\n",
       " (u'metadata', 49),\n",
       " (u'source', 47),\n",
       " (u'a', 46),\n",
       " (u'code', 42),\n",
       " (u'and', 39),\n",
       " (u'to', 35),\n",
       " (u'in', 32),\n",
       " (u'collapsed', 30),\n",
       " (u'outputs', 30),\n",
       " (u'true', 29),\n",
       " (u'h2', 26),\n",
       " (u'com', 19),\n",
       " (u'name', 19),\n",
       " (u'with', 18),\n",
       " (u'this', 18),\n",
       " (u'markdown', 17),\n",
       " (u'color', 15)]"
      ]
     },
     "execution_count": 86,
     "metadata": {},
     "output_type": "execute_result"
    }
   ],
   "source": [
    "wordCount(\"https://dl.dropbox.com/s/zhsr8w7wmb8mcnc/MIDS-w261-HW10-Template-2016-07-22.ipynb\")\n"
   ]
  },
  {
   "cell_type": "markdown",
   "metadata": {},
   "source": [
    "<a name=\"HW10.2\"> <h2 style=\"color:darkblue\"> HW10.2: MLlib-centric KMeans</h2>\n",
    "[Back to Table of Contents](#TOC)\n",
    "\n",
    "Using the following  MLlib-centric KMeans code snippet: \n",
    "\n",
    "<pre>\n",
    "from pyspark.mllib.clustering import KMeans, KMeansModel\n",
    "from numpy import array\n",
    "from math import sqrt\n",
    "\n",
    "\n",
    "# Load and parse the data\n",
    "# NOTE  kmeans_data.txt is available here \n",
    "#          https://www.dropbox.com/s/q85t0ytb9apggnh/kmeans_data.txt?dl=0 \n",
    "data = sc.textFile(\"kmeans_data.txt\")  \n",
    "parsedData = data.map(lambda line: array([float(x) for x in line.split(' ')]))\n",
    "\n",
    "# Build the model (cluster the data)\n",
    "clusters = KMeans.train(parsedData, 2, maxIterations=10,\n",
    "        runs=10, initializationMode=\"random\")\n",
    "\n",
    "# Evaluate clustering by computing Within Set Sum of Squared Errors\n",
    "def error(point):\n",
    "    center = clusters.centers[clusters.predict(point)]\n",
    "    return sqrt(sum([x**2 for x in (point - center)]))\n",
    "\n",
    "WSSSE = parsedData.map(lambda point: error(point)).reduce(lambda x, y: x + y)\n",
    "print(\"Within Set Sum of Squared Error = \" + str(WSSSE))\n",
    "\n",
    "# Save and load model\n",
    "clusters.save(sc, \"myModelPath\")\n",
    "sameModel = KMeansModel.load(sc, \"myModelPath\")\n",
    "\n",
    "</pre>\n",
    "\n",
    "__NOTE__ <p> The  __kmeans_data.txt__ is available here https://www.dropbox.com/s/q85t0ytb9apggnh/kmeans_data.txt?dl=0 \n",
    "\n",
    "__TASKS__\n",
    "* Run this code snippet and list the clusters that your find.\n",
    "* compute the Within Set Sum of Squared Errors for the found clusters. Comment on your findings."
   ]
  },
  {
   "cell_type": "code",
   "execution_count": 132,
   "metadata": {
    "collapsed": false
   },
   "outputs": [
    {
     "name": "stdout",
     "output_type": "stream",
     "text": [
      "Within Set Sum of Squared Error = 0.692820323028\n"
     ]
    }
   ],
   "source": [
    "from pyspark.mllib.clustering import KMeans, KMeansModel\n",
    "from numpy import array\n",
    "from math import sqrt\n",
    "\n",
    "\n",
    "# Load and parse the data\n",
    "# NOTE  kmeans_data.txt is available here \n",
    "#          https://www.dropbox.com/s/q85t0ytb9apggnh/kmeans_data.txt?dl=0 \n",
    "data = sc.textFile(\"kmeans_data.txt\").cache()\n",
    "parsedData = data.map(lambda line: array([float(x) for x in line.split(' ')]))\n",
    "\n",
    "# Build the model (cluster the data)\n",
    "clusters = KMeans.train(parsedData, 2, maxIterations=10,\n",
    "        runs=10, initializationMode=\"random\")\n",
    "\n",
    "# Evaluate clustering by computing Within Set Sum of Squared Errors\n",
    "def error(point):\n",
    "    center = clusters.centers[clusters.predict(point)]\n",
    "    return sqrt(sum([x**2 for x in (point - center)]))\n",
    "\n",
    "WSSSE = parsedData.map(lambda point: error(point)).reduce(lambda x, y: x + y)\n",
    "print(\"Within Set Sum of Squared Error = \" + str(WSSSE))\n",
    "\n",
    "# Save and load model\n",
    "sameModel = clusters\n",
    "#clusters.save(sc, \"myModelPath\")\n",
    "#sameModel = KMeansModel.load(sc, \"myModelPath\")\n"
   ]
  },
  {
   "cell_type": "code",
   "execution_count": 133,
   "metadata": {
    "collapsed": false
   },
   "outputs": [
    {
     "name": "stdout",
     "output_type": "stream",
     "text": [
      "Clusters:  ['[ 9.1  9.1  9.1]', '[ 0.1  0.1  0.1]']\n",
      "WSSSE:  0.692820323028\n"
     ]
    }
   ],
   "source": [
    "print \"Clusters: \", map(str,sameModel.clusterCenters)\n",
    "print \"WSSSE: \", WSSSE"
   ]
  },
  {
   "cell_type": "markdown",
   "metadata": {
    "collapsed": true
   },
   "source": [
    "Comment Here"
   ]
  },
  {
   "cell_type": "markdown",
   "metadata": {},
   "source": [
    "<a name=\"HW10.3\"><h2 style=\"color:darkgreen\"> HW10.3: Homegrown KMeans in Spark </h2>\n",
    "[Back to Table of Contents](#TOC)\n",
    "\n",
    "Download the following KMeans [notebook](http://nbviewer.jupyter.org/urls/dl.dropbox.com/s/3nsthvp8g2rrrdh/EM-Kmeans.ipynb).\n",
    "\n",
    "Generate 3 clusters with 100 (one hundred) data points per cluster (using the code provided). Plot the data.\n",
    "Then run MLlib's Kmean implementation on this data  and report your results as follows:\n",
    "\n",
    "* plot the resulting clusters after 1 iteration, 10 iterations, after 20 iterations, after 100 iterations.\n",
    "* in each plot please report the Within Set Sum of Squared Errors for the found clusters (as part of the title WSSSE). Comment on the progress of this measure as  the KMEans algorithms runs for more iterations. Then plot the WSSSE as a function of the iteration (1, 10, 20, 30, 40, 50, 100).\n",
    "\n"
   ]
  },
  {
   "cell_type": "markdown",
   "metadata": {},
   "source": [
    "Data Generation"
   ]
  },
  {
   "cell_type": "code",
   "execution_count": 110,
   "metadata": {
    "collapsed": true
   },
   "outputs": [],
   "source": [
    "%matplotlib inline\n",
    "import numpy as np\n",
    "import pylab \n",
    "import json\n",
    "size1 = size2 = size3 = 100\n",
    "samples1 = np.random.multivariate_normal([4, 0], [[1, 0],[0, 1]], size1)\n",
    "data = samples1\n",
    "samples2 = np.random.multivariate_normal([6, 6], [[1, 0],[0, 1]], size2)\n",
    "data = np.append(data,samples2, axis=0)\n",
    "samples3 = np.random.multivariate_normal([0, 4], [[1, 0],[0, 1]], size3)\n",
    "data = np.append(data,samples3, axis=0)\n",
    "# Randomlize data\n",
    "data = data[np.random.permutation(size1+size2+size3),]\n",
    "np.savetxt('data.csv',data,delimiter = ',')"
   ]
  },
  {
   "cell_type": "markdown",
   "metadata": {},
   "source": [
    "# Data Visualiazation"
   ]
  },
  {
   "cell_type": "code",
   "execution_count": 111,
   "metadata": {
    "collapsed": false
   },
   "outputs": [
    {
     "data": {
      "image/png": "[encoded data removed]",
      "text/plain": [
       "<matplotlib.figure.Figure at 0x7f6378059f10>"
      ]
     },
     "metadata": {},
     "output_type": "display_data"
    }
   ],
   "source": [
    "pylab.plot(samples1[:, 0], samples1[:, 1],'*', color = 'red')\n",
    "pylab.plot(samples2[:, 0], samples2[:, 1],'o',color = 'blue')\n",
    "pylab.plot(samples3[:, 0], samples3[:, 1],'+',color = 'green')\n",
    "pylab.show()"
   ]
  },
  {
   "cell_type": "code",
   "execution_count": 112,
   "metadata": {
    "collapsed": true
   },
   "outputs": [],
   "source": [
    "import numpy as np\n",
    "\n",
    "#Calculate which class each data point belongs to\n",
    "def nearest_centroid(line):\n",
    "    x = np.array([float(f) for f in line.split(',')])\n",
    "    closest_centroid_idx = np.sum((x - centroids)**2, axis=1).argmin()\n",
    "    return (closest_centroid_idx,(x,1))\n",
    "\n",
    "#plot centroids and data points for each iteration\n",
    "def plot_iteration(means):\n",
    "    pylab.plot(samples1[:, 0], samples1[:, 1], '.', color = 'blue')\n",
    "    pylab.plot(samples2[:, 0], samples2[:, 1], '.', color = 'blue')\n",
    "    pylab.plot(samples3[:, 0], samples3[:, 1],'.', color = 'blue')\n",
    "    pylab.plot(means[0][0], means[0][1],'*',markersize =10,color = 'red')\n",
    "    pylab.plot(means[1][0], means[1][1],'*',markersize =10,color = 'red')\n",
    "    pylab.plot(means[2][0], means[2][1],'*',markersize =10,color = 'red')\n",
    "    pylab.show()"
   ]
  },
  {
   "cell_type": "code",
   "execution_count": 113,
   "metadata": {
    "collapsed": false,
    "scrolled": true
   },
   "outputs": [
    {
     "name": "stdout",
     "output_type": "stream",
     "text": [
      "Iteration1\n",
      "WSSSE = 692.042\n",
      "[[ 0.  0.]\n",
      " [ 2.  2.]\n",
      " [ 0.  7.]]\n"
     ]
    },
    {
     "data": {
      "image/png": "[encoded data removed]",
      "text/plain": [
       "<matplotlib.figure.Figure at 0x7f634d0ace90>"
      ]
     },
     "metadata": {},
     "output_type": "display_data"
    },
    {
     "name": "stdout",
     "output_type": "stream",
     "text": [
      "Iteration10\n",
      "WSSSE = 387.242\n",
      "[[ 0.10380909  3.77016852]\n",
      " [ 3.86435207  0.14896994]\n",
      " [ 6.09151556  6.03661616]]\n"
     ]
    },
    {
     "data": {
      "image/png": "[encoded data removed]",
      "text/plain": [
       "<matplotlib.figure.Figure at 0x7f63540ebed0>"
      ]
     },
     "metadata": {},
     "output_type": "display_data"
    },
    {
     "name": "stdout",
     "output_type": "stream",
     "text": [
      "Iteration20\n",
      "WSSSE = 387.242\n",
      "[[ 0.10380909  3.77016852]\n",
      " [ 3.86435207  0.14896994]\n",
      " [ 6.09151556  6.03661616]]\n"
     ]
    },
    {
     "data": {
      "image/png": "[encoded data removed]",
      "text/plain": [
       "<matplotlib.figure.Figure at 0x7f635408b090>"
      ]
     },
     "metadata": {},
     "output_type": "display_data"
    },
    {
     "name": "stdout",
     "output_type": "stream",
     "text": [
      "Iteration100\n",
      "WSSSE = 387.242\n",
      "[[ 0.10380909  3.77016852]\n",
      " [ 3.86435207  0.14896994]\n",
      " [ 6.09151556  6.03661616]]\n"
     ]
    },
    {
     "data": {
      "image/png": "[encoded data removed]",
      "text/plain": [
       "<matplotlib.figure.Figure at 0x7f634d178510>"
      ]
     },
     "metadata": {},
     "output_type": "display_data"
    },
    {
     "name": "stdout",
     "output_type": "stream",
     "text": [
      "Final Results:\n",
      "[[ 0.10380909  3.77016852]\n",
      " [ 3.86435207  0.14896994]\n",
      " [ 6.09151556  6.03661616]]\n"
     ]
    }
   ],
   "source": [
    "errorPlot = []\n",
    "K = 3\n",
    "# Initialization: initialization of parameter is fixed to show an example\n",
    "centroids = np.array([[0.0,0.0],[2.0,2.0],[0.0,7.0]])\n",
    "\n",
    "data = sc.textFile(\"data.csv\").cache()\n",
    "iter_num = 0\n",
    "for i in range(100): \n",
    "    iter_num = iter_num + 1 \n",
    "    parsedData = data.map(lambda line: array([float(x) for x in line.split(',')]))\n",
    "\n",
    "    # Build the model (cluster the data)\n",
    "    clusters = KMeans.train(parsedData, 3, maxIterations=iter_num,\n",
    "            runs=10, initializationMode=\"random\")\n",
    "\n",
    "    # Evaluate clustering by computing Within Set Sum of Squared Errors\n",
    "    def error(point):\n",
    "        center = clusters.centers[clusters.predict(point)]\n",
    "        return sqrt(sum([x**2 for x in (point - center)]))\n",
    "\n",
    "    WSSSE = parsedData.map(lambda point: error(point)).reduce(lambda x, y: x + y)\n",
    "    errorPlot.append(WSSSE)\n",
    "\n",
    "    if (iter_num == 1 or iter_num==10 or iter_num==20 or iter_num ==100):\n",
    "        print \"Iteration\" + str(iter_num)\n",
    "        print \"WSSSE = %.3f\" % WSSSE\n",
    "\n",
    "        print centroids\n",
    "        plot_iteration(centroids)\n",
    "    centroids = centroids_new\n",
    "print \"Final Results:\"\n",
    "print centroids"
   ]
  },
  {
   "cell_type": "markdown",
   "metadata": {},
   "source": [
    "## Plot WSSSE"
   ]
  },
  {
   "cell_type": "code",
   "execution_count": 115,
   "metadata": {
    "collapsed": false
   },
   "outputs": [
    {
     "data": {
      "text/plain": [
       "[<matplotlib.lines.Line2D at 0x7f63540f0e90>]"
      ]
     },
     "execution_count": 115,
     "metadata": {},
     "output_type": "execute_result"
    },
    {
     "data": {
      "image/png": "[encoded data removed]",
      "text/plain": [
       "<matplotlib.figure.Figure at 0x7f634d204650>"
      ]
     },
     "metadata": {},
     "output_type": "display_data"
    }
   ],
   "source": [
    "pylab.plot(list(range(1,101)), errorPlot,'o', color = 'red')\n"
   ]
  },
  {
   "cell_type": "markdown",
   "metadata": {},
   "source": [
    "This chart shows that the WSSSE is mostly flat, but occasionally veers off seemingly at random.  In theory, the WSSSE should decrease or remain approximately constant with each iteration.  Seeing the WSSSE go from 400 to 750 and back then to 400 suggests that there's some sort of problem here.  \n",
    "\n",
    "I don't know how the MLLib package in Spark works, but my guess would be that there is some sort of synchronization issue between the different machines in the cluster."
   ]
  },
  {
   "cell_type": "markdown",
   "metadata": {},
   "source": [
    "<a name=\"HW10.4\"><h2 style=\"color:darkblue\"> HW10.4: KMeans Experiments  </h2>\n",
    "[Back to Table of Contents](#TOC)\n",
    "\n",
    "Using this provided [homegrown Kmeans code](http://nbviewer.jupyter.org/urls/dl.dropbox.com/s/3nsthvp8g2rrrdh/EM-Kmeans.ipynb)   repeat the experiments in HW10.3. Explain any differences between the results in HW10.3 and HW10.4. "
   ]
  },
  {
   "cell_type": "markdown",
   "metadata": {},
   "source": [
    "## Distributed KMeans in Spark"
   ]
  },
  {
   "cell_type": "code",
   "execution_count": 116,
   "metadata": {
    "collapsed": false
   },
   "outputs": [
    {
     "name": "stdout",
     "output_type": "stream",
     "text": [
      "Iteration1\n",
      "WSSSE = 1116.063\n",
      "[[ 0.  0.]\n",
      " [ 2.  2.]\n",
      " [ 0.  7.]]\n"
     ]
    },
    {
     "data": {
      "image/png": "[encoded data removed]",
      "text/plain": [
       "<matplotlib.figure.Figure at 0x7f63540bda10>"
      ]
     },
     "metadata": {},
     "output_type": "display_data"
    },
    {
     "name": "stdout",
     "output_type": "stream",
     "text": [
      "Iteration10\n",
      "WSSSE = 387.242\n",
      "[[ 4.17952284 -0.02090319]\n",
      " [ 6.11794239  6.18078708]\n",
      " [ 0.06590989  4.17708761]]\n"
     ]
    },
    {
     "data": {
      "image/png": "[encoded data removed]",
      "text/plain": [
       "<matplotlib.figure.Figure at 0x7f63541568d0>"
      ]
     },
     "metadata": {},
     "output_type": "display_data"
    },
    {
     "name": "stdout",
     "output_type": "stream",
     "text": [
      "Iteration20\n",
      "WSSSE = 387.242\n",
      "[[ 4.17952284 -0.02090319]\n",
      " [ 6.11794239  6.18078708]\n",
      " [ 0.06590989  4.17708761]]\n"
     ]
    },
    {
     "data": {
      "image/png": "[encoded data removed]",
      "text/plain": [
       "<matplotlib.figure.Figure at 0x7f63541308d0>"
      ]
     },
     "metadata": {},
     "output_type": "display_data"
    },
    {
     "name": "stdout",
     "output_type": "stream",
     "text": [
      "Iteration100\n",
      "WSSSE = 387.242\n",
      "[[ 4.17952284 -0.02090319]\n",
      " [ 6.11794239  6.18078708]\n",
      " [ 0.06590989  4.17708761]]\n"
     ]
    },
    {
     "data": {
      "image/png": "[encoded data removed]",
      "text/plain": [
       "<matplotlib.figure.Figure at 0x7f634cf6fdd0>"
      ]
     },
     "metadata": {},
     "output_type": "display_data"
    },
    {
     "name": "stdout",
     "output_type": "stream",
     "text": [
      "Final Results:\n",
      "[[ 4.17952284 -0.02090319]\n",
      " [ 6.11794239  6.18078708]\n",
      " [ 0.06590989  4.17708761]]\n"
     ]
    }
   ],
   "source": [
    "errorPlot = []\n",
    "K = 3\n",
    "# Initialization: initialization of parameter is fixed to show an example\n",
    "centroids = np.array([[0.0,0.0],[2.0,2.0],[0.0,7.0]])\n",
    "\n",
    "D = sc.textFile(\"data.csv\").cache()\n",
    "iter_num = 0\n",
    "for i in range(100):  \n",
    "    res = D.map(nearest_centroid).reduceByKey(lambda x,y : (x[0]+y[0],x[1]+y[1])).collect()\n",
    "    #res [(0, (array([  2.66546663e+00,   3.94844436e+03]), 1001)  ), \n",
    "    #     (2, (array([ 6023.84995923,  5975.48511018]), 1000)), \n",
    "    #     (1, (array([ 3986.85984761,    15.93153464]), 999))]\n",
    "    # res[1][1][1] returns 1000 here\n",
    "    res = sorted(res,key = lambda x : x[0])  #sort based on clusted ID\n",
    "    centroids_new = np.array([x[1][0]/x[1][1] for x in res])  #divide by cluster size\n",
    "    #if np.sum(np.absolute(centroids_new-centroids))<0.01:\n",
    "        #break\n",
    "    def error(line):\n",
    "        center = centroids[nearest_centroid(line)[0]]\n",
    "        x,y = line.split(',')\n",
    "        x = float(x)\n",
    "        y = float(y)\n",
    "        return sqrt((x-center[0])**2 + (y-center[1])**2)\n",
    "    WSSSE = D.map(error).reduce(lambda x, y: x + y)\n",
    "    errorPlot.append(WSSSE)\n",
    "    iter_num = iter_num + 1 \n",
    "\n",
    "    if (iter_num == 1 or iter_num==10 or iter_num==20 or iter_num ==100):\n",
    "        print \"Iteration\" + str(iter_num)\n",
    "        print \"WSSSE = %.3f\" % WSSSE\n",
    "\n",
    "        print centroids\n",
    "        plot_iteration(centroids)\n",
    "    centroids = centroids_new\n",
    "print \"Final Results:\"\n",
    "print centroids"
   ]
  },
  {
   "cell_type": "markdown",
   "metadata": {},
   "source": [
    "## Plot of WSSSE"
   ]
  },
  {
   "cell_type": "code",
   "execution_count": 117,
   "metadata": {
    "collapsed": false
   },
   "outputs": [
    {
     "data": {
      "text/plain": [
       "[<matplotlib.lines.Line2D at 0x7f634d049dd0>]"
      ]
     },
     "execution_count": 117,
     "metadata": {},
     "output_type": "execute_result"
    },
    {
     "data": {
      "image/png": "[encoded data removed]",
      "text/plain": [
       "<matplotlib.figure.Figure at 0x7f634d174b90>"
      ]
     },
     "metadata": {},
     "output_type": "display_data"
    }
   ],
   "source": [
    "pylab.plot(list(range(1,101)), errorPlot,'o', color = 'red')\n"
   ]
  },
  {
   "cell_type": "markdown",
   "metadata": {},
   "source": [
    "The homegrown KMeans code has a stable WSSSE that is decreasing during the first few iterations and then remains flat once the algorithm reaches convergence.  I don't know how the MLLib one works, but this reinforces my guess that the MLLib KMeans algoritm had synchronization issues.\n",
    "\n",
    "In the homegrown algorithm, we only used Spark to compute one iteration at a time.  After each iteration, we got the processed the new centroids on the client machine.  This type of barrier synchronization prevents different nodes in the Spark cluster from processing different centroid data.  \n",
    "\n",
    "But in the MLLib code, we had Spark perform all iterations in a single Spark job.  \n",
    "\n",
    "However, I'm going to bet that the MLLib algorithm is faster than our homegrown algorithm, since it doesn't need to keep on sending the centroids back and forth between the cluster machines, master, and client.  Likely, the  "
   ]
  },
  {
   "cell_type": "markdown",
   "metadata": {},
   "source": [
    "<a name=\"HW10.4.1\"><h2 style=\"color:darkblue\"> HW10.4.1: Making Homegrown KMeans more efficient  </h2>\n",
    "[Back to Table of Contents](#TOC)\n",
    "\n",
    "The above provided homegrown KMeans implentation in not the most efficient. How can you make it more efficient? Make this change in the code and show it work and comment on the gains you achieve. "
   ]
  },
  {
   "cell_type": "markdown",
   "metadata": {},
   "source": [
    "### HINT: have a look at  [this linear regression notebook](    http://nbviewer.jupyter.org/urls/dl.dropbox.com/s/atzqkc0p1eajuz6/LinearRegression-Notebook-Challenge.ipynb)"
   ]
  },
  {
   "cell_type": "code",
   "execution_count": 118,
   "metadata": {
    "collapsed": false
   },
   "outputs": [],
   "source": [
    "#As mentioned in the previous problem, the MLLib algorithm is probably faster \n",
    "# than the homegrown algorithm because the homegrown algorithm needs to send the\n",
    "# centroids back and forth between the worker nodes, master, and client.  \n",
    "#We can reduce back and forth between the worker and master nodes by by using\n",
    "# broadcasts instead of closures to pass centroid information\n",
    "\n",
    "\n",
    "import numpy as np\n",
    "from pyspark.mllib.clustering import KMeans, KMeansModel\n",
    "from numpy import array\n",
    "from math import sqrt\n",
    "\n",
    "#Rewritten to not use centroids in closure\n",
    "def nearest_centroid(line,centroids):\n",
    "    x = np.array([float(f) for f in line.split(',')])\n",
    "    closest_centroid_idx = np.sum((x - centroids)**2, axis=1).argmin()\n",
    "    return (closest_centroid_idx,(x,1))"
   ]
  },
  {
   "cell_type": "code",
   "execution_count": 121,
   "metadata": {
    "collapsed": false
   },
   "outputs": [
    {
     "name": "stdout",
     "output_type": "stream",
     "text": [
      "Iteration1\n",
      "WSSSE = 1116.063\n",
      "[[ 0.  0.]\n",
      " [ 2.  2.]\n",
      " [ 0.  7.]]\n"
     ]
    },
    {
     "data": {
      "image/png": "[encoded data removed]",
      "text/plain": [
       "<matplotlib.figure.Figure at 0x7f634d0ac050>"
      ]
     },
     "metadata": {},
     "output_type": "display_data"
    },
    {
     "name": "stdout",
     "output_type": "stream",
     "text": [
      "Iteration10\n",
      "WSSSE = 387.242\n",
      "[[ 4.17952284 -0.02090319]\n",
      " [ 6.11794239  6.18078708]\n",
      " [ 0.06590989  4.17708761]]\n"
     ]
    },
    {
     "data": {
      "image/png": "[encoded data removed]",
      "text/plain": [
       "<matplotlib.figure.Figure at 0x7f634cfbf2d0>"
      ]
     },
     "metadata": {},
     "output_type": "display_data"
    },
    {
     "name": "stdout",
     "output_type": "stream",
     "text": [
      "Iteration20\n",
      "WSSSE = 387.242\n",
      "[[ 4.17952284 -0.02090319]\n",
      " [ 6.11794239  6.18078708]\n",
      " [ 0.06590989  4.17708761]]\n"
     ]
    },
    {
     "data": {
      "image/png": "[encoded data removed]",
      "text/plain": [
       "<matplotlib.figure.Figure at 0x7f634d06a210>"
      ]
     },
     "metadata": {},
     "output_type": "display_data"
    },
    {
     "name": "stdout",
     "output_type": "stream",
     "text": [
      "Iteration100\n",
      "WSSSE = 387.242\n",
      "[[ 4.17952284 -0.02090319]\n",
      " [ 6.11794239  6.18078708]\n",
      " [ 0.06590989  4.17708761]]\n"
     ]
    },
    {
     "data": {
      "image/png": "[encoded data removed]",
      "text/plain": [
       "<matplotlib.figure.Figure at 0x7f634d165150>"
      ]
     },
     "metadata": {},
     "output_type": "display_data"
    },
    {
     "name": "stdout",
     "output_type": "stream",
     "text": [
      "Final Results:\n",
      "[[ 4.17952284 -0.02090319]\n",
      " [ 6.11794239  6.18078708]\n",
      " [ 0.06590989  4.17708761]]\n"
     ]
    }
   ],
   "source": [
    "errorPlot = []\n",
    "K = 3\n",
    "# Initialization: initialization of parameter is fixed to show an example\n",
    "centroids = np.array([[0.0,0.0],[2.0,2.0],[0.0,7.0]])\n",
    "\n",
    "D = sc.textFile(\"data.csv\").cache()\n",
    "iter_num = 0\n",
    "for i in range(100):  \n",
    "    #Store centroids in a broacast variable\n",
    "    wBroadCast = sc.broadcast(centroids)\n",
    "    #Retrieve centroids from broadcast variable\n",
    "    res = D.map(lambda m: nearest_centroid(m,wBroadCast.value)).reduceByKey(lambda x,y : (x[0]+y[0],x[1]+y[1])).collect()\n",
    "    #res [(0, (array([  2.66546663e+00,   3.94844436e+03]), 1001)  ), \n",
    "    #     (2, (array([ 6023.84995923,  5975.48511018]), 1000)), \n",
    "    #     (1, (array([ 3986.85984761,    15.93153464]), 999))]\n",
    "    # res[1][1][1] returns 1000 here\n",
    "    res = sorted(res,key = lambda x : x[0])  #sort based on clusted ID\n",
    "    centroids_new = np.array([x[1][0]/x[1][1] for x in res])  \n",
    "\n",
    "    #divide by cluster size\n",
    "    #if np.sum(np.absolute(centroids_new-centroids))<0.01:\n",
    "        #break\n",
    "    def error(line):\n",
    "        center = centroids[nearest_centroid(line,centroids)[0]]\n",
    "        x,y = line.split(',')\n",
    "        x = float(x)\n",
    "        y = float(y)\n",
    "        return sqrt((x-center[0])**2 + (y-center[1])**2)\n",
    "    WSSSE = D.map(error).reduce(lambda x, y: x + y)\n",
    "    errorPlot.append(WSSSE)\n",
    "    iter_num = iter_num + 1 \n",
    "\n",
    "    if (iter_num == 1 or iter_num==10 or iter_num==20 or iter_num ==100):\n",
    "        print \"Iteration\" + str(iter_num)\n",
    "        print \"WSSSE = %.3f\" % WSSSE\n",
    "\n",
    "        print centroids\n",
    "        plot_iteration(centroids)\n",
    "    centroids = centroids_new\n",
    "print \"Final Results:\"\n",
    "print centroids"
   ]
  },
  {
   "cell_type": "markdown",
   "metadata": {
    "collapsed": true
   },
   "source": [
    "## Plot of WSSSE"
   ]
  },
  {
   "cell_type": "code",
   "execution_count": 122,
   "metadata": {
    "collapsed": false
   },
   "outputs": [
    {
     "data": {
      "text/plain": [
       "[<matplotlib.lines.Line2D at 0x7f634cde99d0>]"
      ]
     },
     "execution_count": 122,
     "metadata": {},
     "output_type": "execute_result"
    },
    {
     "data": {
      "image/png": "[encoded data removed]",
      "text/plain": [
       "<matplotlib.figure.Figure at 0x7f635418dfd0>"
      ]
     },
     "metadata": {},
     "output_type": "display_data"
    }
   ],
   "source": [
    "pylab.plot(list(range(1,101)), errorPlot,'o', color = 'red')"
   ]
  },
  {
   "cell_type": "markdown",
   "metadata": {},
   "source": [
    "So we similar results to the previous problem.  I did not notice any gains in speed, but that could be because the dataset is so small."
   ]
  },
  {
   "cell_type": "markdown",
   "metadata": {},
   "source": [
    "<a name=\"HW10.5\"><h2 style=\"color:darkgreen\"> HW10.5: OPTIONAL Weighted KMeans  </h2>\n",
    "[Back to Table of Contents](#TOC)\n",
    "\n",
    "Using this provided [homegrown Kmeans code](http://nbviewer.jupyter.org/urls/dl.dropbox.com/s/3nsthvp8g2rrrdh/EM-Kmeans.ipynb), modify it to do a weighted KMeans and repeat the experiements in HW10.3. Explain  any differences between the results in HW10.3 and HW10.5.\n",
    "\n",
    "NOTE: Weight each example as follows using the inverse vector length (Euclidean norm): \n",
    "\n",
    "> weight(X)= 1/||X||, \n",
    "\n",
    "where ||X|| = SQRT(X.X)= SQRT(X1^2 + X2^2)\n",
    "\n",
    "Here X is vector made up of two values X1 and X2.\n",
    "\n",
    "__[Please incorporate all referenced notebooks directly into this master notebook as cells for HW submission. I.e., HW submissions should comprise of just one notebook]__"
   ]
  },
  {
   "cell_type": "code",
   "execution_count": 71,
   "metadata": {
    "collapsed": true
   },
   "outputs": [],
   "source": [
    "## Code goes here"
   ]
  },
  {
   "cell_type": "code",
   "execution_count": 72,
   "metadata": {
    "collapsed": true
   },
   "outputs": [],
   "source": [
    "## Drivers & Runners"
   ]
  },
  {
   "cell_type": "code",
   "execution_count": 73,
   "metadata": {
    "collapsed": true
   },
   "outputs": [],
   "source": [
    "## Run Scripts, S3 Sync"
   ]
  },
  {
   "cell_type": "markdown",
   "metadata": {},
   "source": [
    "<a name=\"HW10.6\"><h2 style=\"color:darkblue\"> HW10.6 OPTIONAL Linear Regression</h2>\n",
    "[Back to Table of Contents](#TOC)\n",
    "<a name=\"HW10.6.1\"><h2 style=\"color:darkblue\"> HW10.6.1 OPTIONAL Linear Regression</h2>\n",
    "[Back to Table of Contents](#TOC)\n",
    "\n",
    "Using [this linear regression notebook](    http://nbviewer.jupyter.org/urls/dl.dropbox.com/s/atzqkc0p1eajuz6/LinearRegression-Notebook-Challenge.ipynb):\n",
    "\n",
    "\n",
    "* Generate 2 sets of data with 100 data points using the data generation code provided and plot each in separate plots. Call one the training set and the other the testing set.\n",
    "\n",
    "* Using MLLib's LinearRegressionWithSGD train up a linear regression model with the training dataset and evaluate with the testing set. What a good number of iterations for training the linear regression model? Justify with plots (e.g., plot MSE as a function of the number of iterations) and words. \n"
   ]
  },
  {
   "cell_type": "markdown",
   "metadata": {},
   "source": [
    "<a name=\"HW10.6.2\"><h2 style=\"color:darkblue\"> HW10.6.2 OPTIONAL Linear Regression</h2>\n",
    "[Back to Table of Contents](#TOC)\n",
    "\n",
    "In the notebook provided above, in the cell labeled \"Gradient descent (regularization)\".\n",
    "\n",
    "* Fill in the blanks and get this code to work for LASS0 and RIDGE linear regression.\n",
    "\n",
    "* Using the data from HW10.6.1 tune the hyper parameters of your LASS0 and RIDGE regression. Report your findings with words and plots."
   ]
  },
  {
   "cell_type": "code",
   "execution_count": 74,
   "metadata": {
    "collapsed": true
   },
   "outputs": [],
   "source": [
    "## Code goes here"
   ]
  },
  {
   "cell_type": "code",
   "execution_count": 75,
   "metadata": {
    "collapsed": true
   },
   "outputs": [],
   "source": [
    "## Drivers & Runners"
   ]
  },
  {
   "cell_type": "code",
   "execution_count": 76,
   "metadata": {
    "collapsed": true
   },
   "outputs": [],
   "source": [
    "## Run Scripts, S3 Sync"
   ]
  },
  {
   "cell_type": "markdown",
   "metadata": {},
   "source": [
    "<a name=\"HW10.7\"><h2 style=\"color:darkgreen\"> HW10.7 OPTIONAL Error surfaces </h2>\n",
    "[Back to Table of Contents](#TOC)\n",
    "\n",
    "Here is a link to R code with 1 test drivers that plots the linear regression model in  model space and in the domain space:\n",
    "\n",
    "> https://www.dropbox.com/s/3xc3kwda6d254l5/PlotModelAndDomainSpaces.R?dl=0\n",
    "\n",
    "Here is a sample output from this script: \n",
    "      \n",
    "> https://www.dropbox.com/s/my3tnhxx7fr5qs0/image%20%281%29.png?dl=0\n",
    "\n",
    "Please use this as inspiration and code a equivalent error surface and heatmap (with isolines) in Spark and show the trajectory of learning taken during gradient descent(after each n-iterations of Gradient Descent):\n",
    "\n",
    "\n",
    "Using Spark and  Python (using the above R Script as inspiration), plot the error surface for the linear regression model using a heatmap and contour plot. \n",
    "Also plot the current model in the original domain space for every 10th iteration.  Plot them side by side if possible  for each iteration: lefthand side plot is the model space(w0 and w01) and the righthand side plot is domain space (plot the corresponding model and training data in the problem domain space) with a final pair of graphs showing the entire trajectory in the model and domain space. Make sure to label your plots with iteration numbers, function, model space versus original domain space, MSE on the training data etc.\n",
    "\n",
    "Also plot the MSE as a function of each iteration (possibly every 10th iteration). Dont forget to label both axis and the graph also. __[Please incorporate all referenced notebooks directly into this master notebook as cells for HW submission. I.e., HW submissions should comprise of just one notebook]__\n",
    "\n",
    "\n",
    "\n"
   ]
  },
  {
   "cell_type": "code",
   "execution_count": 77,
   "metadata": {
    "collapsed": true
   },
   "outputs": [],
   "source": [
    "## Code goes here"
   ]
  },
  {
   "cell_type": "code",
   "execution_count": 78,
   "metadata": {
    "collapsed": true
   },
   "outputs": [],
   "source": [
    "## Drivers & Runners"
   ]
  },
  {
   "cell_type": "code",
   "execution_count": 79,
   "metadata": {
    "collapsed": true
   },
   "outputs": [],
   "source": [
    "## Run Scripts, S3 Sync"
   ]
  },
  {
   "cell_type": "markdown",
   "metadata": {},
   "source": [
    "[Back to Table of Contents](#TOC)\n",
    "<center><div class='jumbotron'><h2 style='color:green'>-------  END OF HOWEWORK --------</h2></div></center>"
   ]
  },
  {
   "cell_type": "code",
   "execution_count": null,
   "metadata": {
    "collapsed": true
   },
   "outputs": [],
   "source": []
  }
 ],
 "metadata": {
  "kernelspec": {
   "display_name": "Python 2",
   "language": "python",
   "name": "python2"
  },
  "language_info": {
   "codemirror_mode": {
    "name": "ipython",
    "version": 2
   },
   "file_extension": ".py",
   "mimetype": "text/x-python",
   "name": "python",
   "nbconvert_exporter": "python",
   "pygments_lexer": "ipython2",
   "version": "2.7.12"
  }
 },
 "nbformat": 4,
 "nbformat_minor": 0
}
